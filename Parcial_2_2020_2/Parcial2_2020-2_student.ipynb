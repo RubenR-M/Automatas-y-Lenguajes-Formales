{
 "cells": [
  {
   "cell_type": "markdown",
   "metadata": {},
   "source": [
    "# Parcial 2: Gramáticas independientes del contexto\n",
    "\n",
    "**Autómatas y Lenguajes Formales**\n",
    "\n",
    "**Profesor: Gustavo Garzón**\n",
    "\n",
    "**Escuela de Ingeniería de Sistemas e Informática** \n",
    "\n",
    "_Enero de 2021_"
   ]
  },
  {
   "cell_type": "markdown",
   "metadata": {},
   "source": [
    "- Este examen práctico está compuesto por 4 puntos.\n",
    "- En cada punto presentado, implemente el código del autómata finito a partir del diagrama de transiciones correspondiente.\n",
    "- Recuerde NO borrar la cabecera de cada celda **Code**.\n",
    "- Se recomienda utilizar la herramienta JFLAP ó \"Finite State Machine Designer\" ( https://www.cs.unc.edu/~otternes/comp455/fsm_designer/ ) para diseñar los diagramas de estados."
   ]
  },
  {
   "cell_type": "markdown",
   "metadata": {},
   "source": [
    "<div style=\"height:100px;\"></div>"
   ]
  },
  {
   "cell_type": "markdown",
   "metadata": {},
   "source": [
    "<h2><span style=\"color:#FFF; background-color:#F00; font-weight:bold; padding:4px;\">¡IMPORTANTE!</span> Ejecute esta celda para iniciar la actividad</h2>"
   ]
  },
  {
   "cell_type": "code",
   "execution_count": null,
   "metadata": {
    "collapsed": true
   },
   "outputs": [],
   "source": [
    "!chmod 777 empaquetar.sh run utils/*"
   ]
  },
  {
   "cell_type": "markdown",
   "metadata": {},
   "source": [
    "<h2><span style=\"color:#FFF; background-color:#F00; font-weight:bold; padding:4px;\">¡IMPORTANTE!</span></h2><br><h2 style=\"margin-top:-10px;\">Usted debe ejecutar <span style=\"color:#F00;\">TODAS</span> las celdas de tipo <span style=\"color:#F00;\">CODE</span>. De lo contrario, sus respuestas no serán procesadas correctamente.</h2>"
   ]
  },
  {
   "cell_type": "markdown",
   "metadata": {},
   "source": [
    "<div style=\"height:100px;\"></div>"
   ]
  },
  {
   "cell_type": "markdown",
   "metadata": {},
   "source": [
    "# Desde Autómatas finitos hacia expresiones regulares (AF $\\to$ ER)"
   ]
  },
  {
   "cell_type": "markdown",
   "metadata": {},
   "source": [
    "<b>1)</b> A partir del siguiente NFA, obtenga la expresión regular correspondiente.<br>\n",
    "Utilice el método <b style=\"color:red;\">que usted prefiera</b> (eliminación de etiquetas/estados o método recursivo):"
   ]
  },
  {
   "cell_type": "markdown",
   "metadata": {},
   "source": [
    "<img src=\"files/p02-p01.png\" width=\"500\" />"
   ]
  },
  {
   "cell_type": "markdown",
   "metadata": {},
   "source": [
    "- Recuerde que DEBE convertir el autómata dado a un DFA.<br>Adjunte el diagrama de transiciones del DFA:"
   ]
  },
  {
   "cell_type": "markdown",
   "metadata": {},
   "source": [
    "<img src=\"files/punto_1.png\" width=\"600\" />"
   ]
  },
  {
   "cell_type": "markdown",
   "metadata": {},
   "source": [
    "- Obtenga la Expresión Regular total del autómata DFA dado:"
   ]
  },
  {
   "cell_type": "markdown",
   "metadata": {},
   "source": [
    "<b>$ER_1 =$</b> $ac^{*}b$ <br>\n",
    "<b>$ER_2 =$</b> $ca^{*}d$ <br>\n",
    "<br>\n",
    "<b>$ER_{TOTAL} = $</b> $ac^{*}b + ca^{*}d$"
   ]
  },
  {
   "cell_type": "markdown",
   "metadata": {},
   "source": [
    "<div style=\"height:100px;\"></div>"
   ]
  },
  {
   "cell_type": "markdown",
   "metadata": {},
   "source": [
    "# Minimización de autómatas"
   ]
  },
  {
   "cell_type": "markdown",
   "metadata": {},
   "source": [
    "<b>2)</b> Obtenga el autómata con el mínimo número de estados que es equivalente al siguiente AFD:"
   ]
  },
  {
   "cell_type": "markdown",
   "metadata": {},
   "source": [
    "<table>\n",
    "<tr>\n",
    "<td></td>\n",
    "<td width=\"60\">$a$</td>\n",
    "<td width=\"60\">$b$</td>\n",
    "</tr>\n",
    "\n",
    "<tr>\n",
    "<td>$\\rightarrow q_0$</td>\n",
    "<td>$q_1$</td>\n",
    "<td>$q_4$</td>\n",
    "</tr>\n",
    "\n",
    "<tr>\n",
    "<td>$q_1$</td>\n",
    "<td>$q_5$</td>\n",
    "<td>$q_2$</td>\n",
    "</tr>\n",
    "\n",
    "<tr>\n",
    "<td>$* q_2$</td>\n",
    "<td>$q_0$</td>\n",
    "<td>$q_2$</td>\n",
    "</tr>\n",
    "\n",
    "<tr>\n",
    "<td>$q_3$</td>\n",
    "<td>$q_6$</td>\n",
    "<td>$q_4$</td>\n",
    "</tr>\n",
    "\n",
    "<tr>\n",
    "<td>$q_4$</td>\n",
    "<td>$q_2$</td>\n",
    "<td>$q_5$</td>\n",
    "</tr>\n",
    "\n",
    "<tr>\n",
    "<td>$q_5$</td>\n",
    "<td>$q_5$</td>\n",
    "<td>$q_3$</td>\n",
    "</tr>\n",
    "\n",
    "<tr>\n",
    "<td>$q_6$</td>\n",
    "<td>$q_5$</td>\n",
    "<td>$q_2$</td>\n",
    "</tr>\n",
    "</table>"
   ]
  },
  {
   "cell_type": "markdown",
   "metadata": {},
   "source": [
    "Para este punto <b>DEBE</b> utilizar el teorema de <u>MyHill-Nerode</u>:\n",
    "- Tabla de estados distinguibles:"
   ]
  },
  {
   "cell_type": "markdown",
   "metadata": {},
   "source": [
    "|$q_{1}$|  $x$  |\n",
    "|:-:|:-:|:-:|:-:|:-:|:-:|:-:|:-:|\n",
    "|$q_{2}$|  $x$  |  $x$  |\n",
    "|$q_{3}$|  $ $  |  $x$  |  $x$  |\n",
    "|$q_{4}$|  $x$  |  $x$  |  $x$  |  $x$  |\n",
    "|$q_{5}$|  $x$  |  $x$  |  $x$  |  $x$  |  $x$  |\n",
    "|$q_{6}$|  $x$  |  $ $  |  $x$  |  $x$  |  $x$  |  $x$  |\n",
    "|       |$q_{0}$|$q_{1}$|$q_{2}$|$q_{3}$|$q_{4}$|$q_{5}$|\n"
   ]
  },
  {
   "cell_type": "markdown",
   "metadata": {},
   "source": [
    "{q0q3},{q1q6},{q2},{q4},{q5}"
   ]
  },
  {
   "cell_type": "markdown",
   "metadata": {},
   "source": [
    "- El diagrama de transiciones del autómata con el <span style=\"font-size:18px;font-weight:bold;color:blue;\">mínimo número de estados</span>:"
   ]
  },
  {
   "cell_type": "markdown",
   "metadata": {},
   "source": [
    "<img src=\"files/punto_2.png\" width=\"500\" />"
   ]
  },
  {
   "cell_type": "markdown",
   "metadata": {},
   "source": [
    "- Implementación del autómata con el <span style=\"font-size:18px;font-weight:bold;color:blue;\">mínimo número de estados</span> utilizando _automatalib_:"
   ]
  },
  {
   "cell_type": "code",
   "execution_count": 1,
   "metadata": {},
   "outputs": [],
   "source": [
    "def ejercicio():\n",
    "    from automatalib.fa.dfa import DFA\n",
    "\n",
    "    d = DFA(\n",
    "        states={'q0q3', 'q1q6', 'q2', 'q4','q5'},\n",
    "        input_symbols={'a', 'b'},\n",
    "        transitions={\n",
    "            'q0q3':{'a':'q1q6','b':'q4'},\n",
    "            'q1q6':{'a':'q5','b':'q2'},\n",
    "            'q2':{'a':'q0q3','b':'q2'},\n",
    "            'q4':{'a':'q2','b':'q5'},\n",
    "            'q5':{'a':'q5','b':'q0q3'}\n",
    "        },\n",
    "        initial_state='q0q3',\n",
    "        final_states={'q2'}\n",
    "    )\n",
    "\n",
    "    return d\n",
    "\n",
    "import urllib, urllib.parse, inspect\n",
    "src0 = urllib.parse.quote_plus(inspect.getsource(ejercicio))"
   ]
  },
  {
   "cell_type": "markdown",
   "metadata": {},
   "source": [
    "\n",
    "|PALABRAS ACEPTADAS $\\hspace{1.0cm}$ |  PALABRAS RECHAZADAS $\\hspace{1.0cm}$|\n",
    "|------------------------------------|--------------------------------------|\n",
    "|$bab \\hspace{0.1cm}$  |$bbab \\hspace{0.1cm}       $    |\n",
    "|$abb  $                 |$aab \\hspace{0.1cm}                $    |\n",
    "|$aabba  $              |$aaabbb \\hspace{0.1cm} $              |\n",
    "|$abaab  $                   |$baaa \\hspace{0.1cm} $               |\n",
    "|$baaabb  $                         |$abbaa \\hspace{0.1cm} $           |\n",
    " "
   ]
  },
  {
   "cell_type": "markdown",
   "metadata": {},
   "source": [
    "#### Evalue su respuesta antes de subirla:"
   ]
  },
  {
   "cell_type": "code",
   "execution_count": 145,
   "metadata": {},
   "outputs": [
    {
     "name": "stdout",
     "output_type": "stream",
     "text": [
      "testing wrong word:  the DFA stopped on a non-final state (q0q3)\r\n",
      "testing wrong word:  the DFA stopped on a non-final state (q0q3)\r\n",
      "testing wrong word:  the DFA stopped on a non-final state (q5)\r\n",
      "testing wrong word:  the DFA stopped on a non-final state (q1q6)\r\n",
      "testing wrong word:  the DFA stopped on a non-final state (q1q6)\r\n",
      "evaluation result CORRECT\r\n"
     ]
    }
   ],
   "source": [
    "!./run CHECK_SOLUTION Examen2_0 $src0"
   ]
  },
  {
   "cell_type": "markdown",
   "metadata": {},
   "source": [
    "<div style=\"height:100px;\"></div>"
   ]
  },
  {
   "cell_type": "markdown",
   "metadata": {},
   "source": [
    "# Gramáticas independientes del contexto"
   ]
  },
  {
   "cell_type": "markdown",
   "metadata": {},
   "source": [
    "<b>3)</b> Diseñe las gramáticas independientes del contexto para los siguientes lenguajes utilizando la librería nltk (utilizar la sintaxis vista en clase) y determinar los árboles de derivación:"
   ]
  },
  {
   "cell_type": "markdown",
   "metadata": {},
   "source": [
    "- $L = \\{ \\enspace uu(st)^{+} \\enspace + \\enspace r^{*}(ss)^{+}t \\enspace \\} \\quad $ sobre $\\quad \\Sigma = \\{ r, s, t, u \\}$"
   ]
  },
  {
   "cell_type": "code",
   "execution_count": 146,
   "metadata": {},
   "outputs": [],
   "source": [
    "def ejercicio1():\n",
    "    import nltk\n",
    "    from nltk import CFG\n",
    "    from nltk.parse.generate import generate\n",
    "\n",
    "    cfg = CFG.fromstring(\"\"\"\n",
    "          S -> 'u' 'u' T | R X 't'\n",
    "          T -> 's' 't' T | 's' 't'\n",
    "          R -> 'r' R |\n",
    "          X -> 's' 's' X | 's' 's'\n",
    "    \"\"\")\n",
    "    grammar = list(generate(cfg, depth=5))\n",
    "    for i in range(len(grammar)):\n",
    "        grammar[i] = ''.join(grammar[i])\n",
    "    return cfg,grammar\n",
    "\n",
    "import urllib, urllib.parse, inspect \n",
    "src1 = urllib.parse.quote_plus(inspect.getsource(ejercicio1))"
   ]
  },
  {
   "cell_type": "markdown",
   "metadata": {},
   "source": [
    "<span style=\"font-style:italic; color:blue;\"><span style=\"font-size:18px;font-weight:bold;text-decoration:underline;\">Nota:</span> según la lógica de la gramática desarrollada, la producción de las palabras puede generarse con diferentes profundidades (parametro **depth**). Si no le funciona con el parametro **depth** actual, intente probar en una celda aparte con otras profundidades para verificar la producción de las palabras de la tabla.<span><br><br><br>"
   ]
  },
  {
   "cell_type": "markdown",
   "metadata": {},
   "source": [
    "Determine los árboles de derivación para las primeras dos palabras aceptadas:"
   ]
  },
  {
   "cell_type": "code",
   "execution_count": 147,
   "metadata": {},
   "outputs": [
    {
     "name": "stdout",
     "output_type": "stream",
     "text": [
      "(S u u s t)\n",
      "     S             \n",
      "  ___|_______       \n",
      " |   |       T     \n",
      " |   |    ___|___   \n",
      " u   u   s       t \n",
      "\n",
      "None\n",
      "(S r s s t)\n",
      "             S             \n",
      "  ___________|_______       \n",
      " |       R           |     \n",
      " |    ___|___        |      \n",
      " |   |       R       X     \n",
      " |   |       |    ___|___   \n",
      " t   r      ...  s       s \n",
      "\n",
      "None\n"
     ]
    }
   ],
   "source": [
    "import nltk\n",
    "from nltk import CFG\n",
    "from nltk.parse.generate import generate \n",
    "\n",
    "result = ejercicio1()\n",
    "sent = ['u','u','s','t']\n",
    "parser = nltk.ChartParser(result[0])\n",
    "for tree in parser.parse(sent): \n",
    "    print(tree.flatten())\n",
    "    print(tree.pretty_print())\n",
    "\n",
    "sent = ['r','s','s','t']\n",
    "parser = nltk.ChartParser(result[0])\n",
    "for tree in parser.parse(sent): \n",
    "    print(tree.flatten())\n",
    "    print(tree.pretty_print())"
   ]
  },
  {
   "cell_type": "markdown",
   "metadata": {},
   "source": [
    "\n",
    "|PALABRAS ACEPTADAS $\\hspace{1.0cm}$ |  PALABRAS RECHAZADAS $\\hspace{1.0cm}$|\n",
    "|------------------------------------|--------------------------------------|\n",
    "|$uust   \\hspace{0.1cm}$               |$uusts  \\hspace{0.1cm}       $    |\n",
    "|$rsst $         |$rssst  \\hspace{0.1cm} $   |\n",
    "|$uustst $                           |$uusttt  \\hspace{0.1cm} $ |\n",
    "|$rrsssst $                       |$rssssst  \\hspace{0.1cm} $ |\n",
    "|$rsssssst $                       |$uustss  \\hspace{0.1cm} $ |\n"
   ]
  },
  {
   "cell_type": "markdown",
   "metadata": {},
   "source": [
    "#### Evalue su respuesta antes de subirla:"
   ]
  },
  {
   "cell_type": "code",
   "execution_count": 148,
   "metadata": {},
   "outputs": [
    {
     "name": "stdout",
     "output_type": "stream",
     "text": [
      "evaluation result CORRECT\r\n"
     ]
    }
   ],
   "source": [
    "!./run CHECK_SOLUTION Examen2_1 $src1"
   ]
  },
  {
   "cell_type": "markdown",
   "metadata": {},
   "source": [
    "<div style=\"height:100px;\"></div>"
   ]
  },
  {
   "cell_type": "markdown",
   "metadata": {},
   "source": [
    "# Gramáticas independientes del contexto"
   ]
  },
  {
   "cell_type": "markdown",
   "metadata": {},
   "source": [
    "<b>4)</b> Diseñe las gramáticas independientes del contexto para los siguientes lenguajes utilizando la librería nltk (utilizar la sintaxis vista en clase) y determinar los árboles de derivación:"
   ]
  },
  {
   "cell_type": "markdown",
   "metadata": {},
   "source": [
    "- $L = \\{ \\enspace da^{3n}c^{n}(bb)^{*} \\enspace + \\enspace a \\ z \\ y \\ z^{R} b \\enspace : \\enspace  n \\geq 1 \\enspace \\land \\enspace  z=\\{m,n,p\\}^{*} \\enspace \\land \\enspace y=\\{f,g\\}^{+} \\enspace \\land \\enspace |y|=2 \\enspace \\}$"
   ]
  },
  {
   "cell_type": "code",
   "execution_count": 149,
   "metadata": {
    "collapsed": true
   },
   "outputs": [],
   "source": [
    "def ejercicio2():\n",
    "    import nltk\n",
    "    from nltk import CFG\n",
    "    from nltk.parse.generate import generate\n",
    "\n",
    "    cfg = CFG.fromstring(\"\"\"\n",
    "        S -> 'd' A B | 'a' Z 'b'\n",
    "        A -> 'a' 'a' 'a' A 'c' | 'a' 'a' 'a' 'c'\n",
    "        B -> 'b' 'b' B |\n",
    "        Z -> Y | 'm' Z 'm'  | 'n' Z 'n' | 'p' Z 'p' |\n",
    "        Y -> 'f' 'f' | 'f' 'g' | 'g' 'f' | 'g' 'g'\n",
    "    \"\"\")\n",
    "    grammar = list(generate(cfg, depth=6))\n",
    "    for i in range(len(grammar)):\n",
    "        grammar[i] = ''.join(grammar[i])\n",
    "    return cfg,grammar\n",
    "\n",
    "import urllib, urllib.parse, inspect \n",
    "src2 = urllib.parse.quote_plus(inspect.getsource(ejercicio2))"
   ]
  },
  {
   "cell_type": "markdown",
   "metadata": {},
   "source": [
    "<span style=\"font-style:italic; color:blue;\"><span style=\"font-size:18px;font-weight:bold;text-decoration:underline;\">Nota:</span> según la lógica de la gramática desarrollada, la producción de las palabras puede generarse con diferentes profundidades (parametro **depth**). Si no le funciona con el parametro **depth** actual, intente probar en una celda aparte con otras profundidades para verificar la producción de las palabras de la tabla.<span><br><br><br>"
   ]
  },
  {
   "cell_type": "markdown",
   "metadata": {},
   "source": [
    "Determine los árboles de derivación para las primeras dos palabras aceptadas:"
   ]
  },
  {
   "cell_type": "code",
   "execution_count": 150,
   "metadata": {},
   "outputs": [
    {
     "name": "stdout",
     "output_type": "stream",
     "text": [
      "(S d a a a c b b)\n",
      "             S                 \n",
      "  ___________|___________       \n",
      " |       |               B     \n",
      " |       |            ___|___   \n",
      " |       A           |   |   B \n",
      " |    ___|_______    |   |   |  \n",
      " d   a   a   a   c   b   b  ...\n",
      "\n",
      "None\n",
      "(S d a a a a a a c c)\n",
      "                 S                     \n",
      "  _______________|___________________   \n",
      " |               A                   | \n",
      " |    ___________|_______            |  \n",
      " |   |   |   |   |       A           B \n",
      " |   |   |   |   |    ___|_______    |  \n",
      " d   a   a   a   c   a   a   a   c  ...\n",
      "\n",
      "None\n"
     ]
    }
   ],
   "source": [
    "import nltk\n",
    "from nltk import CFG\n",
    "from nltk.parse.generate import generate \n",
    "\n",
    "result = ejercicio2()\n",
    "sent = ['d','a','a','a','c','b','b']\n",
    "parser = nltk.ChartParser(result[0])\n",
    "for tree in parser.parse(sent): \n",
    "    print(tree.flatten())\n",
    "    print(tree.pretty_print())\n",
    "\n",
    "sent = ['d','a','a','a','a','a','a','c','c']\n",
    "parser = nltk.ChartParser(result[0])\n",
    "for tree in parser.parse(sent): \n",
    "    print(tree.flatten())\n",
    "    print(tree.pretty_print())   "
   ]
  },
  {
   "cell_type": "markdown",
   "metadata": {},
   "source": [
    "\n",
    "|PALABRAS ACEPTADAS $\\hspace{1.0cm}$ |  PALABRAS RECHAZADAS $\\hspace{1.0cm}$|\n",
    "|------------------------------------|--------------------------------------|\n",
    "|$daaacbb   \\hspace{0.1cm}$             |$daaacc\\hspace{0.1cm}       $             |\n",
    "|$daaaaaacc         $              |$daaacccbb\\hspace{0.1cm}              $    |\n",
    "|$ampffpmb      $                    |$daaacb\\hspace{0.1cm} $              |\n",
    "|$anmfgmnb   $               |$amffpb\\hspace{0.1cm} $                  |\n",
    "|$aggb       $               |$anpfffpnb\\hspace{0.1cm} $                 |\n"
   ]
  },
  {
   "cell_type": "markdown",
   "metadata": {},
   "source": [
    "#### Evalue su respuesta antes de subirla:"
   ]
  },
  {
   "cell_type": "code",
   "execution_count": 151,
   "metadata": {},
   "outputs": [
    {
     "name": "stdout",
     "output_type": "stream",
     "text": [
      "evaluation result CORRECT\r\n"
     ]
    }
   ],
   "source": [
    "!./run CHECK_SOLUTION Examen2_2 $src2"
   ]
  },
  {
   "cell_type": "markdown",
   "metadata": {},
   "source": [
    "<div style=\"height:100px;\"></div>"
   ]
  },
  {
   "cell_type": "markdown",
   "metadata": {},
   "source": [
    "<h2><span style=\"color:#FFF; background-color:#F00; font-weight:bold; padding:4px;\">¡IMPORTANTE!</span> Ejecute la siguiente celda para guardar sus cambios en este notebook:</h2>"
   ]
  },
  {
   "cell_type": "code",
   "execution_count": 153,
   "metadata": {},
   "outputs": [
    {
     "data": {
      "application/javascript": [
       "require([\"base/js/namespace\"],function(Jupyter) {\n",
       "    Jupyter.notebook.save_checkpoint();\n",
       "});"
      ],
      "text/plain": [
       "<IPython.core.display.Javascript object>"
      ]
     },
     "metadata": {},
     "output_type": "display_data"
    }
   ],
   "source": [
    "%%javascript\n",
    "require([\"base/js/namespace\"],function(Jupyter) {\n",
    "    Jupyter.notebook.save_checkpoint();\n",
    "});"
   ]
  },
  {
   "cell_type": "markdown",
   "metadata": {},
   "source": [
    "<div style=\"height:100px;\"></div>"
   ]
  },
  {
   "cell_type": "markdown",
   "metadata": {},
   "source": [
    "<p style=\"font-size:20px;font-weight:bold;\"><span style=\"color:#FFF; background-color:#080; font-weight:bold; padding:4px;\">PASO FINAL</span></p>"
   ]
  },
  {
   "cell_type": "markdown",
   "metadata": {},
   "source": [
    "<p style=\"font-size:20px;font-weight:bold;\">Por favor reemplazar el contenido de la variable con su código de estudiante y ejecutar la celda:</p>"
   ]
  },
  {
   "cell_type": "code",
   "execution_count": null,
   "metadata": {
    "collapsed": true
   },
   "outputs": [],
   "source": [
    "codigo = 2181969"
   ]
  },
  {
   "cell_type": "markdown",
   "metadata": {},
   "source": [
    "<p style=\"font-size:20px;font-weight:bold;\">Ejecute esta celda para empaquetar su trabajo. Este se guardará un nivel afuera de la carpeta actual.</p>"
   ]
  },
  {
   "cell_type": "code",
   "execution_count": null,
   "metadata": {},
   "outputs": [],
   "source": [
    "!./empaquetar.sh $codigo"
   ]
  }
 ],
 "metadata": {
  "kernelspec": {
   "display_name": "Python 3",
   "language": "python",
   "name": "python3"
  },
  "language_info": {
   "codemirror_mode": {
    "name": "ipython",
    "version": 3
   },
   "file_extension": ".py",
   "mimetype": "text/x-python",
   "name": "python",
   "nbconvert_exporter": "python",
   "pygments_lexer": "ipython3",
   "version": "3.8.5"
  }
 },
 "nbformat": 4,
 "nbformat_minor": 1
}

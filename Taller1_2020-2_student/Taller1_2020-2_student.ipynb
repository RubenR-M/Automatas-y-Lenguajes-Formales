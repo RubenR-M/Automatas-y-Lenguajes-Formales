{
 "cells": [
  {
   "cell_type": "markdown",
   "metadata": {},
   "source": [
    "# Taller 1: Autómatas finitos \n",
    "\n",
    "**Autómatas y Lenguajes Formales**\n",
    "\n",
    "**Profesor: Gustavo Garzón**\n",
    "\n",
    "**Escuela de Ingeniería de Sistemas e Informática** \n",
    "\n",
    "_Diciembre de 2020_"
   ]
  },
  {
   "cell_type": "markdown",
   "metadata": {},
   "source": [
    "<ul>\n",
    "<li>Envíe el archivo ZIP correspondiente al taller al correo electrónico <span style=\"text-decoration:underline;\">gustavo.garzon@saber.uis.edu.co</span><br>Plazo de entrega: viernes <b style=\"color:#F00;\">04 de Diciembre / 2020</b> - 11:59 p.m.</li>\n",
    "<li>No olvide colocar en el asunto del mensaje de correo: \"Taller 01 Autómatas Finitos\"</li>\n",
    "<li>**Recomendamos activar el kernel de Python3:** menú \"Kernel\" >> \"Change kernel\" >> \"Python 3\"</li>\n",
    "<li>Se recomienda utilizar la herramienta JFLAP ó el sitio web \"Finite State Machine Designer\" ( http://madebyevan.com/fsm/ ), ( https://www.cs.unc.edu/~otternes/comp455/fsm_designer/ ) para diseñar los diagramas de estados.</li>\n",
    "</ul>"
   ]
  },
  {
   "cell_type": "markdown",
   "metadata": {},
   "source": [
    "<div style=\"height:100px;\"></div>"
   ]
  },
  {
   "cell_type": "markdown",
   "metadata": {},
   "source": [
    "<span style=\"font-size:20px;font-weight:bold;\"><span style=\"background-color:#F00;color:#FFF;padding:10px;\">Obligatorio</span> Ejecute esta celda para iniciar la actividad</span>"
   ]
  },
  {
   "cell_type": "code",
   "execution_count": 1,
   "metadata": {
    "collapsed": true
   },
   "outputs": [],
   "source": [
    "!chmod 777 empaquetar.sh run utils/*"
   ]
  },
  {
   "cell_type": "markdown",
   "metadata": {},
   "source": [
    "<div style=\"height:100px;\"></div>"
   ]
  },
  {
   "cell_type": "markdown",
   "metadata": {},
   "source": [
    "## Autómatas finitos deterministas (AFD)"
   ]
  },
  {
   "cell_type": "markdown",
   "metadata": {},
   "source": [
    "**1)** Dado el alfabeto $\\Sigma = {\\{o, p, q, r, s\\}}$ construya un **AFD** que acepte todas las cadenas tales que:\n",
    "$$L = \\{\\enspace r^{+} \\ pp \\ (qs)^{*} \\ o \\ (po)^{+} \\ r \\enspace \\}$$"
   ]
  },
  {
   "cell_type": "markdown",
   "metadata": {},
   "source": [
    "**NOTA** Dibuje el diagrama de transiciones e implemente el autómata con automata-lib."
   ]
  },
  {
   "cell_type": "markdown",
   "metadata": {},
   "source": [
    "**Diagrama de transiciones:**"
   ]
  },
  {
   "cell_type": "markdown",
   "metadata": {},
   "source": [
    "<img src=\"files/automata_1.png\" />"
   ]
  },
  {
   "cell_type": "markdown",
   "metadata": {},
   "source": [
    "**Implementación del autómata con automata-lib**:"
   ]
  },
  {
   "cell_type": "code",
   "execution_count": 2,
   "metadata": {
    "collapsed": false
   },
   "outputs": [],
   "source": [
    "def punto1():\n",
    "    \n",
    "    from automatalib.fa.dfa import DFA\n",
    "    d = DFA(\n",
    "        states = {'q0','q1','q2','q3','q4','q5','q6','q7','q8','q9'},\n",
    "        input_symbols = {'o','p','q','r','s'},\n",
    "        transitions = {\n",
    "            'q0':{'r':'q1'},\n",
    "            'q1':{'r':'q1','p':'q2'},\n",
    "            'q2':{'p':'q3'},\n",
    "            'q3':{'q':'q4','o':'q5'},\n",
    "            'q4':{'s':'q3'},\n",
    "            'q5':{'p':'q6'},\n",
    "            'q6':{'o':'q7'},\n",
    "            'q7':{'p':'q8','r':'q9'},\n",
    "            'q8':{'o':'q7'},\n",
    "            'q9':{}\n",
    "        },\n",
    "        initial_state ='q0',\n",
    "        final_states = {'q9'}\n",
    "    )\n",
    "    return d\n",
    "\n",
    "import urllib, urllib.parse, inspect \n",
    "src1 = urllib.parse.quote_plus(inspect.getsource(punto1)) "
   ]
  },
  {
   "cell_type": "markdown",
   "metadata": {},
   "source": [
    "\n",
    "|PALABRAS ACEPTADAS $\\hspace{1.0cm}$ |  PALABRAS RECHAZADAS $\\hspace{1.0cm}$|\n",
    "|------------------------------------|--------------------------------------|\n",
    "|$rppqsopopor   \\hspace{0.1cm}$           |$rppqsrrr\\hspace{0.1cm}       $  |\n",
    "|$rrppopor         $                    |$rppqopqpqr\\hspace{0.1cm}     $    |\n",
    "|$rrrppqsqsopor       $                      |$rppoqoor\\hspace{0.1cm} $     |\n",
    "|$rppopopopor   $                        |$rpssoror\\hspace{0.1cm} $         |\n",
    "|$rrppqsopor       $                 |$rpqqssor\\hspace{0.1cm} $             |\n",
    "\n"
   ]
  },
  {
   "cell_type": "markdown",
   "metadata": {},
   "source": [
    "#### Evalue su respuesta antes de subirla:\n"
   ]
  },
  {
   "cell_type": "code",
   "execution_count": 3,
   "metadata": {
    "collapsed": false
   },
   "outputs": [
    {
     "name": "stdout",
     "output_type": "stream",
     "text": [
      "testing wrong word:  r is not a valid input symbol\r\n",
      "testing wrong word:  o is not a valid input symbol\r\n",
      "testing wrong word:  q is not a valid input symbol\r\n",
      "testing wrong word:  s is not a valid input symbol\r\n",
      "testing wrong word:  q is not a valid input symbol\r\n",
      "evaluation result CORRECT\r\n"
     ]
    }
   ],
   "source": [
    "!./run CHECK_SOLUTION Taller1_1 $src1"
   ]
  },
  {
   "cell_type": "markdown",
   "metadata": {},
   "source": [
    "<div style=\"height:100px;\"></div>"
   ]
  },
  {
   "cell_type": "markdown",
   "metadata": {},
   "source": [
    "# Autómatas finitos no deterministas (AFN)"
   ]
  },
  {
   "cell_type": "markdown",
   "metadata": {
    "collapsed": true
   },
   "source": [
    "**2**) Diseñe un autómata que acepte todas las cadenas sobre el alfabeto $\\Sigma=\\{m,n,x,y\\}$ , tales que:<br><br>\n",
    "$$L = \\{\\enspace x \\ (mn)^{*} \\ m \\ (xy)^{*} \\ x^{+} \\ n \\enspace \\}$$"
   ]
  },
  {
   "cell_type": "markdown",
   "metadata": {},
   "source": [
    "**NOTA** Dibuje LOS diagramas de transiciones e implemente el autómata DETERMINISTA con automata-lib."
   ]
  },
  {
   "cell_type": "markdown",
   "metadata": {},
   "source": [
    "**Diagrama de transiciones (NFA):**"
   ]
  },
  {
   "cell_type": "markdown",
   "metadata": {},
   "source": [
    "<img src=\"files/automata_2.1.png\" />"
   ]
  },
  {
   "cell_type": "markdown",
   "metadata": {},
   "source": [
    "**Diagrama de transiciones (DFA):**"
   ]
  },
  {
   "cell_type": "markdown",
   "metadata": {},
   "source": [
    "<img src=\"files/automata_2.2.png\" />"
   ]
  },
  {
   "cell_type": "markdown",
   "metadata": {},
   "source": [
    "**Implementación del autómata DETERMINISTA con automata-lib**:"
   ]
  },
  {
   "cell_type": "code",
   "execution_count": 4,
   "metadata": {
    "collapsed": false
   },
   "outputs": [],
   "source": [
    "def punto2():\n",
    "    from automatalib.fa.dfa import DFA\n",
    "\n",
    "    d = DFA(\n",
    "        states = {'q0','q1','q2,q3','q4,q5','q3','q5','q6'},\n",
    "        input_symbols = {'m','n','x','y'},\n",
    "        transitions = {\n",
    "            'q0':{'x':'q1'},\n",
    "            'q1':{'m':'q2,q3'},\n",
    "            'q2,q3':{'n':'q1','x':'q4,q5'},\n",
    "            'q4,q5':{'y':'q3','x':'q5','n':'q6'},\n",
    "            'q3':{'x':'q4,q5'},\n",
    "            'q5':{'x':'q5','n':'q6'},\n",
    "            'q6':{},\n",
    "            \n",
    "        },\n",
    "        initial_state ='q0',\n",
    "        final_states = {'q6'}  \n",
    "    )\n",
    "    return d\n",
    "\n",
    "import urllib, urllib.parse, inspect \n",
    "src2 = urllib.parse.quote_plus(inspect.getsource(punto2))"
   ]
  },
  {
   "cell_type": "markdown",
   "metadata": {},
   "source": [
    "\n",
    "|PALABRAS ACEPTADAS $\\hspace{1.0cm}$ |  PALABRAS RECHAZADAS $\\hspace{1.0cm}$|\n",
    "|------------------------------------|--------------------------------------|\n",
    "|$xmnmxyxxn     \\hspace{0.1cm}$            |$xxmnmxyxn\\hspace{0.1cm}       $             |\n",
    "|$xmnmnmxyxyxn                   $            |$xymnmxyxxxn\\hspace{0.1cm}                 $   |\n",
    "|$xmnmnmxn       $                     |$xnmnnnxn\\hspace{0.1cm} $            |\n",
    "|$xmxxxxxn   $                |$xmnmxyn\\hspace{0.1cm} $                |\n",
    "|$xmxyxxn        $                  |$xnxyxyn\\hspace{0.1cm} $             |\n",
    "\n"
   ]
  },
  {
   "cell_type": "markdown",
   "metadata": {},
   "source": [
    "#### Evalue su respuesta antes de subirla:\n"
   ]
  },
  {
   "cell_type": "code",
   "execution_count": 5,
   "metadata": {
    "collapsed": false
   },
   "outputs": [
    {
     "name": "stdout",
     "output_type": "stream",
     "text": [
      "testing wrong word:  x is not a valid input symbol\r\n",
      "testing wrong word:  y is not a valid input symbol\r\n",
      "testing wrong word:  n is not a valid input symbol\r\n",
      "testing wrong word:  n is not a valid input symbol\r\n",
      "testing wrong word:  n is not a valid input symbol\r\n",
      "evaluation result CORRECT\r\n"
     ]
    }
   ],
   "source": [
    "!./run CHECK_SOLUTION Taller1_2 $src2"
   ]
  },
  {
   "cell_type": "markdown",
   "metadata": {},
   "source": [
    "<div style=\"height:100px;\"></div>"
   ]
  },
  {
   "cell_type": "markdown",
   "metadata": {},
   "source": [
    "**3)** Diseñe un autómata finito NO determinista para el lenguaje:\n",
    "\n",
    "$$L = \\{ \\enspace z \\ m \\ y \\ m \\ x: \\enspace x \\in \\{nm\\}^{*} \\enspace \\land \\enspace y \\in \\{mp\\}^{+} \\enspace \\land \\enspace z \\in \\{mm\\}^{*} \\enspace \\} $$\n",
    "\n",
    "Dado el alfabeto: $\\Sigma = \\{m,n,p\\}$"
   ]
  },
  {
   "cell_type": "markdown",
   "metadata": {},
   "source": [
    "**NOTA** Dibuje el diagrama de transiciones e implemente el autómata con automata-lib."
   ]
  },
  {
   "cell_type": "markdown",
   "metadata": {},
   "source": [
    "**Diagrama de transiciones:**"
   ]
  },
  {
   "cell_type": "markdown",
   "metadata": {},
   "source": [
    "<img src=\"files/automata_3.png\" />"
   ]
  },
  {
   "cell_type": "markdown",
   "metadata": {},
   "source": [
    "**Implementación del autómata con automata-lib**:"
   ]
  },
  {
   "cell_type": "code",
   "execution_count": 6,
   "metadata": {
    "collapsed": false
   },
   "outputs": [],
   "source": [
    "def punto3():\n",
    "    from automatalib.fa.nfa import NFA\n",
    "\n",
    "    d = NFA(\n",
    "        states={'q0', 'q1', 'q2', 'q3', 'q4', 'q5', 'q6'},\n",
    "        input_symbols={'m', 'n','p'},\n",
    "        transitions={\n",
    "        'q0': {'m': {'q0','q1'}}, # Conjunto de estados de transición\n",
    "        'q1': {'m':{'q2'}},\n",
    "        'q2': {'p':{'q3'}},\n",
    "        'q3': {'m':{'q4','q5'}},\n",
    "        'q4': {'p':{'q3'}},\n",
    "        'q5': {'n':{'q6'}},\n",
    "        'q6': {'m':{'q5'}}    \n",
    "        },\n",
    "        initial_state='q0',\n",
    "        final_states={'q5'}\n",
    "    )\n",
    "    return d\n",
    "\n",
    "import urllib, urllib.parse, inspect\n",
    "src3 = urllib.parse.quote_plus(inspect.getsource(punto3))"
   ]
  },
  {
   "cell_type": "markdown",
   "metadata": {},
   "source": [
    "\n",
    "|PALABRAS ACEPTADAS $\\hspace{2.0cm}$ |  PALABRAS RECHAZADAS $\\hspace{2.0cm}$|\n",
    "|------------------------------------|--------------------------------------|\n",
    "|$mmmmpmpm \\hspace{0.1cm}$           |$mmpmmonm\\hspace{0.1cm}       $             |\n",
    "|$mmmmmmpmnm         $                 |$mmnmppnn\\hspace{0.1cm}                $   |\n",
    "|$mmmmmmpm       $                      |$mmpnmpnn\\hspace{0.1cm} $                |\n",
    "|$mmpmpmnm   $                            |$mmnpmpmp\\hspace{0.1cm} $              |\n",
    "|$mmpmnm       $                        |$mmnnpnnp\\hspace{0.1cm} $                 |\n"
   ]
  },
  {
   "cell_type": "markdown",
   "metadata": {},
   "source": [
    "#### Evalue su respuesta antes de subirla:"
   ]
  },
  {
   "cell_type": "code",
   "execution_count": 7,
   "metadata": {
    "collapsed": false
   },
   "outputs": [
    {
     "name": "stdout",
     "output_type": "stream",
     "text": [
      "testing wrong word:  the NFA stopped on all non-final states ()\r\n",
      "testing wrong word:  the NFA stopped on all non-final states ()\r\n",
      "testing wrong word:  the NFA stopped on all non-final states ()\r\n",
      "testing wrong word:  the NFA stopped on all non-final states ()\r\n",
      "testing wrong word:  the NFA stopped on all non-final states ()\r\n",
      "evaluation result CORRECT\r\n"
     ]
    }
   ],
   "source": [
    "!./run CHECK_SOLUTION Taller1_3 $src3"
   ]
  },
  {
   "cell_type": "markdown",
   "metadata": {},
   "source": [
    "<div style=\"height:100px;\"></div>"
   ]
  },
  {
   "cell_type": "markdown",
   "metadata": {},
   "source": [
    "**4)** Diseñe un NFA sobre el alfabeto $\\Sigma = \\{8,3,5\\}$ para el lenguaje:<br><br>\n",
    "$$L = \\{\\enspace x338 \\enspace \\lor \\enspace x35 \\enspace \\lor \\enspace x383: \\enspace x \\in \\{35\\}^{*} \\enspace \\}$$"
   ]
  },
  {
   "cell_type": "markdown",
   "metadata": {},
   "source": [
    "**NOTA** Dibuje el diagrama de transiciones e implemente el autómata con automata-lib."
   ]
  },
  {
   "cell_type": "markdown",
   "metadata": {},
   "source": [
    "**Diagrama de transiciones:**"
   ]
  },
  {
   "cell_type": "markdown",
   "metadata": {},
   "source": [
    "<img src=\"files/automata_4.png\" />"
   ]
  },
  {
   "cell_type": "markdown",
   "metadata": {},
   "source": [
    "**Implementación del autómata con automata-lib**:"
   ]
  },
  {
   "cell_type": "code",
   "execution_count": 8,
   "metadata": {
    "collapsed": false
   },
   "outputs": [],
   "source": [
    "def punto4():\n",
    "    from automatalib.fa.nfa import NFA\n",
    "\n",
    "    d = NFA(\n",
    "        states={'q0','q1','q2','q3','q4','q5','q6','q7'},\n",
    "        input_symbols={'3','5','8'},\n",
    "        transitions={\n",
    "        'q0':{'3':{'q1','q2'}},\n",
    "        'q1':{'5':{'q0'}},\n",
    "        'q2':{'3':{'q3'},'5':{'q5'},'8':{'q6'}},\n",
    "        'q3':{'8':{'q4'}},\n",
    "        'q4':{},\n",
    "        'q5':{},\n",
    "        'q6':{'3':{'q7'}},\n",
    "        'q7':{}    \n",
    "        },\n",
    "        initial_state='q0',\n",
    "        final_states={'q4','q5','q7'}\n",
    "    )\n",
    "    return d\n",
    "\n",
    "import urllib, urllib.parse, inspect \n",
    "src4 = urllib.parse.quote_plus(inspect.getsource(punto4))"
   ]
  },
  {
   "cell_type": "markdown",
   "metadata": {},
   "source": [
    "\n",
    "|PALABRAS ACEPTADAS $\\hspace{2.0cm}$ |  PALABRAS RECHAZADAS $\\hspace{2.0cm}$|\n",
    "|------------------------------------|--------------------------------------|\n",
    "|$35338   \\hspace{0.1cm}$            |$35883\\hspace{0.1cm}       $           |\n",
    "|$353535         $                |$35558\\hspace{0.1cm}         $   |\n",
    "|$35383       $     |$35333\\hspace{0.1cm} $              |\n",
    "|$338   $                     |$355\\hspace{0.1cm} $                |\n",
    "|$35       $                 |$358\\hspace{0.1cm} $               |\n",
    "\n"
   ]
  },
  {
   "cell_type": "markdown",
   "metadata": {},
   "source": [
    "#### Evalue su respuesta antes de subirla:"
   ]
  },
  {
   "cell_type": "code",
   "execution_count": 9,
   "metadata": {
    "collapsed": false
   },
   "outputs": [
    {
     "name": "stdout",
     "output_type": "stream",
     "text": [
      "testing wrong word:  the NFA stopped on all non-final states ()\r\n",
      "testing wrong word:  the NFA stopped on all non-final states ()\r\n",
      "testing wrong word:  the NFA stopped on all non-final states ()\r\n",
      "testing wrong word:  the NFA stopped on all non-final states ()\r\n",
      "testing wrong word:  the NFA stopped on all non-final states ()\r\n",
      "evaluation result CORRECT\r\n"
     ]
    }
   ],
   "source": [
    "!./run CHECK_SOLUTION Taller1_4 $src4"
   ]
  },
  {
   "cell_type": "markdown",
   "metadata": {},
   "source": [
    "<div style=\"height:100px;\"></div>"
   ]
  },
  {
   "cell_type": "markdown",
   "metadata": {},
   "source": [
    "**5)** Diseñe un NFA sobre el alfabeto $\\Sigma = \\{i,j,k\\}$ para el lenguaje:<br><br>\n",
    "$$L = \\{\\enspace i \\ k^{+} \\ (j + k)^{+} \\enspace \\cup \\enspace i \\ k \\ (ij)^{*} \\enspace \\}$$"
   ]
  },
  {
   "cell_type": "markdown",
   "metadata": {},
   "source": [
    "**NOTA** Dibuje el diagrama de transiciones e implemente el autómata con automata-lib."
   ]
  },
  {
   "cell_type": "markdown",
   "metadata": {},
   "source": [
    "**Diagrama de transiciones:**"
   ]
  },
  {
   "cell_type": "markdown",
   "metadata": {},
   "source": [
    "<img src=\"files/automata_5.png\" />"
   ]
  },
  {
   "cell_type": "markdown",
   "metadata": {},
   "source": [
    "**Implementación del autómata con automata-lib**:"
   ]
  },
  {
   "cell_type": "code",
   "execution_count": 10,
   "metadata": {
    "collapsed": false
   },
   "outputs": [],
   "source": [
    "def punto5():\n",
    "    from automatalib.fa.nfa import NFA\n",
    "\n",
    "    d = NFA(\n",
    "        states = {'q0','q1','q2','q3','q4','q5'},\n",
    "        input_symbols = {'i','j','k'},\n",
    "        transitions = {\n",
    "            'q0':{'i':{'q1'}},\n",
    "            'q1':{'k':{'q2','q4'}},\n",
    "            'q2':{'i':{'q3'}},\n",
    "            'q3':{'j':{'q2'}},\n",
    "            'q4':{'k':{'q4','q5'},'j':{'q5'}},\n",
    "            'q5':{'j':{'q5'},'k':{'q5'}}\n",
    "        },\n",
    "        initial_state ='q0',\n",
    "        final_states = {'q2','q5'}\n",
    "    )\n",
    "    return d\n",
    "\n",
    "import urllib, urllib.parse, inspect\n",
    "src5 = urllib.parse.quote_plus(inspect.getsource(punto5))"
   ]
  },
  {
   "cell_type": "markdown",
   "metadata": {},
   "source": [
    "\n",
    "|PALABRAS ACEPTADAS $\\hspace{2.0cm}$ |  PALABRAS RECHAZADAS $\\hspace{2.0cm}$|\n",
    "|------------------------------------|--------------------------------------|\n",
    "|$ik  \\hspace{0.1cm}$                 |$iki\\hspace{0.1cm}       $      |\n",
    "|$ikijij        $                  |$ikiji\\hspace{0.1cm}                $   |\n",
    "|$ikj       $                      |$ikii\\hspace{0.1cm} $            |\n",
    "|$ikk   $                    |$ikji\\hspace{0.1cm} $           |\n",
    "|$ikkjk      $                        |$ikiij\\hspace{0.1cm} $                  |\n"
   ]
  },
  {
   "cell_type": "markdown",
   "metadata": {},
   "source": [
    "#### Evalue su respuesta antes de subirla:"
   ]
  },
  {
   "cell_type": "code",
   "execution_count": 11,
   "metadata": {
    "collapsed": false
   },
   "outputs": [
    {
     "name": "stdout",
     "output_type": "stream",
     "text": [
      "testing wrong word:  the NFA stopped on all non-final states (q3)\r\n",
      "testing wrong word:  the NFA stopped on all non-final states (q3)\r\n",
      "testing wrong word:  the NFA stopped on all non-final states ()\r\n",
      "testing wrong word:  the NFA stopped on all non-final states ()\r\n",
      "testing wrong word:  the NFA stopped on all non-final states ()\r\n",
      "evaluation result CORRECT\r\n"
     ]
    }
   ],
   "source": [
    "!./run CHECK_SOLUTION Taller1_5 $src5"
   ]
  },
  {
   "cell_type": "markdown",
   "metadata": {},
   "source": [
    "<div style=\"height:100px;\"></div>"
   ]
  },
  {
   "cell_type": "markdown",
   "metadata": {},
   "source": [
    "**6)** De acuerdo con el siguiente **AFN-$\\varepsilon$**:"
   ]
  },
  {
   "cell_type": "markdown",
   "metadata": {},
   "source": [
    "<img src=\"files/t01_06.png\" width=\"600\" />"
   ]
  },
  {
   "cell_type": "markdown",
   "metadata": {},
   "source": [
    "<table style=\"border-collapse:collapse; border:1px solid black; width:400px;\">\n",
    "\n",
    "<tr>\n",
    "<td style=\"text-align:center;width:80px;\"></td>\n",
    "<td style=\"text-align:center;width:120px;\">$\\varepsilon$</td>\n",
    "<td style=\"text-align:center;width:120px;\">$i$</td>\n",
    "<td style=\"text-align:center;width:120px;\">$j$</td>\n",
    "<td style=\"text-align:center;width:120px;\">$k$</td>\n",
    "</tr>\n",
    "\n",
    "<tr>\n",
    "<td style=\"text-align:center;\">$\\rightarrow q0$</td>\n",
    "<td style=\"text-align:center;\">$\\left\\lbrace\\ q1 \\right\\rbrace$</td>\n",
    "<td style=\"text-align:center;\">$\\oslash$</td>\n",
    "<td style=\"text-align:center;\">$\\oslash$</td>\n",
    "<td style=\"text-align:center;\">$\\oslash$</td>\n",
    "</tr>\n",
    "\n",
    "<tr>\n",
    "<td style=\"text-align:center;\">$ q1$</td>\n",
    "<td style=\"text-align:center;\">$\\oslash$</td>\n",
    "<td style=\"text-align:center;\">$\\oslash$</td>\n",
    "<td style=\"text-align:center;\">$\\oslash$</td>\n",
    "<td style=\"text-align:center;\">$\\left\\lbrace\\ q2,q4 \\right\\rbrace$</td>\n",
    "</tr>\n",
    "\n",
    "<tr>\n",
    "<td style=\"text-align:center;\">$ q2$</td>\n",
    "<td style=\"text-align:center;\">$\\left\\lbrace\\ q3 \\right\\rbrace$</td>\n",
    "<td style=\"text-align:center;\">$\\oslash$</td>\n",
    "<td style=\"text-align:center;\">$\\oslash$</td>\n",
    "<td style=\"text-align:center;\">$\\left\\lbrace\\ q2 \\right\\rbrace$</td>\n",
    "</tr>\n",
    "\n",
    "<tr>\n",
    "<td style=\"text-align:center;\">$* q3$</td>\n",
    "<td style=\"text-align:center;\">$\\oslash$</td>\n",
    "<td style=\"text-align:center;\">$\\oslash$</td>\n",
    "<td style=\"text-align:center;\">$\\left\\lbrace\\ q3 \\right\\rbrace$</td>\n",
    "<td style=\"text-align:center;\">$\\left\\lbrace\\ q3 \\right\\rbrace$</td>\n",
    "</tr>\n",
    "\n",
    "<tr>\n",
    "<td style=\"text-align:center;\">$* q4$</td>\n",
    "<td style=\"text-align:center;\">$\\oslash$</td>\n",
    "<td style=\"text-align:center;\">$\\left\\lbrace\\ q5 \\right\\rbrace$</td>\n",
    "<td style=\"text-align:center;\">$\\oslash$</td>\n",
    "<td style=\"text-align:center;\">$\\oslash$</td>\n",
    "</tr>\n",
    "\n",
    "<tr>\n",
    "<td style=\"text-align:center;\">$q5$</td>\n",
    "<td style=\"text-align:center;\">$\\oslash$</td>\n",
    "<td style=\"text-align:center;\">$\\oslash$</td>\n",
    "<td style=\"text-align:center;\">$\\left\\lbrace\\ q4 \\right\\rbrace$</td>\n",
    "<td style=\"text-align:center;\">$\\oslash$</td>\n",
    "</tr>\n",
    "\n",
    "</table>\n",
    "<br>\n",
    "<center><div>Tabla 1. Tabla del AFN-ϵ correspondiente</div></center>"
   ]
  },
  {
   "cell_type": "markdown",
   "metadata": {},
   "source": [
    "En este punto deberá elaborar:"
   ]
  },
  {
   "cell_type": "markdown",
   "metadata": {},
   "source": [
    "**a) Tabla del AFD correspondiente**"
   ]
  },
  {
   "cell_type": "markdown",
   "metadata": {},
   "source": [
    "<table style=\"border-collapse:collapse; border:1px solid black; width:400px;\">\n",
    "\n",
    "<tr>\n",
    "<td style=\"text-align:center;width:80px;\"></td>\n",
    "<td style=\"text-align:center;width:120px;\">$i$</td>\n",
    "<td style=\"text-align:center;width:120px;\">$j$</td>\n",
    "<td style=\"text-align:center;width:120px;\">$k$</td>\n",
    "</tr>\n",
    "\n",
    "<tr>\n",
    "<td style=\"text-align:center;\">$\\rightarrow q0q1$</td>\n",
    "<td style=\"text-align:center;\">$\\oslash$</td>\n",
    "<td style=\"text-align:center;\">$\\oslash$</td>\n",
    "<td style=\"text-align:center;\">$\\ q2q3q4$</td>\n",
    "</tr>\n",
    "\n",
    "<tr>\n",
    "<td style=\"text-align:center;\">$* q2q3q4$</td>\n",
    "<td style=\"text-align:center;\">$\\ q5$</td>\n",
    "<td style=\"text-align:center;\">$\\ q3q4$</td>\n",
    "<td style=\"text-align:center;\">$\\ q2q3$</td>\n",
    "</tr>\n",
    "\n",
    "<tr>\n",
    "<td style=\"text-align:center;\">$* q2q3$</td>\n",
    "<td style=\"text-align:center;\">$\\oslash$</td>\n",
    "<td style=\"text-align:center;\">$\\ q3$</td>\n",
    "<td style=\"text-align:center;\">$\\ q2q3$</td>\n",
    "</tr>\n",
    "\n",
    "<tr>\n",
    "<td style=\"text-align:center;\">$* q3q4$</td>\n",
    "<td style=\"text-align:center;\">$\\ q5$</td>\n",
    "<td style=\"text-align:center;\">$\\ q3$</td>\n",
    "<td style=\"text-align:center;\">$\\ q3$</td>\n",
    "</tr>\n",
    "\n",
    "<tr>\n",
    "<td style=\"text-align:center;\">$* q3$</td>\n",
    "<td style=\"text-align:center;\">$\\oslash$</td>\n",
    "<td style=\"text-align:center;\">$\\ q3$</td>\n",
    "<td style=\"text-align:center;\">$\\ q3$</td>\n",
    "</tr>\n",
    "\n",
    "<tr>\n",
    "<td style=\"text-align:center;\">$* q4$</td>\n",
    "<td style=\"text-align:center;\">$\\ q5$</td>\n",
    "<td style=\"text-align:center;\">$\\oslash$</td>\n",
    "<td style=\"text-align:center;\">$\\oslash$</td>\n",
    "</tr>\n",
    "\n",
    "<tr>\n",
    "<td style=\"text-align:center;\">$ q5$</td>\n",
    "<td style=\"text-align:center;\">$\\oslash$</td>\n",
    "<td style=\"text-align:center;\">$\\ q4$</td>\n",
    "<td style=\"text-align:center;\">$\\oslash$</td>\n",
    "</tr>\n",
    "\n",
    "</table>\n",
    "<br>\n",
    "<center><div>Tabla 2. Tabla del AFD correspondiente</div></center>"
   ]
  },
  {
   "cell_type": "markdown",
   "metadata": {},
   "source": [
    "**b) Diagrama de transiciones del **AFD** <span style=\"text-decoration:underline;\">equivalente</span>**"
   ]
  },
  {
   "cell_type": "markdown",
   "metadata": {},
   "source": [
    "<img src=\"files/automata_6.png\" />"
   ]
  },
  {
   "cell_type": "markdown",
   "metadata": {},
   "source": [
    "<br><br>\n",
    "**c) Implementación del AFD con automata-lib**:"
   ]
  },
  {
   "cell_type": "code",
   "execution_count": 12,
   "metadata": {
    "collapsed": true
   },
   "outputs": [],
   "source": [
    "def punto6b():\n",
    "    from automatalib.fa.dfa import DFA    \n",
    "\n",
    "    d = DFA(\n",
    "        states = {'q0q1','q2q3q4','q2q3','q3q4','q3','q5','q4'},\n",
    "        input_symbols = {'i','j','k'},\n",
    "        transitions = {\n",
    "            'q0q1':{'k':'q2q3q4'},\n",
    "            'q2q3q4':{'i':'q5','j':'q3q4','k':'q2q3'},\n",
    "            'q2q3':{'j':'q3','k':'q2q3'},\n",
    "            'q3q4':{'i':'q5','j':'q3','k':'q3'},\n",
    "            'q3':{'j':'q3','k':'q3'},\n",
    "            'q5':{'j':'q4'},\n",
    "            'q4':{'i':'q5'}\n",
    "        },\n",
    "        initial_state = 'q0q1',\n",
    "        final_states = {'q2q3q4','q2q3','q3q4','q3','q4'}\n",
    "    )\n",
    "    return d\n",
    "\n",
    "import urllib, urllib.parse, inspect \n",
    "src6b = urllib.parse.quote_plus(inspect.getsource(punto6b))"
   ]
  },
  {
   "cell_type": "markdown",
   "metadata": {},
   "source": [
    "\n",
    "|PALABRAS ACEPTADAS $\\hspace{2.0cm}$ |  PALABRAS RECHAZADAS $\\hspace{2.0cm}$|\n",
    "|------------------------------------|--------------------------------------|\n",
    "|$k     \\hspace{0.1cm}$             |$kii\\hspace{0.1cm}       $    |\n",
    "|$kj         $                       |$kijj\\hspace{0.1cm}            $ |\n",
    "|$kk             $                |$kijk\\hspace{0.1cm} $                  |\n",
    "|$kkj   $                      |$kki\\hspace{0.1cm} $             |\n",
    "|$kij          $                 |$kji\\hspace{0.1cm} $               |\n",
    "\n"
   ]
  },
  {
   "cell_type": "markdown",
   "metadata": {},
   "source": [
    "#### Evalue su respuesta antes de subirla:"
   ]
  },
  {
   "cell_type": "code",
   "execution_count": 13,
   "metadata": {
    "collapsed": false
   },
   "outputs": [
    {
     "name": "stdout",
     "output_type": "stream",
     "text": [
      "testing wrong word:  the DFA stopped on a non-final state (q5)\r\n",
      "evaluation result NOT CORRECT\r\n"
     ]
    }
   ],
   "source": [
    "!./run CHECK_SOLUTION Taller1_6b $src6b"
   ]
  },
  {
   "cell_type": "markdown",
   "metadata": {},
   "source": [
    "<div style=\"height:100px;\"></div>"
   ]
  },
  {
   "cell_type": "markdown",
   "metadata": {},
   "source": [
    "<p style=\"font-size:20px;font-weight:bold;\"><span style=\"background-color:#F00;color:#FFF;padding:10px;\">Obligatorio</span></p>\n",
    "<p style=\"font-size:20px;font-weight:bold;\">Por favor reemplazar el contenido de la variable con su código de estudiante y ejecutar la celda:</p>"
   ]
  },
  {
   "cell_type": "code",
   "execution_count": 14,
   "metadata": {
    "collapsed": true
   },
   "outputs": [],
   "source": [
    "codigo = 2181969"
   ]
  },
  {
   "cell_type": "markdown",
   "metadata": {},
   "source": [
    "<p style=\"font-size:20px;font-weight:bold;\">Ejecute esta celda para empaquetar su trabajo.</p>"
   ]
  },
  {
   "cell_type": "code",
   "execution_count": 1,
   "metadata": {
    "collapsed": false
   },
   "outputs": [
    {
     "name": "stdout",
     "output_type": "stream",
     "text": [
      "¡PERFECTO!, el archivo   '_t01.zip'   se creó correctamente :D\r\n"
     ]
    }
   ],
   "source": [
    "!./empaquetar.sh $codigo"
   ]
  },
  {
   "cell_type": "code",
   "execution_count": null,
   "metadata": {
    "collapsed": true
   },
   "outputs": [],
   "source": []
  }
 ],
 "metadata": {
  "kernelspec": {
   "display_name": "Python 3",
   "language": "python",
   "name": "python3"
  },
  "language_info": {
   "codemirror_mode": {
    "name": "ipython",
    "version": 3
   },
   "file_extension": ".py",
   "mimetype": "text/x-python",
   "name": "python",
   "nbconvert_exporter": "python",
   "pygments_lexer": "ipython3",
   "version": "3.6.2"
  }
 },
 "nbformat": 4,
 "nbformat_minor": 1
}

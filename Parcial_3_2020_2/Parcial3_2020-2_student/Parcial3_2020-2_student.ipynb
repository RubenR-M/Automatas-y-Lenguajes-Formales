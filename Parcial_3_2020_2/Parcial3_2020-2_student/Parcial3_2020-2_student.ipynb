{
 "cells": [
  {
   "cell_type": "markdown",
   "metadata": {},
   "source": [
    "# Parcial 3: Autómatas de Pila (PDA) y Máquinas de Turing (MT)\n",
    "\n",
    "**Autómatas y Lenguajes Formales**\n",
    "\n",
    "**Profesor: Gustavo Garzón**\n",
    "\n",
    "**Escuela de Ingeniería de Sistemas e Informática**\n",
    "\n",
    "_Marzo de 2021_"
   ]
  },
  {
   "cell_type": "markdown",
   "metadata": {},
   "source": [
    "<!-- Este examen práctico está compuesto por 4 puntos.-->\n",
    "- Recuerde NO borrar la cabecera de cada celda **Code**.\n",
    "- Se recomienda utilizar la herramienta JFLAP ó \"Finite State Machine Designer\" ( http://madebyevan.com/fsm/ ) para diseñar los diagramas de estados."
   ]
  },
  {
   "cell_type": "markdown",
   "metadata": {},
   "source": [
    "<div style=\"height:100px;\"></div>"
   ]
  },
  {
   "cell_type": "markdown",
   "metadata": {},
   "source": [
    "<h2><span style=\"color:#FFF; background-color:#F00; font-weight:bold; padding:4px;\">¡IMPORTANTE!</span> Ejecute esta celda para iniciar la actividad</h2>"
   ]
  },
  {
   "cell_type": "code",
   "execution_count": null,
   "metadata": {
    "collapsed": false
   },
   "outputs": [],
   "source": [
    "!chmod 777 empaquetar.sh run utils/*"
   ]
  },
  {
   "cell_type": "markdown",
   "metadata": {},
   "source": [
    "<h2><span style=\"color:#FFF; background-color:#F00; font-weight:bold; padding:4px;\">¡IMPORTANTE!</span></h2><br><h2 style=\"margin-top:-10px;\">Usted debe ejecutar <span style=\"color:#F00;\">TODAS</span> las celdas de tipo <span style=\"color:#F00;\">CODE</span>. De lo contrario, sus respuestas no serán procesadas correctamente.</h2>"
   ]
  },
  {
   "cell_type": "markdown",
   "metadata": {},
   "source": [
    "<div style=\"height:100px;\"></div>"
   ]
  },
  {
   "cell_type": "markdown",
   "metadata": {},
   "source": [
    "## Autómatas de Pila (PDA)\n",
    "1) Implemente un PDA que acepte el siguiente lenguaje: $\\enspace$ $L = \\{ a^{3k} \\ b^{m}c^{m} \\ d^{k}: \\enspace k, m>0 \\}$."
   ]
  },
  {
   "cell_type": "markdown",
   "metadata": {},
   "source": [
    "- Elabore el diagrama de transiciones"
   ]
  },
  {
   "cell_type": "markdown",
   "metadata": {},
   "source": [
    "<img src=\"files/diagrama_1.png\" />"
   ]
  },
  {
   "cell_type": "code",
   "execution_count": 7,
   "metadata": {
    "collapsed": false
   },
   "outputs": [],
   "source": [
    "def ejercicio1():\n",
    "    from automata.pda.dpda import DPDA\n",
    "    d = DPDA(\n",
    "        states={'q0', 'q1', 'q2', 'q4','q5','q6','q7',},\n",
    "        input_symbols={'a', 'b', 'c', 'd'},\n",
    "        stack_symbols={'A', 'B', 'Z'},\n",
    "        transitions={\n",
    "            'q0': {\n",
    "                'a': {'Z': ('q1', ('A', 'Z'))}\n",
    "            },\n",
    "            'q1': {\n",
    "                'a': {'A': ('q2',('A',))}\n",
    "            },\n",
    "            'q2': {\n",
    "                'a': {'A': ('q3',('A',))}\n",
    "            },\n",
    "            'q3': {\n",
    "                'a': {'A': ('q1',('A','A'))},\n",
    "                'b': {'A': ('q4',('B','A'))}\n",
    "            },\n",
    "            'q4': {\n",
    "                'b': {'B': ('q4', ('B','B'))},\n",
    "                'c': {'B': ('q5','')}\n",
    "            },\n",
    "            'q5': {\n",
    "                'c': {'B': ('q5','')},\n",
    "                'd': {'A': ('q6','')}\n",
    "            },\n",
    "            'q6': {\n",
    "                'd': {'A': ('q6','')},\n",
    "                '' : {'Z': ('q7',('Z',))}\n",
    "            }          \n",
    "        },\n",
    "        initial_state='q0',\n",
    "        initial_stack_symbol='Z',\n",
    "        final_states={'q7'}    \n",
    "    )\n",
    "    return d\n",
    "\n",
    "import urllib, urllib.parse, inspect \n",
    "src1 = urllib.parse.quote_plus(inspect.getsource(ejercicio1))"
   ]
  },
  {
   "cell_type": "markdown",
   "metadata": {},
   "source": [
    "\n",
    "|Palabras Aceptadas $\\hspace{2.0cm}$ | Palabras rechazadas $\\hspace{2.0cm}$ |\n",
    "|------------------------------------|--------------------------------------|\n",
    "|$aaabcd       \\hspace{0.1cm}$        |$aaabccd\\hspace{0.1cm}       $              |\n",
    "|$aaaaaabbccdd$                   |$aaabbcd\\hspace{0.1cm}            $     |\n",
    "|$aaabbbcccd$                         |$aaabcdd\\hspace{0.1cm} $                |\n",
    "|$aaaaaaaaabcddd$                 |$aaaaaabbcdd\\hspace{0.1cm}$                |\n",
    "|$aaabbccd$                   |$aaabcdddd\\hspace{0.1cm}$                |\n"
   ]
  },
  {
   "cell_type": "markdown",
   "metadata": {},
   "source": [
    "#### Evalue su respuesta antes de subirla:"
   ]
  },
  {
   "cell_type": "code",
   "execution_count": 8,
   "metadata": {
    "collapsed": false
   },
   "outputs": [
    {
     "name": "stdout",
     "output_type": "stream",
     "text": [
      "testing wrong word:  The automaton entered a configuration for which no transition is defined (q5, c, A)\n",
      "testing wrong word:  The automaton entered a configuration for which no transition is defined (q5, d, B)\n",
      "testing wrong word:  The automaton entered a configuration for which no transition is defined (q7, d, Z)\n",
      "testing wrong word:  The automaton entered a configuration for which no transition is defined (q5, d, B)\n",
      "testing wrong word:  The automaton entered a configuration for which no transition is defined (q7, d, Z)\n",
      "evaluation result CORRECT\n"
     ]
    }
   ],
   "source": [
    "!./run CHECK_SOLUTION Examen3_1 $src1"
   ]
  },
  {
   "cell_type": "markdown",
   "metadata": {},
   "source": [
    "<div style=\"height:100px;\"></div>"
   ]
  },
  {
   "cell_type": "markdown",
   "metadata": {},
   "source": [
    "## Autómatas de Pila (PDA)"
   ]
  },
  {
   "cell_type": "markdown",
   "metadata": {},
   "source": [
    "2) Diseñe un autómata de pila que acepte el lenguaje: $L = \\{ \\enspace g^{i} \\ h^{4i} \\ m^{x} \\ n^{y} \\ p^{z} \\enspace\\enspace | \\enspace\\enspace x,y,i \\gt 0 \\enspace\\enspace \\land \\enspace\\enspace x+y-z=0 \\enspace \\}$."
   ]
  },
  {
   "cell_type": "markdown",
   "metadata": {},
   "source": [
    "- Elabore el diagrama de transiciones"
   ]
  },
  {
   "cell_type": "markdown",
   "metadata": {},
   "source": [
    "<img src=\"files/diagrama_2.png\" />"
   ]
  },
  {
   "cell_type": "code",
   "execution_count": 11,
   "metadata": {
    "collapsed": false
   },
   "outputs": [],
   "source": [
    "def ejercicio2():\n",
    "    from automata.pda.dpda import DPDA\n",
    "    d = DPDA(\n",
    "        states={'q0', 'q1', 'q2', 'q4','q5','q6','q7','q8','q9','q10'},\n",
    "        input_symbols={'g', 'h', 'm', 'n', 'p'},\n",
    "        stack_symbols={'G', 'X', 'Z'},\n",
    "        transitions={\n",
    "            'q0': {\n",
    "                'g': {'Z': ('q1', ('G', 'Z'))}\n",
    "            },\n",
    "            'q1': {\n",
    "                'g': {'G': ('q1',('G','G'))},\n",
    "                'h': {'G': ('q2',('G',))}\n",
    "            },\n",
    "            'q2': {\n",
    "                'h': {'G': ('q3',('G',))}\n",
    "            },\n",
    "            'q3': {\n",
    "                'h': {'G': ('q4',('G',))}\n",
    "            },\n",
    "            'q4': {\n",
    "                'h': {'G': ('q5','')}\n",
    "            },\n",
    "            'q5': {\n",
    "                'h': {'G': ('q2',('G',))},\n",
    "                'm': {'Z': ('q6',('X','Z'))}\n",
    "            },\n",
    "            'q6': {\n",
    "                'm': {'X': ('q6',('X','X'))},\n",
    "                'n': {'X': ('q7',('X','X'))}\n",
    "            },\n",
    "            'q7': {\n",
    "                'n': {'X': ('q7',('X','X'))},\n",
    "                'p': {'X': ('q8','')}\n",
    "            }, \n",
    "            'q8': {\n",
    "                'p': {'X': ('q9','')}\n",
    "            }, \n",
    "            'q9': {\n",
    "                'p': {'X': ('q9','')},\n",
    "                '' : {'Z': ('q10',('Z',))}\n",
    "            } \n",
    "        },\n",
    "        initial_state='q0',\n",
    "        initial_stack_symbol='Z',\n",
    "        final_states={'q10'}\n",
    "        \n",
    "    )\n",
    "    return d\n",
    "\n",
    "import urllib, urllib.parse, inspect \n",
    "src2 = urllib.parse.quote_plus(inspect.getsource(ejercicio2))"
   ]
  },
  {
   "cell_type": "markdown",
   "metadata": {},
   "source": [
    "\n",
    "|Palabras Aceptadas $\\hspace{2.0cm}$ | Palabras rechazadas $\\hspace{2.0cm}$ |\n",
    "|------------------------------------|--------------------------------------|\n",
    "|$ghhhhmnpp       \\hspace{0.1cm}$        |$ghhhhmnp\\hspace{0.1cm}       $              |\n",
    "|$gghhhhhhhhmmnppp$                   |$gghhmnpp\\hspace{0.1cm}            $     |\n",
    "|$ghhhhmnnppp$                         |$ghhhmmnppp\\hspace{0.1cm} $                |\n",
    "|$gghhhhhhhhmmnnpppp$                 |$ghhhhmmmnp\\hspace{0.1cm}$                |\n",
    "|$ghhhhmmmnpppp$                   |$gghhhmnpppp\\hspace{0.1cm}$                |\n"
   ]
  },
  {
   "cell_type": "markdown",
   "metadata": {},
   "source": [
    "#### Evalue su respuesta antes de subirla:"
   ]
  },
  {
   "cell_type": "code",
   "execution_count": 12,
   "metadata": {
    "collapsed": false
   },
   "outputs": [
    {
     "name": "stdout",
     "output_type": "stream",
     "text": [
      "testing wrong word:  the DPDA stopped in a non-accepting configuration (q8, ZX)\r\n",
      "testing wrong word:  The automaton entered a configuration for which no transition is defined (q3, m, G)\r\n",
      "testing wrong word:  The automaton entered a configuration for which no transition is defined (q4, m, G)\r\n",
      "testing wrong word:  the DPDA stopped in a non-accepting configuration (q8, ZXXX)\r\n",
      "testing wrong word:  The automaton entered a configuration for which no transition is defined (q4, m, G)\r\n",
      "evaluation result CORRECT\r\n"
     ]
    }
   ],
   "source": [
    "!./run CHECK_SOLUTION Examen3_2 $src2"
   ]
  },
  {
   "cell_type": "markdown",
   "metadata": {},
   "source": [
    "<div style=\"height:100px;\"></div>"
   ]
  },
  {
   "cell_type": "markdown",
   "metadata": {},
   "source": [
    "## Máquinas de Turing (MT)\n",
    "\n",
    "3) Diseñe una <b>MT simple</b> que calcule el residuo de la división de n por 5, para cualquier número natural $n \\gt 0$ escrito en el sistema de numeración unario (n se escribe como una secuencia de unos)."
   ]
  },
  {
   "cell_type": "markdown",
   "metadata": {},
   "source": [
    "- Elabore el diagrama de transiciones"
   ]
  },
  {
   "cell_type": "markdown",
   "metadata": {},
   "source": [
    "<img src=\"files/diagrama_3.png\" />"
   ]
  },
  {
   "cell_type": "code",
   "execution_count": 17,
   "metadata": {
    "collapsed": true
   },
   "outputs": [],
   "source": [
    "def ejercicio3():\n",
    "    from automata.tm.dtm import DTM\n",
    "    d = DTM(\n",
    "        states={'q0', 'q1', 'q2', 'q3', 'q4', 'q5', 'q6', 'q7'},\n",
    "        input_symbols={'1'},\n",
    "        tape_symbols={'x', '1', 'B'}, #El punto se usa para limpiar el símbolo de la cinta\n",
    "        transitions={\n",
    "            'q0': {\n",
    "                '1': ('q1', '1', 'R'),\n",
    "                'B': ('q7', 'B', 'R')\n",
    "            },\n",
    "            'q1': {\n",
    "                '1': ('q2', '1', 'R'),\n",
    "                'B': ('q7', 'B', 'R')\n",
    "            },\n",
    "            'q2': {\n",
    "                '1': ('q3', '1', 'R'),\n",
    "                'B': ('q7', 'B', 'R')\n",
    "            },\n",
    "            'q3': {\n",
    "                '1': ('q4', '1', 'R'),\n",
    "                'B': ('q7', 'B', 'R')\n",
    "            },\n",
    "            'q4': {\n",
    "                '1': ('q5', 'x', 'L'),\n",
    "                'B': ('q7', 'B', 'R')\n",
    "            },\n",
    "            'q5': {\n",
    "                '1': ('q5', 'B', 'L'),\n",
    "                'B': ('q6', 'B', 'R')\n",
    "            },\n",
    "            'q6': {\n",
    "                'x': ('q0', 'B', 'R'),\n",
    "                'B': ('q6', 'B', 'R')\n",
    "            }\n",
    "        },\n",
    "        initial_state='q0',\n",
    "        blank_symbol='B',\n",
    "        final_states={'q7'}        \n",
    "    )\n",
    "    return d\n",
    "import urllib, urllib.parse, inspect \n",
    "src3 = urllib.parse.quote_plus(inspect.getsource(ejercicio3))"
   ]
  },
  {
   "cell_type": "markdown",
   "metadata": {},
   "source": [
    "#### Evalue su respuesta antes de subirla:"
   ]
  },
  {
   "cell_type": "code",
   "execution_count": 18,
   "metadata": {
    "collapsed": false
   },
   "outputs": [
    {
     "name": "stdout",
     "output_type": "stream",
     "text": [
      "TMTape('BBBBBB1B')\r\n",
      "BBBBBB1B\r\n",
      "evaluation result CORRECT\r\n"
     ]
    }
   ],
   "source": [
    "!./run CHECK_SOLUTION Examen3_3 $src3"
   ]
  },
  {
   "cell_type": "markdown",
   "metadata": {},
   "source": [
    "<div style=\"height:100px;\"></div>"
   ]
  },
  {
   "cell_type": "markdown",
   "metadata": {},
   "source": [
    "## Máquinas de Turing (MT)\n",
    "\n",
    "4) Diseñe una MT simple para reconocer el lenguaje de los palíndromos de longitud par con $\\Sigma=\\{x,y\\}$:"
   ]
  },
  {
   "cell_type": "markdown",
   "metadata": {},
   "source": [
    "- Elabore el diagrama de transiciones"
   ]
  },
  {
   "cell_type": "markdown",
   "metadata": {},
   "source": [
    "<img src=\"files/diagrama_4.png\" />"
   ]
  },
  {
   "cell_type": "code",
   "execution_count": 1,
   "metadata": {
    "collapsed": true
   },
   "outputs": [],
   "source": [
    "def ejercicio4():\n",
    "    from automata.tm.dtm import DTM\n",
    "    d = DTM(\n",
    "        states={'q0', 'q1', 'q2', 'q3', 'q4', 'q5', 'q6', 'q7', 'q8'},\n",
    "        input_symbols={'x','y','A','B'},\n",
    "        tape_symbols={'x', 'y','A','B','.'}, #El punto se usa para limpiar el símbolo de la cinta\n",
    "        transitions={\n",
    "            'q0': {\n",
    "                'x': ('q1', 'A', 'R'),\n",
    "                'y': ('q4', 'B', 'R'),\n",
    "                'A': ('q7', 'A', 'R'),\n",
    "                'B': ('q7', 'B', 'R')\n",
    "            },\n",
    "            'q1': {\n",
    "                'x': ('q1', 'x', 'R'),\n",
    "                'y': ('q1', 'y', 'R'),\n",
    "                'A': ('q1', 'A', 'R'),\n",
    "                'B': ('q1', 'B', 'R'),\n",
    "                '.': ('q2', '.', 'L')\n",
    "            },\n",
    "            'q2': {\n",
    "                'x': ('q3', 'A', 'L'),\n",
    "                'A': ('q2', 'A', 'L'),\n",
    "                'B': ('q2', 'B', 'L')\n",
    "            },\n",
    "            'q3': {\n",
    "                'x': ('q3', 'x', 'L'),\n",
    "                'y': ('q3', 'y', 'L'),\n",
    "                'A': ('q0', 'A', 'R')\n",
    "            },\n",
    "            'q4': {\n",
    "                'x': ('q4', 'x', 'R'),\n",
    "                'y': ('q4', 'y', 'R'),\n",
    "                'A': ('q4', 'A', 'R'),\n",
    "                'B': ('q4', 'B', 'R'),\n",
    "                '.': ('q5', '.', 'L')\n",
    "            },\n",
    "            'q5': {\n",
    "                'y': ('q6', 'B', 'L'),\n",
    "                'A': ('q5', 'A', 'L'),\n",
    "                'B': ('q5', 'B', 'L')\n",
    "            },\n",
    "            'q6': {\n",
    "                'x': ('q6', 'x', 'L'),\n",
    "                'y': ('q6', 'y', 'L'),\n",
    "                'B': ('q0', 'B', 'R')\n",
    "            },\n",
    "            'q7': {\n",
    "                'A': ('q7', 'A', 'R'),\n",
    "                'B': ('q7', 'B', 'R'),\n",
    "                '.': ('q8', '.', 'L')\n",
    "                \n",
    "            }\n",
    "        },\n",
    "        initial_state='q0',\n",
    "        blank_symbol='.',\n",
    "        final_states={'q8'}    \n",
    "    )\n",
    "    return d\n",
    "import urllib, urllib.parse, inspect\n",
    "src4 = urllib.parse.quote_plus(inspect.getsource(ejercicio4))"
   ]
  },
  {
   "cell_type": "markdown",
   "metadata": {},
   "source": [
    "\n",
    "|Palabras Aceptadas $\\hspace{2.0cm}$ | Palabras rechazadas $\\hspace{2.0cm}$ |\n",
    "|------------------------------------|--------------------------------------|\n",
    "|$xx         \\hspace{0.1cm}$        |$xyxy\\hspace{0.1cm}       $           |\n",
    "|$xyyx         $                    |$yyxxyx \\hspace{0.1cm}          $     |\n",
    "|$yxyyxy   $                    |$xyyxx\\hspace{0.1cm} $                |\n",
    "|$xxyyxx   $                 |$yxxx\\hspace{0.1cm}$               |\n"
   ]
  },
  {
   "cell_type": "markdown",
   "metadata": {},
   "source": [
    "#### Evalue su respuesta antes de subirla:"
   ]
  },
  {
   "cell_type": "code",
   "execution_count": 2,
   "metadata": {
    "collapsed": false
   },
   "outputs": [
    {
     "name": "stdout",
     "output_type": "stream",
     "text": [
      "testing wrong word:  The machine entered a non-final configuration for which no transition is defined (q2, y)\r\n",
      "testing wrong word:  The machine entered a non-final configuration for which no transition is defined (q5, x)\r\n",
      "testing wrong word:  The machine entered a non-final configuration for which no transition is defined (q5, x)\r\n",
      "testing wrong word:  The machine entered a non-final configuration for which no transition is defined (q5, x)\r\n",
      "evaluation result CORRECT\r\n"
     ]
    }
   ],
   "source": [
    "!./run CHECK_SOLUTION Examen3_4 $src4"
   ]
  },
  {
   "cell_type": "markdown",
   "metadata": {
    "collapsed": true
   },
   "source": [
    "<div style=\"height:100px;\"></div>"
   ]
  },
  {
   "cell_type": "markdown",
   "metadata": {
    "collapsed": true
   },
   "source": [
    "## Autómatas de Pila NO DETERMINISTAS"
   ]
  },
  {
   "cell_type": "markdown",
   "metadata": {
    "collapsed": true
   },
   "source": [
    "5) Diseñe un autómata de pila NO DETERMINISTA que acepte el lenguaje:<br><br>\n",
    "$L = \\{ p^{i} \\ q^{k} \\ x \\ q \\ x^{R} \\ r^{m} \\enspace | \\enspace x \\in \\{s,t\\}^{*} \\enspace \\land \\enspace i+k=m \\enspace \\land \\enspace i,k \\gt 0 \\enspace \\}$."
   ]
  },
  {
   "cell_type": "markdown",
   "metadata": {
    "collapsed": true
   },
   "source": [
    "- Elabore el diagrama de transiciones"
   ]
  },
  {
   "cell_type": "markdown",
   "metadata": {
    "collapsed": true
   },
   "source": [
    "<img src=\"files/diagrama_5.png\" />"
   ]
  },
  {
   "cell_type": "markdown",
   "metadata": {
    "collapsed": true
   },
   "source": [
    "- <b>IMPORTANTE:</b> <span style=\"color:red;\">Adjunte <b>TAMBIÉN</b> dentro del parcial el archivo \".jff\" generado por JFLAP<span>\n",
    "<br><br>\n",
    "\n",
    "<b style=\"color:red; font-weight:bold;\">- RECUERDE: Si no adjunta la imagen del diagrama de transiciones y el archivo creado en JFLAP, el punto será anulado.</b>"
   ]
  },
  {
   "cell_type": "markdown",
   "metadata": {
    "collapsed": true
   },
   "source": [
    "<div style=\"height:100px;\"></div>"
   ]
  },
  {
   "cell_type": "markdown",
   "metadata": {},
   "source": [
    "<p style=\"font-size:20px;font-weight:bold;\"><span style=\"color:#FFF; background-color:#080; font-weight:bold; padding:4px;\">PASO FINAL</span></p>\n",
    "<p style=\"font-size:20px;font-weight:bold;\">Por favor reemplazar el contenido de la variable con su código de estudiante y ejecutar la celda:</p>"
   ]
  },
  {
   "cell_type": "code",
   "execution_count": null,
   "metadata": {
    "collapsed": true
   },
   "outputs": [],
   "source": [
    "codigo=2181969"
   ]
  },
  {
   "cell_type": "markdown",
   "metadata": {},
   "source": [
    "<p style=\"font-size:20px;font-weight:bold;\">Ejecute esta celda para empaquetar su trabajo.</p>"
   ]
  },
  {
   "cell_type": "code",
   "execution_count": null,
   "metadata": {
    "collapsed": false
   },
   "outputs": [],
   "source": [
    "!./empaquetar.sh $codigo"
   ]
  }
 ],
 "metadata": {
  "kernelspec": {
   "display_name": "Python 3",
   "language": "python",
   "name": "python3"
  },
  "language_info": {
   "codemirror_mode": {
    "name": "ipython",
    "version": 3
   },
   "file_extension": ".py",
   "mimetype": "text/x-python",
   "name": "python",
   "nbconvert_exporter": "python",
   "pygments_lexer": "ipython3",
   "version": "3.6.2"
  }
 },
 "nbformat": 4,
 "nbformat_minor": 2
}

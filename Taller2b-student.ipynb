{
 "cells": [
  {
   "cell_type": "markdown",
   "metadata": {},
   "source": [
    "# Taller 2 - Gramáticas libres de contexto\n",
    "\n",
    "**Autómatas y Lenguajes Formales**\n",
    "\n",
    "**Profesor: Gustavo Garzón**\n",
    "\n",
    "**Escuela de Ingeniería de Sistemas e Informática**   \n",
    "\n",
    "_Enero de 2021_"
   ]
  },
  {
   "cell_type": "markdown",
   "metadata": {},
   "source": [
    "<ul>\n",
    "<li>**Recomendamos activar el kernel de Python3:** menú \"Kernel\" >> \"Change kernel\" >> \"Python 3\"</li>\n",
    "<li>Envíe el desarrollo del taller en medio digital al correo <span style=\"text-decoration:underline;\">gustavo.garzon@saber.uis.edu.co</span> antes del <b>lunes 01 de febrero / 2021</b> - 11:59 p.m.</li>\n",
    "<li>No olvide colocar en el asunto del mensaje de correo: \"Taller 02 Gramáticas libres de contexto\"</li>\n",
    "</ul>"
   ]
  },
  {
   "cell_type": "markdown",
   "metadata": {},
   "source": [
    "<h2><span style=\"color:#FFF; background-color:#F00; font-weight:bold; padding:4px;\">¡IMPORTANTE!</span> Ejecute esta celda para iniciar la actividad</h2>"
   ]
  },
  {
   "cell_type": "code",
   "execution_count": 1,
   "metadata": {
    "collapsed": true
   },
   "outputs": [],
   "source": [
    "!chmod 777 empaquetar.sh run utils/*"
   ]
  },
  {
   "cell_type": "markdown",
   "metadata": {},
   "source": [
    "<h2><span style=\"color:#FFF; background-color:#F00; font-weight:bold; padding:4px;\">¡IMPORTANTE!</span></h2><br><h2 style=\"margin-top:-10px;\">Usted debe ejecutar <span style=\"color:#F00;\">TODAS</span> las celdas de tipo <span style=\"color:#F00;\">CODE</span>. De lo contrario, sus respuestas no serán procesadas correctamente.</h2>"
   ]
  },
  {
   "cell_type": "markdown",
   "metadata": {},
   "source": [
    "<div style=\"height:100px;\"></div>"
   ]
  },
  {
   "cell_type": "markdown",
   "metadata": {},
   "source": [
    "## Gramáticas independientes del contexto\n",
    "\n",
    "Diseñe las gramáticas independientes del contexto para los siguientes lenguajes utilizando la librería nltk (utilizar la sintaxis vista en clase) y determinar los árboles de derivación:"
   ]
  },
  {
   "cell_type": "markdown",
   "metadata": {},
   "source": [
    "# 1.a"
   ]
  },
  {
   "cell_type": "markdown",
   "metadata": {},
   "source": [
    "a) $L = \\{ w \\in \\{p,q\\}^{*} \\enspace | \\enspace \\text{tales que, NO CONTENGAN la subcadena 'ppq' } \\}$\n",
    "\n",
    "Consejo:\n",
    "- Diseñe un autómata que ACEPTE las palabras que CONTENGAN la subcadena 'ppq'\n",
    "- Hallar el complemento (negar las palabras aceptadas)\n",
    "- Hallar la E.R. total del complemento\n",
    "- Diseñe el diagrama de estados del complemento\n",
    "- Diseñar la gramática."
   ]
  },
  {
   "cell_type": "markdown",
   "metadata": {},
   "source": [
    "**Diagrama de estados del <span style=\"color:red;\">complemento</span>:**"
   ]
  },
  {
   "cell_type": "markdown",
   "metadata": {},
   "source": [
    "<img src=\"files/diagrama_1.png\" width=600 />"
   ]
  },
  {
   "cell_type": "markdown",
   "metadata": {},
   "source": [
    "$ ER = (q + pq)^*p(\\epsilon + pp^*)$"
   ]
  },
  {
   "cell_type": "markdown",
   "metadata": {},
   "source": [
    "**Diseñar la gramática:**"
   ]
  },
  {
   "cell_type": "code",
   "execution_count": 2,
   "metadata": {
    "collapsed": true
   },
   "outputs": [],
   "source": [
    "def ejercicio1a():\n",
    "    import nltk\n",
    "    from nltk import CFG\n",
    "    from nltk.parse.generate import generate      \n",
    "    \n",
    "    cfg = CFG.fromstring(\"\"\"\n",
    "    S -> 'q' S | 'p' 'q' S | R\n",
    "    R -> 'p' | 'p' R |\n",
    "    \"\"\")\n",
    "    grammar = list(generate(cfg, depth=5))\n",
    "    for i in range(len(grammar)):\n",
    "        grammar[i] = ''.join(grammar[i])\n",
    "    return cfg,grammar\n",
    "\n",
    "import urllib, urllib.parse, inspect \n",
    "src1 = urllib.parse.quote_plus(inspect.getsource(ejercicio1a)) "
   ]
  },
  {
   "cell_type": "markdown",
   "metadata": {},
   "source": [
    "Determine los árboles de derivación para las primeras dos palabras aceptadas:"
   ]
  },
  {
   "cell_type": "code",
   "execution_count": 3,
   "metadata": {
    "collapsed": false,
    "scrolled": false
   },
   "outputs": [
    {
     "name": "stdout",
     "output_type": "stream",
     "text": [
      "(S p p p)\n",
      "         S             \n",
      "         |              \n",
      "         R             \n",
      "  _______|___           \n",
      " |           R         \n",
      " |    _______|___       \n",
      " |   |           R     \n",
      " |   |        ___|___   \n",
      " |   |       |       R \n",
      " |   |       |       |  \n",
      " p   p       p      ...\n",
      "\n",
      "None\n",
      "(S p p p)\n",
      "     S         \n",
      "     |          \n",
      "     R         \n",
      "  ___|___       \n",
      " |       R     \n",
      " |    ___|___   \n",
      " |   |       R \n",
      " |   |       |  \n",
      " p   p       p \n",
      "\n",
      "None\n",
      "(S q p p)\n",
      "         S             \n",
      "  _______|___           \n",
      " |           S         \n",
      " |           |          \n",
      " |           R         \n",
      " |    _______|___       \n",
      " |   |           R     \n",
      " |   |        ___|___   \n",
      " |   |       |       R \n",
      " |   |       |       |  \n",
      " q   p       p      ...\n",
      "\n",
      "None\n",
      "(S q p p)\n",
      "     S         \n",
      "  ___|___       \n",
      " |       S     \n",
      " |       |      \n",
      " |       R     \n",
      " |    ___|___   \n",
      " |   |       R \n",
      " |   |       |  \n",
      " q   p       p \n",
      "\n",
      "None\n"
     ]
    }
   ],
   "source": [
    "import nltk\n",
    "from nltk import CFG\n",
    "from nltk.parse.generate import generate  \n",
    "\n",
    "result = ejercicio1a()\n",
    "sent = ['p', 'p', 'p'];\n",
    "parser = nltk.ChartParser(result[0])\n",
    "for tree in parser.parse(sent): \n",
    "    print(tree.flatten());\n",
    "    print(tree.pretty_print());\n",
    "\n",
    "sent = ['q', 'p', 'p'];\n",
    "parser = nltk.ChartParser(result[0]);\n",
    "for tree in parser.parse(sent): \n",
    "    print(tree.flatten());\n",
    "    print(tree.pretty_print());"
   ]
  },
  {
   "cell_type": "markdown",
   "metadata": {},
   "source": [
    "\n",
    "|PALABRAS ACEPTADAS $\\hspace{1.0cm}$ |  PALABRAS RECHAZADAS $\\hspace{1.0cm}$|\n",
    "|------------------------------------|--------------------------------------|\n",
    "|$ppp   \\hspace{0.1cm}$                |$ppq\\hspace{0.1cm}       $             |\n",
    "|$qpp         $                      |$qppqp\\hspace{0.1cm}                $   |\n",
    "|$pqp       $                      |$pqppq\\hspace{0.1cm} $             |\n",
    "|$pqpqp   $                      |$qqppq\\hspace{0.1cm} $                |\n",
    "|$qpqp       $                    |$ppqqq\\hspace{0.1cm} $                  |\n"
   ]
  },
  {
   "cell_type": "markdown",
   "metadata": {},
   "source": [
    "#### Evalue su respuesta antes de subirla:\n"
   ]
  },
  {
   "cell_type": "code",
   "execution_count": 4,
   "metadata": {
    "collapsed": false
   },
   "outputs": [
    {
     "name": "stdout",
     "output_type": "stream",
     "text": [
      "evaluation result CORRECT\r\n"
     ]
    }
   ],
   "source": [
    "!./run CHECK_SOLUTION Taller2b_1 $src1"
   ]
  },
  {
   "cell_type": "markdown",
   "metadata": {
    "collapsed": true
   },
   "source": [
    "<div style=\"height:100px;\"></div>"
   ]
  },
  {
   "cell_type": "markdown",
   "metadata": {
    "collapsed": true
   },
   "source": [
    "# 1.b"
   ]
  },
  {
   "cell_type": "markdown",
   "metadata": {},
   "source": [
    "b) $L = \\{ a^{n}b^{m}c^{k} \\enspace | \\enspace k \\neq n+m \\}$"
   ]
  },
  {
   "cell_type": "code",
   "execution_count": 8,
   "metadata": {
    "collapsed": true
   },
   "outputs": [],
   "source": [
    "def ejercicio1b():\n",
    "    import nltk\n",
    "    from nltk import CFG\n",
    "    from nltk.parse.generate import generate      \n",
    "    \n",
    "    cfg = CFG.fromstring(\"\"\"\n",
    "    S -> 'a' A | 'b' B | C 'c'\n",
    "    A -> 'a' A | D\n",
    "    B -> 'b' B | E\n",
    "    C -> C 'c' | D\n",
    "    D -> 'a' D 'c' | 'b' E 'c' |\n",
    "    E -> 'b' E 'c' |\n",
    "    \"\"\")\n",
    "    grammar = list(generate(cfg, depth=12))\n",
    "    for i in range(len(grammar)):\n",
    "        grammar[i] = ''.join(grammar[i])\n",
    "    return cfg,grammar\n",
    "\n",
    "import urllib, urllib.parse, inspect \n",
    "src2 = urllib.parse.quote_plus(inspect.getsource(ejercicio1b))"
   ]
  },
  {
   "cell_type": "markdown",
   "metadata": {},
   "source": [
    "Determine los árboles de derivación para las primeras dos palabras aceptadas:"
   ]
  },
  {
   "cell_type": "code",
   "execution_count": 9,
   "metadata": {
    "collapsed": false,
    "scrolled": true
   },
   "outputs": [
    {
     "name": "stdout",
     "output_type": "stream",
     "text": [
      "(S a a a a a a a c)\n",
      "     S                                 \n",
      "  ___|___                               \n",
      " |       A                             \n",
      " |    ___|___                           \n",
      " |   |       A                         \n",
      " |   |    ___|_______                   \n",
      " |   |   |           A                 \n",
      " |   |   |    _______|___               \n",
      " |   |   |   |           A             \n",
      " |   |   |   |    _______|___           \n",
      " |   |   |   |   |           A         \n",
      " |   |   |   |   |    _______|___       \n",
      " |   |   |   |   |   |           A     \n",
      " |   |   |   |   |   |           |      \n",
      " |   |   |   |   |   |           D     \n",
      " |   |   |   |   |   |    _______|___   \n",
      " |   |   |   |   |   |   |       |   D \n",
      " |   |   |   |   |   |   |       |   |  \n",
      " a   a   a   a   a   a   a       c  ...\n",
      "\n",
      "None\n",
      "(S a a a a c c c c c)\n",
      "                 S                     \n",
      "  _______________|___                   \n",
      " |                   C                 \n",
      " |                   |                  \n",
      " |                   D                 \n",
      " |    _______________|___               \n",
      " |   |   |               D             \n",
      " |   |   |    ___________|___           \n",
      " |   |   |   |   |           D         \n",
      " |   |   |   |   |    _______|___       \n",
      " |   |   |   |   |   |   |       D     \n",
      " |   |   |   |   |   |   |    ___|___   \n",
      " |   |   |   |   |   |   |   |   |   D \n",
      " |   |   |   |   |   |   |   |   |   |  \n",
      " c   a   c   a   c   a   c   a   c  ...\n",
      "\n",
      "None\n"
     ]
    }
   ],
   "source": [
    "import nltk\n",
    "from nltk import CFG\n",
    "from nltk.parse.generate import generate\n",
    "result = ejercicio1b()\n",
    "\n",
    "sent = ['a', 'a', 'a', 'a', 'a', 'a', 'a', 'c'];\n",
    "parser = nltk.ChartParser(result[0])\n",
    "for tree in parser.parse(sent): \n",
    "    print(tree.flatten())\n",
    "    print(tree.pretty_print())\n",
    "\n",
    "sent = ['a', 'a', 'a', 'a', 'c', 'c', 'c', 'c', 'c'];\n",
    "parser = nltk.ChartParser(result[0])\n",
    "for tree in parser.parse(sent): \n",
    "    print(tree.flatten())\n",
    "    print(tree.pretty_print())"
   ]
  },
  {
   "cell_type": "markdown",
   "metadata": {},
   "source": [
    "\n",
    "|PALABRAS ACEPTADAS $\\hspace{1.0cm}$ |  PALABRAS RECHAZADAS $\\hspace{1.0cm}$|\n",
    "|------------------------------------|--------------------------------------|\n",
    "|$aaaaaaac  \\hspace{0.1cm} $           |$abcc\\hspace{0.1cm}       $           |\n",
    "|$aaaacccccc         $            |$aabbbccccc\\hspace{0.1cm}               $   |\n",
    "|$bbbbcccccc       $                 |$ac\\hspace{0.1cm} $          |\n",
    "|$ccccccccc   $                   |$bc\\hspace{0.1cm} $                |\n",
    "|$aaabbbccc       $           |$cb\\hspace{0.1cm} $              |\n"
   ]
  },
  {
   "cell_type": "markdown",
   "metadata": {},
   "source": [
    "#### Evalue su respuesta antes de subirla:\n"
   ]
  },
  {
   "cell_type": "code",
   "execution_count": 10,
   "metadata": {
    "collapsed": false
   },
   "outputs": [
    {
     "name": "stdout",
     "output_type": "stream",
     "text": [
      "evaluation result CORRECT\r\n"
     ]
    }
   ],
   "source": [
    "!./run CHECK_SOLUTION Taller2b_2 $src2"
   ]
  },
  {
   "cell_type": "markdown",
   "metadata": {
    "collapsed": true
   },
   "source": [
    "<div style=\"height:100px;\"></div>"
   ]
  },
  {
   "cell_type": "markdown",
   "metadata": {},
   "source": [
    "# 1.c"
   ]
  },
  {
   "cell_type": "markdown",
   "metadata": {},
   "source": [
    "c) $L = \\{ \\space r^{4k}p^{k} + q^{2k}w^{3k} \\enspace | \\enspace k \\gt 0 \\space \\}$"
   ]
  },
  {
   "cell_type": "code",
   "execution_count": 17,
   "metadata": {
    "collapsed": true
   },
   "outputs": [],
   "source": [
    "def ejercicio1c():\n",
    "    import nltk\n",
    "    from nltk import CFG\n",
    "    from nltk.parse.generate import generate\n",
    "    \n",
    "    cfg = CFG.fromstring(\"\"\"\n",
    "    S -> P | Q\n",
    "    P -> 'r' 'r' 'r' 'r' P 'p' | 'r' 'r' 'r' 'r' 'p'\n",
    "    Q -> 'q' 'q' Q 'w' 'w' 'w' | 'q' 'q' 'w' 'w' 'w'\n",
    "    \"\"\")\n",
    "    grammar = list(generate(cfg, depth=5))\n",
    "    for i in range(len(grammar)):\n",
    "        grammar[i] = ''.join(grammar[i])\n",
    "    return cfg,grammar\n",
    "\n",
    "import urllib, urllib.parse, inspect \n",
    "src3 = urllib.parse.quote_plus(inspect.getsource(ejercicio1c))"
   ]
  },
  {
   "cell_type": "markdown",
   "metadata": {},
   "source": [
    "Determine los árboles de derivación para las primeras dos palabras aceptadas:"
   ]
  },
  {
   "cell_type": "code",
   "execution_count": 18,
   "metadata": {
    "collapsed": false
   },
   "outputs": [
    {
     "name": "stdout",
     "output_type": "stream",
     "text": [
      "(S r r r r p)\n",
      "         S         \n",
      "         |          \n",
      "         P         \n",
      "  _______|_______   \n",
      " r   r   r   r   p \n",
      "\n",
      "None\n",
      "(S r r r r r r r r p p)\n",
      "                 S                     \n",
      "                 |                      \n",
      "                 P                     \n",
      "  _______________|___________           \n",
      " |   |   |   |   |           P         \n",
      " |   |   |   |   |    _______|_______   \n",
      " r   r   r   r   p   r   r   r   r   p \n",
      "\n",
      "None\n"
     ]
    }
   ],
   "source": [
    "import nltk\n",
    "from nltk import CFG\n",
    "from nltk.parse.generate import generate\n",
    "\n",
    "result = ejercicio1c()\n",
    "sent = ['r', 'r', 'r', 'r', 'p'];\n",
    "parser = nltk.ChartParser(result[0])\n",
    "for tree in parser.parse(sent): \n",
    "    print(tree.flatten())\n",
    "    print(tree.pretty_print())\n",
    "    \n",
    "sent = ['r', 'r', 'r', 'r', 'r', 'r', 'r', 'r', 'p', 'p'];\n",
    "parser = nltk.ChartParser(result[0])\n",
    "for tree in parser.parse(sent): \n",
    "    print(tree.flatten())\n",
    "    print(tree.pretty_print())"
   ]
  },
  {
   "cell_type": "markdown",
   "metadata": {},
   "source": [
    "\n",
    "|PALABRAS ACEPTADAS $\\hspace{1.0cm}$ |  PALABRAS RECHAZADAS $\\hspace{1.0cm}$|\n",
    "|------------------------------------|--------------------------------------|\n",
    "|$rrrrp   \\hspace{0.1cm}$                |$rrrpp\\hspace{0.1cm}       $             |\n",
    "|$rrrrrrrrpp         $                    |$rppp\\hspace{0.1cm}                $   |\n",
    "|$qqwww       $                        |$qwwwwww\\hspace{0.1cm} $                |\n",
    "|$qqqqwwwwww   $                      |$qqqww\\hspace{0.1cm} $              |\n",
    "|$qqqqqqwwwwwwwww  $                    |$rrppppp\\hspace{0.1cm} $                 |\n"
   ]
  },
  {
   "cell_type": "markdown",
   "metadata": {},
   "source": [
    "#### Evalue su respuesta antes de subirla:\n"
   ]
  },
  {
   "cell_type": "code",
   "execution_count": 19,
   "metadata": {
    "collapsed": false
   },
   "outputs": [
    {
     "name": "stdout",
     "output_type": "stream",
     "text": [
      "evaluation result CORRECT\r\n"
     ]
    }
   ],
   "source": [
    "!./run CHECK_SOLUTION Taller2b_3 $src3"
   ]
  },
  {
   "cell_type": "markdown",
   "metadata": {
    "collapsed": true
   },
   "source": [
    "<div style=\"height:100px;\"></div>"
   ]
  },
  {
   "cell_type": "markdown",
   "metadata": {},
   "source": [
    "# 1.d"
   ]
  },
  {
   "cell_type": "markdown",
   "metadata": {},
   "source": [
    "d) $L = \\{ \\enspace uxwx^{R} \\enspace | \\enspace u,w \\in \\{a,b,c\\}^{+}  \\enspace \\land \\enspace x \\in \\{d,e\\}^{*} \\enspace \\land \\enspace |u|=2 \\enspace \\land \\enspace |w|=2 \\enspace \\}$\n",
    "\n",
    "Consejo:\n",
    "- Revise qué valores puede tomar $|x|$.\n",
    "- Determine las posibles subpalabras de tamaño $|u|$.\n",
    "- Diseñe una regla de producción de tipo $\\enspace x \\space w \\space x^{R}$.\n",
    "- Diseñar el resto de la gramática."
   ]
  },
  {
   "cell_type": "code",
   "execution_count": 26,
   "metadata": {
    "collapsed": true
   },
   "outputs": [],
   "source": [
    "def ejercicio1d():\n",
    "    import nltk\n",
    "    from nltk import CFG\n",
    "    from nltk.parse.generate import generate\n",
    "    \n",
    "    cfg = CFG.fromstring(\"\"\"\n",
    "    S -> UW X\n",
    "    X -> UW | 'd' X 'd' | 'e' X 'e' |\n",
    "    UW -> 'a' 'a' | 'a' 'b' | 'a' 'c' | 'b' 'b' | 'b' 'a' | 'b' 'c' | 'c' 'c' | 'c' 'a' | 'c' 'b' |\n",
    "    \"\"\")\n",
    "    grammar = list(generate(cfg, depth=6))\n",
    "    for i in range(len(grammar)):\n",
    "        grammar[i] = ''.join(grammar[i])\n",
    "    return cfg,grammar\n",
    "\n",
    "import urllib, urllib.parse, inspect \n",
    "src4 = urllib.parse.quote_plus(inspect.getsource(ejercicio1d))"
   ]
  },
  {
   "cell_type": "markdown",
   "metadata": {},
   "source": [
    "Determine los árboles de derivación para las dos primeras palabras:"
   ]
  },
  {
   "cell_type": "code",
   "execution_count": 27,
   "metadata": {
    "collapsed": false,
    "scrolled": true
   },
   "outputs": [
    {
     "name": "stdout",
     "output_type": "stream",
     "text": [
      "(S a a b b)\n",
      "             S             \n",
      "      _______|_______       \n",
      "     |               X     \n",
      "     |               |      \n",
      "     UW              UW    \n",
      "  ___|___         ___|___   \n",
      " a       a       b       b \n",
      "\n",
      "None\n",
      "(S a b d e c c e d)\n",
      "                 S                     \n",
      "      ___________|___                   \n",
      "     |               X                 \n",
      "     |        _______|___               \n",
      "     |       |   |       X             \n",
      "     |       |   |    ___|_______       \n",
      "     |       |   |   |   |       X     \n",
      "     |       |   |   |   |       |      \n",
      "     UW      |   |   |   |       UW    \n",
      "  ___|___    |   |   |   |    ___|___   \n",
      " a       b   d   d   e   e   c       c \n",
      "\n",
      "None\n"
     ]
    }
   ],
   "source": [
    "import nltk\n",
    "from nltk import CFG\n",
    "from nltk.parse.generate import generate\n",
    "\n",
    "result = ejercicio1d()\n",
    "sent = ['a', 'a', 'b', 'b'];\n",
    "parser = nltk.ChartParser(result[0])\n",
    "for tree in parser.parse(sent): \n",
    "    print(tree.flatten())\n",
    "    print(tree.pretty_print())\n",
    "\n",
    "sent = ['a', 'b', 'd', 'e', 'c', 'c', 'e', 'd'];\n",
    "parser = nltk.ChartParser(result[0])\n",
    "for tree in parser.parse(sent): \n",
    "    print(tree.flatten())\n",
    "    print(tree.pretty_print())"
   ]
  },
  {
   "cell_type": "markdown",
   "metadata": {},
   "source": [
    "\n",
    "|PALABRAS ACEPTADAS $\\hspace{1.0cm}$ |  PALABRAS RECHAZADAS $\\hspace{1.0cm}$|\n",
    "|------------------------------------|--------------------------------------|\n",
    "|$aabb   \\hspace{0.1cm}$           |$bbddaaee\\hspace{0.1cm}       $           |\n",
    "|$abdecced         $                   |$abedcced\\hspace{0.1cm}            $    |\n",
    "|$baedaade       $                     |$ccdebade\\hspace{0.1cm} $               |\n",
    "|$ccaa  $                    |$aadeecaede\\hspace{0.1cm} $                  |\n",
    "|$caddbbdd       $                  |$baeeccdd\\hspace{0.1cm} $          |\n"
   ]
  },
  {
   "cell_type": "markdown",
   "metadata": {},
   "source": [
    "#### Evalue su respuesta antes de subirla:\n"
   ]
  },
  {
   "cell_type": "code",
   "execution_count": 28,
   "metadata": {
    "collapsed": false
   },
   "outputs": [
    {
     "name": "stdout",
     "output_type": "stream",
     "text": [
      "evaluation result CORRECT\r\n"
     ]
    }
   ],
   "source": [
    "!./run CHECK_SOLUTION Taller2b_4 $src4"
   ]
  },
  {
   "cell_type": "markdown",
   "metadata": {
    "collapsed": true
   },
   "source": [
    "<div style=\"height:100px;\"></div>"
   ]
  },
  {
   "cell_type": "markdown",
   "metadata": {},
   "source": [
    "# 1.e"
   ]
  },
  {
   "cell_type": "markdown",
   "metadata": {},
   "source": [
    "e) Realiza una GLC que coincida con esta expresión regular: &nbsp; &nbsp; $(mn)^{*} + op(qq)^{+} + nn m^{*}$"
   ]
  },
  {
   "cell_type": "code",
   "execution_count": 38,
   "metadata": {
    "collapsed": true
   },
   "outputs": [],
   "source": [
    "def ejercicio1e():\n",
    "    import nltk\n",
    "    from nltk import CFG\n",
    "    from nltk.parse.generate import generate\n",
    "    \n",
    "    cfg = CFG.fromstring(\"\"\"\n",
    "    S -> X | Y | Z\n",
    "    X -> 'm' 'n' X | \n",
    "    Y -> Y 'q' 'q' | 'o' 'p'\n",
    "    Z -> Z 'm' | 'n' 'n' \n",
    "    \"\"\")\n",
    "    grammar = list(generate(cfg, depth=5))\n",
    "    for i in range(len(grammar)):\n",
    "        grammar[i] = ''.join(grammar[i])\n",
    "    return cfg,grammar\n",
    "\n",
    "import urllib, urllib.parse, inspect \n",
    "src5 = urllib.parse.quote_plus(inspect.getsource(ejercicio1e))"
   ]
  },
  {
   "cell_type": "markdown",
   "metadata": {},
   "source": [
    "Determine los árboles de derivación para las primeras dos palabras aceptadas:"
   ]
  },
  {
   "cell_type": "code",
   "execution_count": 39,
   "metadata": {
    "collapsed": false
   },
   "outputs": [
    {
     "name": "stdout",
     "output_type": "stream",
     "text": [
      "(S m n)\n",
      "     S     \n",
      "     |      \n",
      "     X     \n",
      "  ___|___   \n",
      " |   |   X \n",
      " |   |   |  \n",
      " m   n  ...\n",
      "\n",
      "None\n",
      "(S o p q q)\n",
      "     S             \n",
      "     |              \n",
      "     Y             \n",
      "  ___|_______       \n",
      " |   |       Y     \n",
      " |   |    ___|___   \n",
      " q   q   o       p \n",
      "\n",
      "None\n"
     ]
    }
   ],
   "source": [
    "import nltk\n",
    "from nltk import CFG\n",
    "from nltk.parse.generate import generate\n",
    "\n",
    "result = ejercicio1e()\n",
    "sent = ['m', 'n'];\n",
    "parser = nltk.ChartParser(result[0])\n",
    "for tree in parser.parse(sent): \n",
    "    print(tree.flatten())\n",
    "    print(tree.pretty_print())\n",
    "    \n",
    "sent = ['o', 'p', 'q', 'q'];\n",
    "parser = nltk.ChartParser(result[0])\n",
    "for tree in parser.parse(sent): \n",
    "    print(tree.flatten())\n",
    "    print(tree.pretty_print())"
   ]
  },
  {
   "cell_type": "markdown",
   "metadata": {},
   "source": [
    "\n",
    "|PALABRAS ACEPTADAS $\\hspace{1.0cm}$ |  PALABRAS RECHAZADAS $\\hspace{1.0cm}$|\n",
    "|------------------------------------|--------------------------------------|\n",
    "|$mn   \\hspace{0.1cm}$      |$mnn\\hspace{0.1cm}       $             |\n",
    "|$opqq         $                     |$opqqq\\hspace{0.1cm}                $   |\n",
    "|$nnmm  $              |$nm\\hspace{0.1cm} $                |\n",
    "|$mnmn   $                         |$oqpqqqq\\hspace{0.1cm} $              |\n",
    "|$opqqqq       $                      |$mnmnm\\hspace{0.1cm} $                 |\n",
    " "
   ]
  },
  {
   "cell_type": "markdown",
   "metadata": {},
   "source": [
    "#### Evalue su respuesta antes de subirla:\n"
   ]
  },
  {
   "cell_type": "code",
   "execution_count": 40,
   "metadata": {
    "collapsed": false
   },
   "outputs": [
    {
     "name": "stdout",
     "output_type": "stream",
     "text": [
      "evaluation result CORRECT\r\n"
     ]
    }
   ],
   "source": [
    "!./run CHECK_SOLUTION Taller2b_5 $src5"
   ]
  },
  {
   "cell_type": "markdown",
   "metadata": {
    "collapsed": true
   },
   "source": [
    "<div style=\"height:100px;\"></div>"
   ]
  },
  {
   "cell_type": "markdown",
   "metadata": {},
   "source": [
    "<p style=\"font-size:20px;font-weight:bold;\"><span style=\"color:#FFF; background-color:#080; font-weight:bold; padding:4px;\">PASO FINAL</span></p>\n",
    "<p style=\"font-size:20px;font-weight:bold;\">Por favor reemplazar el contenido de la variable con su código de estudiante y ejecutar la celda:</p>"
   ]
  },
  {
   "cell_type": "code",
   "execution_count": 41,
   "metadata": {
    "collapsed": true
   },
   "outputs": [],
   "source": [
    "codigo = 2181969"
   ]
  },
  {
   "cell_type": "markdown",
   "metadata": {},
   "source": [
    "<p style=\"font-size:20px;font-weight:bold;\">Ejecute esta celda para empaquetar su trabajo.</p>"
   ]
  },
  {
   "cell_type": "code",
   "execution_count": null,
   "metadata": {
    "collapsed": false
   },
   "outputs": [],
   "source": [
    "!./empaquetar.sh $codigo"
   ]
  }
 ],
 "metadata": {
  "kernelspec": {
   "display_name": "Python 3",
   "language": "python",
   "name": "python3"
  },
  "language_info": {
   "codemirror_mode": {
    "name": "ipython",
    "version": 3
   },
   "file_extension": ".py",
   "mimetype": "text/x-python",
   "name": "python",
   "nbconvert_exporter": "python",
   "pygments_lexer": "ipython3",
   "version": "3.6.2"
  }
 },
 "nbformat": 4,
 "nbformat_minor": 1
}

{
 "cells": [
  {
   "cell_type": "markdown",
   "metadata": {},
   "source": [
    "# Taller 2(a): Autómatas finitos y expresiones regulares \n",
    "\n",
    "**Autómatas y Lenguajes Formales**\n",
    "\n",
    "**Profesor: Gustavo Garzón**\n",
    "\n",
    "**Escuela de Ingeniería de Sistemas e Informática** \n",
    "\n",
    "_Enero de 2021_"
   ]
  },
  {
   "cell_type": "markdown",
   "metadata": {},
   "source": [
    "<ul>\n",
    "<li>Envíe el archivo ZIP correspondiente al taller al correo electrónico <span style=\"text-decoration:underline;\">gustavo.garzon@saber.uis.edu.co</span><br>Plazo de entrega: viernes <b style=\"color:#F00;\">22 de enero / 2021</b> - 11:59 p.m.</li>\n",
    "<li>No olvide colocar en el asunto del mensaje de correo: \"Taller 02(a) Expresiones Regulares\"</li>\n",
    "<li>**Recomendamos activar el kernel de Python3:** menú \"Kernel\" >> \"Change kernel\" >> \"Python 3\"</li>\n",
    "<li>Se recomienda utilizar la herramienta JFLAP ó el sitio web \"Finite State Machine Designer\" ( http://madebyevan.com/fsm/ ) para diseñar los diagramas de estados.</li>\n",
    "</ul>"
   ]
  },
  {
   "cell_type": "markdown",
   "metadata": {},
   "source": [
    "\n",
    "El presente taller puede ser realizado en grupos de máximo 3 (tres) personas.\n",
    "<ul>\n",
    "<li>Si lo desea, puede presentar el taller de forma individual.</li>\n",
    "<li>Deben elegir a uno de los integrantes para realizar el envío del archivo ZIP, mencionando en el mensaje a: todos los integrantes, sus grupos (J1, H2, J2) y sus códigos de estudiante.</li>\n",
    "</ul>"
   ]
  },
  {
   "cell_type": "markdown",
   "metadata": {},
   "source": [
    "<br>\n",
    "<span style=\"font-size:20px;font-weight:bold;\"><span style=\"background-color:#F00;color:#FFF;padding:10px;\">Importante</span><br>\n",
    "<p>Es de caracter obligatorio diligenciar la siguiente tabla con la información de los integrantes. De lo contrario, su trabajo <span style=\"text-decoration:underline;\">no será tenido en cuenta.</span></p>"
   ]
  },
  {
   "cell_type": "markdown",
   "metadata": {},
   "source": [
    "<table>\n",
    "<tr style=\"font-weight:bold;\"><td>Estudiante</td><td>Código</td><td>Grupo</td></tr>\n",
    "<tr><td>Rodriguez Moreno Ruben Dario</td><td>2181969</td><td>J2</td></tr>\n",
    "<tr><td> </td><td> </td><td> </td></tr>\n",
    "<tr><td> </td><td> </td><td> </td></tr>\n",
    "</table>"
   ]
  },
  {
   "cell_type": "markdown",
   "metadata": {},
   "source": [
    "<div style=\"height:40px;\"></div>"
   ]
  },
  {
   "cell_type": "markdown",
   "metadata": {},
   "source": [
    "<span style=\"font-size:20px;font-weight:bold;\"><span style=\"background-color:#F00;color:#FFF;padding:10px;\">Obligatorio</span> Ejecute esta celda para iniciar la actividad</span>"
   ]
  },
  {
   "cell_type": "code",
   "execution_count": 1,
   "metadata": {
    "collapsed": true
   },
   "outputs": [],
   "source": [
    "!chmod 777 empaquetar.sh"
   ]
  },
  {
   "cell_type": "markdown",
   "metadata": {},
   "source": [
    "<div style=\"height:50px;\"></div>"
   ]
  },
  {
   "cell_type": "markdown",
   "metadata": {},
   "source": [
    "# Conversión de Autómatas finitos hacia expresiones regulares (AF $\\to$ ER)"
   ]
  },
  {
   "cell_type": "markdown",
   "metadata": {},
   "source": [
    "A partir de la tabla de transiciones presentada en las siguientes tablas, convierta el AFD en una expresión regular utilizando el <span style=\"color:red;font-weight:bold;\">método de eliminación de estados</span>.<br>\n",
    "<b>Nota:</b> usted DEBE elaborar el diagrama de estados del autómata cuando se han eliminado todos los estados posibles, e indicar las expresiones regulares parciales (ej.: $ER_1 , ER_2 , ...$) que se deben unir para obtener la respuesta definitiva.\n",
    "\n",
    "<span style=\"color:blue;font-weight:bold;\">También</span>, **para cada autómata propuesto**, obtenga <span style=\"color:red;font-weight:bold;\">ÚNICAMENTE</span> las iteraciones $k=\\{0,1,2\\}$ por el <b style=\"color:red;\">método iterativo</b> $R_{ij}^{(k)}$, es decir:\n",
    "- Obtenga todas las expresiones regulares $R_{ij}^{(0)}$. Intente simplificar las expresiones lo máximo posible.\n",
    "- Obtenga todas las expresiones regulares $R_{ij}^{(1)}$. Intente simplificar las expresiones lo máximo posible.\n",
    "- Obtenga todas las expresiones regulares $R_{ij}^{(2)}$. Intente simplificar las expresiones lo máximo posible.\n",
    "\n",
    "<b>Nota:</b> lógicamente, al elaborar solamente las primeras 3 iteraciones del método iterativo, NO SE VA A OBTENER LA EXPRESIÓN REGULAR FINAL. Esta parte del ejercicio pretende evaluar el uso correcto de las fórmulas del método iterativo."
   ]
  },
  {
   "cell_type": "markdown",
   "metadata": {},
   "source": [
    "<br><br><br>\n",
    "**1**) Tabla 1:"
   ]
  },
  {
   "cell_type": "markdown",
   "metadata": {},
   "source": [
    "| | &nbsp;&nbsp; $a$ &nbsp;&nbsp; | &nbsp;&nbsp; $b$ &nbsp;&nbsp; | &nbsp;&nbsp; $c$ &nbsp;&nbsp; |\n",
    "|------------------------------------|--------------------------------------|\n",
    "| $\\rightarrow \\ast q_1$ | $\\enspace \\emptyset$ | $\\enspace q_2$ | $\\enspace \\emptyset$ |\n",
    "| $q_2$ | $\\enspace q_3$ | $\\enspace \\emptyset$ | $\\enspace \\emptyset$ |\n",
    "| $\\ast q_3$ | $\\enspace \\emptyset$ | $\\enspace q_4$ | $\\enspace q_2$ |\n",
    "| $q_4$ | $\\enspace \\emptyset$ | $\\enspace \\emptyset$ | $\\enspace q_3$ |\n",
    "\n",
    "<center style=\"margin-top:16px;\">Tabla de transiciones del AFD</center>"
   ]
  },
  {
   "cell_type": "markdown",
   "metadata": {},
   "source": [
    "<img src=\"files/diagrama_1.jpg\" />"
   ]
  },
  {
   "cell_type": "markdown",
   "metadata": {},
   "source": [
    "- Elabore el diagrama de estados del autómata cuando se han eliminado todos los estados posibles:"
   ]
  },
  {
   "cell_type": "markdown",
   "metadata": {},
   "source": [
    "<img src=\"files/diagrama_1.1.png\" />"
   ]
  },
  {
   "cell_type": "markdown",
   "metadata": {},
   "source": [
    "- Escriba las expresiones regulares parciales que se deben unir para obtener la respuesta definitiva (recuerde que <b style=\"color:red;\">cada estado de aceptación</b> va a producir una ER):"
   ]
  },
  {
   "cell_type": "markdown",
   "metadata": {},
   "source": [
    "${ER}_1 = \\epsilon $"
   ]
  },
  {
   "cell_type": "markdown",
   "metadata": {},
   "source": [
    "${ER}_2 = ba + (ca+ bc)$"
   ]
  },
  {
   "cell_type": "markdown",
   "metadata": {},
   "source": [
    "- Respuesta definitiva:"
   ]
  },
  {
   "cell_type": "markdown",
   "metadata": {},
   "source": [
    "$ER = \\epsilon + ba + (ca + bc)^*$"
   ]
  },
  {
   "cell_type": "markdown",
   "metadata": {},
   "source": [
    "- Tabla de expresiones regulares $R_{ij}^{(0)}$:\n",
    "\n",
    "<table>\n",
    "<tr>\n",
    "<td width=\"60\">$R_{11}^{(0)}$</td><td width=\"360\">$\\epsilon$</td>\n",
    "</tr>\n",
    "<tr>\n",
    "<td width=\"60\">$R_{12}^{(0)}$</td><td width=\"360\">$b$</td>\n",
    "</tr>\n",
    "<tr>\n",
    "<td width=\"60\">$R_{13}^{(0)}$</td><td width=\"360\">$\\emptyset$</td>\n",
    "</tr>\n",
    "<tr>\n",
    "<td width=\"60\">$R_{14}^{(0)}$</td><td width=\"360\">$\\emptyset$</td>\n",
    "</tr>\n",
    "<tr>\n",
    "<td width=\"60\">$R_{21}^{(0)}$</td><td width=\"360\">$\\emptyset$</td>\n",
    "</tr>\n",
    "<tr>\n",
    "<td width=\"60\">$R_{22}^{(0)}$</td><td width=\"360\">$\\epsilon$</td>\n",
    "</tr>\n",
    "<tr>\n",
    "<td width=\"60\">$R_{23}^{(0)}$</td><td width=\"360\">$a$</td>\n",
    "</tr>\n",
    "<tr>\n",
    "<td width=\"60\">$R_{24}^{(0)}$</td><td width=\"360\">$\\emptyset$</td>\n",
    "</tr>\n",
    "<tr>\n",
    "<td width=\"60\">$R_{31}^{(0)}$</td><td width=\"360\">$\\emptyset$</td>\n",
    "</tr>\n",
    "<tr>\n",
    "<td width=\"60\">$R_{32}^{(0)}$</td><td width=\"360\">$c$</td>\n",
    "</tr>\n",
    "<tr>\n",
    "<td width=\"60\">$R_{33}^{(0)}$</td><td width=\"360\">$\\epsilon$</td>\n",
    "</tr>\n",
    "<tr>\n",
    "<td width=\"60\">$R_{34}^{(0)}$</td><td width=\"360\">$b$</td>\n",
    "</tr>\n",
    "<tr>\n",
    "<td width=\"60\">$R_{41}^{(0)}$</td><td width=\"360\">$\\emptyset$</td>\n",
    "</tr>\n",
    "<tr>\n",
    "<td width=\"60\">$R_{42}^{(0)}$</td><td width=\"360\">$\\emptyset$</td>\n",
    "</tr>\n",
    "<tr>\n",
    "<td width=\"60\">$R_{43}^{(0)}$</td><td width=\"360\">$c$</td>\n",
    "</tr>\n",
    "<tr>\n",
    "<td width=\"60\">$R_{44}^{(0)}$</td><td width=\"360\">$\\epsilon$</td>\n",
    "</table>"
   ]
  },
  {
   "cell_type": "markdown",
   "metadata": {},
   "source": [
    "- Tabla de expresiones regulares $R_{ij}^{(1)}$:\n",
    "\n",
    "<table>\n",
    "<tr>\n",
    "<td width=\"60\">$R_{11}^{(0)}$</td><td width=\"360\">$\\epsilon$</td>\n",
    "</tr>\n",
    "<tr>\n",
    "<td width=\"60\">$R_{12}^{(0)}$</td><td width=\"360\">$b$</td>\n",
    "</tr>\n",
    "<tr>\n",
    "<td width=\"60\">$R_{13}^{(0)}$</td><td width=\"360\">$\\emptyset$</td>\n",
    "</tr>\n",
    "<tr>\n",
    "<td width=\"60\">$R_{14}^{(0)}$</td><td width=\"360\">$\\emptyset$</td>\n",
    "</tr>\n",
    "<tr>\n",
    "<td width=\"60\">$R_{21}^{(0)}$</td><td width=\"360\">$\\emptyset$</td>\n",
    "</tr>\n",
    "<tr>\n",
    "<td width=\"60\">$R_{22}^{(0)}$</td><td width=\"360\">$\\epsilon$</td>\n",
    "</tr>\n",
    "<tr>\n",
    "<td width=\"60\">$R_{23}^{(0)}$</td><td width=\"360\">$a$</td>\n",
    "</tr>\n",
    "<tr>\n",
    "<td width=\"60\">$R_{24}^{(0)}$</td><td width=\"360\">$\\emptyset$</td>\n",
    "</tr>\n",
    "<tr>\n",
    "<td width=\"60\">$R_{31}^{(0)}$</td><td width=\"360\">$\\emptyset$</td>\n",
    "</tr>\n",
    "<tr>\n",
    "<td width=\"60\">$R_{32}^{(0)}$</td><td width=\"360\">$c$</td>\n",
    "</tr>\n",
    "<tr>\n",
    "<td width=\"60\">$R_{33}^{(0)}$</td><td width=\"360\">$\\epsilon$</td>\n",
    "</tr>\n",
    "<tr>\n",
    "<td width=\"60\">$R_{34}^{(0)}$</td><td width=\"360\">$b$</td>\n",
    "</tr>\n",
    "<tr>\n",
    "<td width=\"60\">$R_{41}^{(0)}$</td><td width=\"360\">$\\emptyset$</td>\n",
    "</tr>\n",
    "<tr>\n",
    "<td width=\"60\">$R_{42}^{(0)}$</td><td width=\"360\">$\\emptyset$</td>\n",
    "</tr>\n",
    "<tr>\n",
    "<td width=\"60\">$R_{43}^{(0)}$</td><td width=\"360\">$c$</td>\n",
    "</tr>\n",
    "<tr>\n",
    "<td width=\"60\">$R_{44}^{(0)}$</td><td width=\"360\">$\\epsilon$</td>\n",
    "</table>"
   ]
  },
  {
   "cell_type": "markdown",
   "metadata": {},
   "source": [
    "- Tabla de expresiones regulares $R_{ij}^{(2)}$:\n",
    "\n",
    "<table>\n",
    "<tr>\n",
    "<td width=\"60\">$R_{11}^{(2)}$</td><td width=\"360\">$\\epsilon$</td>\n",
    "</tr>\n",
    "<tr>\n",
    "<td width=\"60\">$R_{12}^{(2)}$</td><td width=\"360\">$b$</td>\n",
    "</tr>\n",
    "<tr>\n",
    "<td width=\"60\">$R_{13}^{(2)}$</td><td width=\"360\">$ba$</td>\n",
    "</tr>\n",
    "<tr>\n",
    "<td width=\"60\">$R_{14}^{(2)}$</td><td width=\"360\">$\\emptyset$</td>\n",
    "</tr>\n",
    "<tr>\n",
    "<td width=\"60\">$R_{21}^{(2)}$</td><td width=\"360\">$\\emptyset$</td>\n",
    "</tr>\n",
    "<tr>\n",
    "<td width=\"60\">$R_{22}^{(2)}$</td><td width=\"360\">$\\epsilon$</td>\n",
    "</tr>\n",
    "<tr>\n",
    "<td width=\"60\">$R_{23}^{(2)}$</td><td width=\"360\">$a$</td>\n",
    "</tr>\n",
    "<tr>\n",
    "<td width=\"60\">$R_{24}^{(2)}$</td><td width=\"360\">$\\emptyset$</td>\n",
    "</tr>\n",
    "<tr>\n",
    "<td width=\"60\">$R_{31}^{(2)}$</td><td width=\"360\">$\\emptyset$</td>\n",
    "</tr>\n",
    "<tr>\n",
    "<td width=\"60\">$R_{32}^{(2)}$</td><td width=\"360\">$c$</td>\n",
    "</tr>\n",
    "<tr>\n",
    "<td width=\"60\">$R_{33}^{(2)}$</td><td width=\"360\">$\\epsilon + ca$</td>\n",
    "</tr>\n",
    "<tr>\n",
    "<td width=\"60\">$R_{34}^{(2)}$</td><td width=\"360\">$b$</td>\n",
    "</tr>\n",
    "<tr>\n",
    "<td width=\"60\">$R_{41}^{(2)}$</td><td width=\"360\">$\\emptyset$</td>\n",
    "</tr>\n",
    "<tr>\n",
    "<td width=\"60\">$R_{42}^{(2)}$</td><td width=\"360\">$\\emptyset$</td>\n",
    "</tr>\n",
    "<tr>\n",
    "<td width=\"60\">$R_{43}^{(2)}$</td><td width=\"360\">$c$</td>\n",
    "</tr>\n",
    "<tr>\n",
    "<td width=\"60\">$R_{44}^{(2)}$</td><td width=\"360\">$\\epsilon$</td>\n",
    "</table>"
   ]
  },
  {
   "cell_type": "markdown",
   "metadata": {},
   "source": [
    "<div style=\"height:100px;\"></div>"
   ]
  },
  {
   "cell_type": "markdown",
   "metadata": {},
   "source": [
    "**2**) Tabla 2:"
   ]
  },
  {
   "cell_type": "markdown",
   "metadata": {},
   "source": [
    "| | &nbsp;&nbsp; $0$ &nbsp;&nbsp; | &nbsp;&nbsp; $1$ &nbsp;&nbsp; |\n",
    "|------------------------------------|--------------------------------------|\n",
    "| $\\rightarrow q_1$ | $\\enspace \\emptyset$ | $\\enspace q_2$ |\n",
    "| $\\enspace q_2$ | $\\enspace q_1$ | $\\enspace q_3$ |\n",
    "| $\\ast q_3$ | $\\enspace q_2$ | $\\enspace q_1$ |\n",
    "\n",
    "<center style=\"margin-top:16px;\">Tabla de transiciones del AFD</center>"
   ]
  },
  {
   "cell_type": "markdown",
   "metadata": {},
   "source": [
    "<img src=\"files/diagrama_2.png\" />"
   ]
  },
  {
   "cell_type": "markdown",
   "metadata": {},
   "source": [
    "- Elabore el diagrama de estados del autómata cuando se han eliminado todos los estados posibles:"
   ]
  },
  {
   "cell_type": "markdown",
   "metadata": {},
   "source": [
    "<img src=\"files/diagrama_2.1.png\" />"
   ]
  },
  {
   "cell_type": "markdown",
   "metadata": {},
   "source": [
    "- Escriba la expresion regular (recuerde que <b style=\"color:red;\">cada estado de aceptación</b> va a producir una ER):"
   ]
  },
  {
   "cell_type": "markdown",
   "metadata": {},
   "source": [
    "${ER}_1 = (11(00 + 1))^*11$"
   ]
  },
  {
   "cell_type": "markdown",
   "metadata": {},
   "source": [
    "- Respuesta definitiva:"
   ]
  },
  {
   "cell_type": "markdown",
   "metadata": {},
   "source": [
    "${ER} = (11(00 + 1))^*11$"
   ]
  },
  {
   "cell_type": "markdown",
   "metadata": {},
   "source": [
    "- Tabla de expresiones regulares $R_{ij}^{(0)}$:\n",
    "\n",
    "<table>\n",
    "<tr>\n",
    "<td width=\"60\">$R_{11}^{(0)}$</td><td width=\"360\">$\\epsilon$</td>\n",
    "</tr>\n",
    "<tr>\n",
    "<td width=\"60\">$R_{12}^{(0)}$</td><td width=\"360\">$1$</td>\n",
    "</tr>\n",
    "<tr>\n",
    "<td width=\"60\">$R_{13}^{(0)}$</td><td width=\"360\">$\\emptyset$</td>\n",
    "</tr>\n",
    "<tr>\n",
    "<td width=\"60\">$R_{21}^{(0)}$</td><td width=\"360\">$0$</td>\n",
    "</tr>\n",
    "<tr>\n",
    "<td width=\"60\">$R_{22}^{(0)}$</td><td width=\"360\">$\\epsilon$</td>\n",
    "</tr>\n",
    "<tr>\n",
    "<td width=\"60\">$R_{23}^{(0)}$</td><td width=\"360\">$1$</td>\n",
    "</tr>\n",
    "<tr>\n",
    "<td width=\"60\">$R_{31}^{(0)}$</td><td width=\"360\">$1$</td>\n",
    "</tr>\n",
    "<tr>\n",
    "<td width=\"60\">$R_{32}^{(0)}$</td><td width=\"360\">$0$</td>\n",
    "</tr>\n",
    "<tr>\n",
    "<td width=\"60\">$R_{33}^{(0)}$</td><td width=\"360\">$\\epsilon$</td>\n",
    "</tr>\n",
    "</table>"
   ]
  },
  {
   "cell_type": "markdown",
   "metadata": {},
   "source": [
    "- Tabla de expresiones regulares $R_{ij}^{(1)}$:\n",
    "\n",
    "<table>\n",
    "<tr>\n",
    "<td width=\"60\">$R_{11}^{(1)}$</td><td width=\"360\">$\\epsilon$</td>\n",
    "</tr>\n",
    "<tr>\n",
    "<td width=\"60\">$R_{12}^{(1)}$</td><td width=\"360\">$1$</td>\n",
    "</tr>\n",
    "<tr>\n",
    "<td width=\"60\">$R_{13}^{(1)}$</td><td width=\"360\">$\\emptyset$</td>\n",
    "</tr>\n",
    "<tr>\n",
    "<td width=\"60\">$R_{21}^{(1)}$</td><td width=\"360\">$0$</td>\n",
    "</tr>\n",
    "<tr>\n",
    "<td width=\"60\">$R_{22}^{(1)}$</td><td width=\"360\">$01$</td>\n",
    "</tr>\n",
    "<tr>\n",
    "<td width=\"60\">$R_{23}^{(1)}$</td><td width=\"360\">$1$</td>\n",
    "</tr>\n",
    "<tr>\n",
    "<td width=\"60\">$R_{31}^{(1)}$</td><td width=\"360\">$1$</td>\n",
    "</tr>\n",
    "<tr>\n",
    "<td width=\"60\">$R_{32}^{(1)}$</td><td width=\"360\">$0 + 11$</td>\n",
    "</tr>\n",
    "<tr>\n",
    "<td width=\"60\">$R_{33}^{(1)}$</td><td width=\"360\">$\\epsilon$</td>\n",
    "</tr>\n",
    "</table>"
   ]
  },
  {
   "cell_type": "markdown",
   "metadata": {},
   "source": [
    "- Tabla de expresiones regulares $R_{ij}^{(2)}$:\n",
    "\n",
    "<table>\n",
    "<tr>\n",
    "<td width=\"60\">$R_{11}^{(2)}$</td><td width=\"360\">$\\epsilon + 1(01)^*0$</td>\n",
    "</tr>\n",
    "<tr>\n",
    "<td width=\"60\">$R_{12}^{(2)}$</td><td width=\"360\">$ 1 + 1(01)^*01$</td>\n",
    "</tr>\n",
    "<tr>\n",
    "<td width=\"60\">$R_{13}^{(2)}$</td><td width=\"360\">$ 1(01)^*1$</td>\n",
    "</tr>\n",
    "<tr>\n",
    "<td width=\"60\">$R_{21}^{(2)}$</td><td width=\"360\">$ 0 + 01(01)^*01$</td>\n",
    "</tr>\n",
    "<tr>\n",
    "<td width=\"60\">$R_{22}^{(2)}$</td><td width=\"360\">$ 01 + 1(01)^*1$</td>\n",
    "</tr>\n",
    "<tr>\n",
    "<td width=\"60\">$R_{23}^{(2)}$</td><td width=\"360\">$ 1 + 1(01)^*0$</td>\n",
    "</tr>\n",
    "<tr>\n",
    "<td width=\"60\">$R_{31}^{(2)}$</td><td width=\"360\">$ 1 + (0 + 11)(01)^*0$</td>\n",
    "</tr>\n",
    "<tr>\n",
    "<td width=\"60\">$R_{32}^{(2)}$</td><td width=\"360\">$ 0 + 11 + (0 + 11)(01)^*01$</td>\n",
    "</tr>\n",
    "<tr>\n",
    "<td width=\"60\">$R_{33}^{(2)}$</td><td width=\"360\">$ \\epsilon + (0 + 11)(01)^*1$</td>\n",
    "</tr>\n",
    "</table>"
   ]
  },
  {
   "cell_type": "markdown",
   "metadata": {},
   "source": [
    "<div style=\"height:100px;\"></div>"
   ]
  },
  {
   "cell_type": "markdown",
   "metadata": {},
   "source": [
    "**3**) Tabla 3 (Convierta el AFN-$\\varepsilon$ dado a su equivalente DETERMINISTA y obtenga la expresión regular para el autómata):"
   ]
  },
  {
   "cell_type": "markdown",
   "metadata": {},
   "source": [
    "| | &nbsp;&nbsp; $\\enspace \\varepsilon \\enspace$ &nbsp;&nbsp; | &nbsp;&nbsp; $\\enspace a \\enspace $ &nbsp;&nbsp; | &nbsp;&nbsp; $\\enspace b \\enspace$ &nbsp;&nbsp; |\n",
    "\n",
    "|------------------------------------------|-------------------------------------------------|\n",
    "| $\\rightarrow q_0$ | $\\enspace \\emptyset$ | $\\enspace         q_1$ | $\\enspace \\{q_3,q_2\\}$ |\n",
    "| $\\enspace    q_1$ | $\\enspace \\emptyset$ | $\\enspace \\emptyset  $ | $\\enspace         q_2$ |\n",
    "| $\\enspace    q_2$ | $\\enspace       q_3$ | $\\enspace \\{q_1,q_2\\}$ | $\\enspace         q_1$ |\n",
    "| $\\ast        q_3$ | $\\enspace \\emptyset$ | $\\enspace \\emptyset  $ | $\\enspace \\emptyset  $ |\n",
    "\n",
    "<center style=\"margin-top:16px;\">Tabla de transiciones del AFN-$\\varepsilon$</center>"
   ]
  },
  {
   "cell_type": "markdown",
   "metadata": {},
   "source": [
    "Diagrama ***AFN-$\\epsilon$***"
   ]
  },
  {
   "cell_type": "markdown",
   "metadata": {},
   "source": [
    "<img src=\"files/diagrama_3.png\" />"
   ]
  },
  {
   "cell_type": "markdown",
   "metadata": {},
   "source": [
    "Diagrama ***AFD***"
   ]
  },
  {
   "cell_type": "markdown",
   "metadata": {},
   "source": [
    "<img src=\"files/diagrama_3.1.png\" />"
   ]
  },
  {
   "cell_type": "markdown",
   "metadata": {},
   "source": [
    "- Elabore el diagrama de estados del correspondiente autómata DETERMINISTA cuando se han eliminado todos los estados posibles:"
   ]
  },
  {
   "cell_type": "markdown",
   "metadata": {},
   "source": [
    "<img src=\"files/diagrama_3.2.png\" />"
   ]
  },
  {
   "cell_type": "markdown",
   "metadata": {},
   "source": [
    "- Escriba las expresiones regulares parciales que se deben unir para obtener la respuesta definitiva (recuerde que <b style=\"color:red;\">cada estado de aceptación</b> va a producir una ER):"
   ]
  },
  {
   "cell_type": "markdown",
   "metadata": {},
   "source": [
    "${ER}_1 = ((ab+b)b)^*(ab + b)(\\epsilon + ab(aa^*b)^*)$\n",
    "\n",
    "${ER}_2 = ((ab+b)b)^*(ab + b)a(ba)^*a^*$"
   ]
  },
  {
   "cell_type": "markdown",
   "metadata": {},
   "source": [
    "- Respuesta definitiva:"
   ]
  },
  {
   "cell_type": "markdown",
   "metadata": {},
   "source": [
    "$ER = ((ab+b)b)^*(ab + b)(\\epsilon + ab(aa^*b)^* + a(ba)^*a^*)$"
   ]
  },
  {
   "cell_type": "markdown",
   "metadata": {},
   "source": [
    "- Tabla de expresiones regulares $R_{ij}^{(0)}$:\n",
    "\n",
    "<table>\n",
    "<tr>\n",
    "<td width=\"60\">$R_{00}^{(0)}$</td><td width=\"360\">$\\epsilon$</td>\n",
    "</tr>\n",
    "<tr>\n",
    "<td width=\"60\">$R_{01}^{(0)}$</td><td width=\"360\">a</td>\n",
    "</tr>\n",
    "<tr>\n",
    "<td width=\"60\">$R_{023}^{(0)}$</td><td width=\"360\">b</td>\n",
    "</tr>\n",
    "<tr>\n",
    "<td width=\"60\">$R_{0123}^{(0)}$</td><td width=\"360\">$\\emptyset$</td>\n",
    "</tr>\n",
    "<tr>\n",
    "<td width=\"60\">$R_{11}^{(0)}$</td><td width=\"360\">$\\epsilon$</td>\n",
    "</tr>\n",
    "<tr>\n",
    "<td width=\"60\">$R_{10}^{(0)}$</td><td width=\"360\">$\\emptyset$</td>\n",
    "</tr>\n",
    "<tr>\n",
    "<td width=\"60\">$R_{123}^{(0)}$</td><td width=\"360\">b</td>\n",
    "</tr>\n",
    "<tr>\n",
    "<td width=\"60\">$R_{1123}^{(0)}$</td><td width=\"360\">$\\emptyset$</td>\n",
    "</tr>\n",
    "<tr>\n",
    "<td width=\"60\">$R_{2323}^{(0)}$</td><td width=\"360\">$\\epsilon$</td>\n",
    "</tr>\n",
    "<tr>\n",
    "<td width=\"60\">$R_{230}^{(0)}$</td><td width=\"360\">b</td>\n",
    "</tr>\n",
    "<tr>\n",
    "<td width=\"60\">$R_{231}^{(0)}$</td><td width=\"360\">$\\emptyset$</td>\n",
    "</tr>\n",
    "<tr>\n",
    "<td width=\"60\">$R_{23123}^{(0)}$</td><td width=\"360\">a</td>\n",
    "</tr>\n",
    "<tr>\n",
    "<td width=\"60\">$R_{123123}^{(0)}$</td><td width=\"360\">$\\epsilon + a$</td>\n",
    "</tr>\n",
    "<tr>\n",
    "<td width=\"60\">$R_{1230}^{(0)}$</td><td width=\"360\">$\\emptyset$</td>\n",
    "</tr>\n",
    "<tr>\n",
    "<td width=\"60\">$R_{1231}^{(0)}$</td><td width=\"360\">$\\emptyset$</td>\n",
    "</tr>\n",
    "<tr>\n",
    "<td width=\"60\">$R_{12323}^{(0)}$</td><td width=\"360\">b</td>\n",
    "</tr>\n",
    "</table>"
   ]
  },
  {
   "cell_type": "markdown",
   "metadata": {},
   "source": [
    "- Tabla de expresiones regulares $R_{ij}^{(1)}$:\n",
    "\n",
    "<table>\n",
    "<tr>\n",
    "<td width=\"60\">$R_{00}^{(1)}$</td><td width=\"360\">$\\epsilon$</td>\n",
    "</tr>\n",
    "<tr>\n",
    "<td width=\"60\">$R_{01}^{(1)}$</td><td width=\"360\">a</td>\n",
    "</tr>\n",
    "<tr>\n",
    "<td width=\"60\">$R_{023}^{(1)}$</td><td width=\"360\">b + ab</td>\n",
    "</tr>\n",
    "<tr>\n",
    "<td width=\"60\">$R_{0123}^{(1)}$</td><td width=\"360\">$\\emptyset$</td>\n",
    "</tr>\n",
    "<tr>\n",
    "<td width=\"60\">$R_{11}^{(1)}$</td><td width=\"360\">$\\epsilon$</td>\n",
    "</tr>\n",
    "<tr>\n",
    "<td width=\"60\">$R_{10}^{(1)}$</td><td width=\"360\">$\\emptyset$</td>\n",
    "</tr>\n",
    "<tr>\n",
    "<td width=\"60\">$R_{123}^{(1)}$</td><td width=\"360\">b</td>\n",
    "</tr>\n",
    "<tr>\n",
    "<td width=\"60\">$R_{1123}^{(1)}$</td><td width=\"360\">$\\emptyset$</td>\n",
    "</tr>\n",
    "<tr>\n",
    "<td width=\"60\">$R_{2323}^{(1)}$</td><td width=\"360\">$\\epsilon$</td>\n",
    "</tr>\n",
    "<tr>\n",
    "<td width=\"60\">$R_{230}^{(1)}$</td><td width=\"360\">b</td>\n",
    "</tr>\n",
    "<tr>\n",
    "<td width=\"60\">$R_{231}^{(1)}$</td><td width=\"360\">$\\emptyset$</td>\n",
    "</tr>\n",
    "<tr>\n",
    "<td width=\"60\">$R_{23123}^{(1)}$</td><td width=\"360\">a</td>\n",
    "</tr>\n",
    "<tr>\n",
    "<td width=\"60\">$R_{123123}^{(1)}$</td><td width=\"360\">$\\epsilon + a$</td>\n",
    "</tr>\n",
    "<tr>\n",
    "<td width=\"60\">$R_{1230}^{(1)}$</td><td width=\"360\">$\\emptyset$</td>\n",
    "</tr>\n",
    "<tr>\n",
    "<td width=\"60\">$R_{1231}^{(1)}$</td><td width=\"360\">$\\emptyset$</td>\n",
    "</tr>\n",
    "<tr>\n",
    "<td width=\"60\">$R_{12323}^{(1)}$</td><td width=\"360\">b</td>\n",
    "</tr>\n",
    "</table>"
   ]
  },
  {
   "cell_type": "markdown",
   "metadata": {},
   "source": [
    "- Tabla de expresiones regulares $R_{ij}^{(23)}$:\n",
    "\n",
    "<table>\n",
    "<tr>\n",
    "<td width=\"60\">$R_{00}^{(1)}$</td><td width=\"360\">$\\epsilon + (b + ab)b$</td>\n",
    "</tr>\n",
    "<tr>\n",
    "<td width=\"60\">$R_{01}^{(1)}$</td><td width=\"360\">a</td>\n",
    "</tr>\n",
    "<tr>\n",
    "<td width=\"60\">$R_{023}^{(1)}$</td><td width=\"360\">b + ab</td>\n",
    "</tr>\n",
    "<tr>\n",
    "<td width=\"60\">$R_{0123}^{(1)}$</td><td width=\"360\">(b + ab)a</td>\n",
    "</tr>\n",
    "<tr>\n",
    "<td width=\"60\">$R_{11}^{(1)}$</td><td width=\"360\">$\\epsilon$</td>\n",
    "</tr>\n",
    "<tr>\n",
    "<td width=\"60\">$R_{10}^{(1)}$</td><td width=\"360\">$bb$</td>\n",
    "</tr>\n",
    "<tr>\n",
    "<td width=\"60\">$R_{123}^{(1)}$</td><td width=\"360\">b</td>\n",
    "</tr>\n",
    "<tr>\n",
    "<td width=\"60\">$R_{1123}^{(1)}$</td><td width=\"360\">$ba$</td>\n",
    "</tr>\n",
    "<tr>\n",
    "<td width=\"60\">$R_{2323}^{(1)}$</td><td width=\"360\">$\\epsilon$</td>\n",
    "</tr>\n",
    "<tr>\n",
    "<td width=\"60\">$R_{230}^{(1)}$</td><td width=\"360\">b</td>\n",
    "</tr>\n",
    "<tr>\n",
    "<td width=\"60\">$R_{231}^{(1)}$</td><td width=\"360\">$\\emptyset$</td>\n",
    "</tr>\n",
    "<tr>\n",
    "<td width=\"60\">$R_{23123}^{(1)}$</td><td width=\"360\">a</td>\n",
    "</tr>\n",
    "<tr>\n",
    "<td width=\"60\">$R_{123123}^{(1)}$</td><td width=\"360\">$\\epsilon + a + ba$</td>\n",
    "</tr>\n",
    "<tr>\n",
    "<td width=\"60\">$R_{1230}^{(1)}$</td><td width=\"360\">$bb$</td>\n",
    "</tr>\n",
    "<tr>\n",
    "<td width=\"60\">$R_{1231}^{(1)}$</td><td width=\"360\">$\\emptyset$</td>\n",
    "</tr>\n",
    "<tr>\n",
    "<td width=\"60\">$R_{12323}^{(1)}$</td><td width=\"360\">b</td>\n",
    "</tr>\n",
    "</table>"
   ]
  },
  {
   "cell_type": "markdown",
   "metadata": {},
   "source": [
    "<div style=\"height:100px;\"></div>"
   ]
  },
  {
   "cell_type": "markdown",
   "metadata": {},
   "source": [
    "# Conversión de Expresiones Regulares hacia Autómatas (ER $\\to$ AF)"
   ]
  },
  {
   "cell_type": "markdown",
   "metadata": {},
   "source": [
    "A partir de las expresiones regulares dadas, construya el autómata equivalente. Construya el diagrama de transiciones y pruebe tanto la expresión regular como el autómata equivalente con cinco palabras que **DEBE** aceptar y cinco palabras que **NO DEBE** aceptar.<br>\n",
    "<span style=\"color:blue;\"><b>Nota:</b> usted debe proponer dichas palabras.</span>"
   ]
  },
  {
   "cell_type": "markdown",
   "metadata": {},
   "source": [
    "**4)** Determine el AFD que corresponde a la expresión regular: &nbsp;&nbsp; $bba^{+}b(c + a)^{+}$\n",
    "- Escriba la tabla  de transición y Dibuje el Diagrama de estados.\n",
    "- Compruebe el funcionamiento utilizando palabras de ejemplo."
   ]
  },
  {
   "cell_type": "markdown",
   "metadata": {},
   "source": [
    "$bba^{+}b(c + a)^{+} = bbaa^{*}b(c+a)(c+a)^{*}$"
   ]
  },
  {
   "cell_type": "markdown",
   "metadata": {},
   "source": [
    "| | &nbsp;&nbsp; $\\enspace a \\enspace$ &nbsp;&nbsp; | &nbsp;&nbsp; $\\enspace b \\enspace $ &nbsp;&nbsp; | &nbsp;&nbsp; $\\enspace c \\enspace$ &nbsp;&nbsp; |\n",
    "|------------------------------------|--------------------------------------|\n",
    "| $\\rightarrow q_0$ | $\\enspace \\emptyset$ | $\\enspace        q_1$ | $\\enspace \\emptyset$ |\n",
    "| $\\enspace    q_1$ | $\\enspace \\emptyset$ | $\\enspace        q_2$ | $\\enspace \\emptyset$ |\n",
    "| $\\enspace    q_2$ | $\\enspace q_3      $ | $\\enspace  \\emptyset$ | $\\enspace \\emptyset$ |\n",
    "| $\\enspace    q_3$ | $\\enspace q_3      $ | $\\enspace        q_4$ | $\\enspace \\emptyset$ |\n",
    "| $\\enspace    q_4$ | $\\enspace q_5      $ | $\\enspace  \\emptyset$ | $\\enspace q_5      $ |\n",
    "| $\\ast        q_5$ | $\\enspace q_5      $ | $\\enspace  \\emptyset$ | $\\enspace q_5      $ |\n",
    "\n",
    "<center style=\"margin-top:16px;\">Tabla de transiciones del AFD</center>"
   ]
  },
  {
   "cell_type": "markdown",
   "metadata": {},
   "source": [
    "<img src=\"files/diagrama_4.png\" />"
   ]
  },
  {
   "cell_type": "markdown",
   "metadata": {},
   "source": [
    "|PALABRAS ACEPTADAS $\\hspace{1.0cm}$ |  PALABRAS RECHAZADAS $\\hspace{1.0cm}$|\n",
    "|------------------------------------|--------------------------------------|\n",
    "|$bbaba   \\hspace{0.1cm}$            |$baaabac\\hspace{0.1cm}       $        |\n",
    "|$bbabc         $                    |$bbbac\\hspace{0.1cm}     $            |\n",
    "|$bbaabaac       $                   |$abaaabacc\\hspace{0.1cm} $            |\n",
    "|$bbaaaabaaaccc   $                  |$bbacbacc\\hspace{0.1cm} $             |\n",
    "|$bbaabccaacc       $                |$bbabbc\\hspace{0.1cm} $               |"
   ]
  },
  {
   "cell_type": "markdown",
   "metadata": {},
   "source": [
    "**5)** Determine el AFD que corresponde a la expresión regular: &nbsp;&nbsp; $ca(b + d)^{*}aa(c + b)^{+}a$\n",
    "- Escriba la tabla  de transición y Dibuje el Diagrama de estados.\n",
    "- Compruebe el funcionamiento utilizando palabras de ejemplo."
   ]
  },
  {
   "cell_type": "markdown",
   "metadata": {},
   "source": [
    "| | &nbsp;&nbsp; $a$ &nbsp;&nbsp; | &nbsp;&nbsp; $b$ &nbsp;&nbsp; | &nbsp;&nbsp; $c$ &nbsp;&nbsp; | &nbsp;&nbsp; $d$ &nbsp;&nbsp; |\n",
    "|------------------------------------|--------------------------------------|\n",
    "| $\\rightarrow q_0$ | $\\enspace \\emptyset$ | $\\enspace \\emptyset$ | $\\enspace q_2$ | $\\enspace \\emptyset$ |\n",
    "| $\\enspace q_1$ | $\\enspace q_2$ | $\\enspace \\emptyset$ | $\\enspace \\emptyset$ | $\\enspace \\emptyset$ |\n",
    "| $\\enspace q_2$ | $\\enspace q_3$ | $\\enspace q_2$ | $\\enspace \\emptyset$ | $\\enspace q_2$ |\n",
    "| $\\enspace q_3$ | $\\enspace q_4$ | $\\enspace \\emptyset$ | $\\enspace \\emptyset$ | $\\enspace \\emptyset$ |\n",
    "| $\\enspace q_4$ | $\\enspace \\emptyset$ | $\\enspace q_5$ | $\\enspace q_5$ | $\\enspace \\emptyset$ |\n",
    "| $\\enspace q_5$ | $\\enspace q_6$ | $\\enspace q_5$ | $\\enspace q_5$ | $\\enspace \\emptyset$ |\n",
    "| $\\ast q_6$ | $\\enspace \\emptyset$ | $\\enspace \\emptyset$ | $\\enspace \\emptyset$ | $\\enspace \\emptyset$ |\n",
    "<center style=\"margin-top:16px;\">Tabla de transiciones del AFD</center>"
   ]
  },
  {
   "cell_type": "markdown",
   "metadata": {},
   "source": [
    "<img src=\"files/diagrama_5.png\" />"
   ]
  },
  {
   "cell_type": "markdown",
   "metadata": {},
   "source": [
    "\n",
    "|PALABRAS ACEPTADAS $\\hspace{1.0cm}$ |  PALABRAS RECHAZADAS $\\hspace{1.0cm}$|\n",
    "|------------------------------------|--------------------------------------|\n",
    "|$cabdaacba   \\hspace{0.1cm}$        |$aaacda\\hspace{0.1cm}       $         |\n",
    "|$caaaba         $                   |$cabaaa\\hspace{0.1cm}     $           |\n",
    "|$cabbbbdaacca      $                |$cabda\\hspace{0.1cm} $                |\n",
    "|$cadaaca   $                        |$bdacca\\hspace{0.1cm} $               |\n",
    "|$cadbdbaacbcbca      $              |$cadbaacb\\hspace{0.1cm} $             |"
   ]
  },
  {
   "cell_type": "markdown",
   "metadata": {},
   "source": [
    "**6)** Determine el AFD que corresponde a la expresión regular: &nbsp;&nbsp; $01(22)^{*}(1^{+} + (01^{*}))$\n",
    "- Escriba la tabla  de transición y Dibuje el Diagrama de estados.\n",
    "- Compruebe el funcionamiento utilizando palabras de ejemplo."
   ]
  },
  {
   "cell_type": "markdown",
   "metadata": {},
   "source": [
    "| | &nbsp;&nbsp; $0$ &nbsp;&nbsp; | &nbsp;&nbsp; $1$ &nbsp;&nbsp; | &nbsp;&nbsp; $2$ &nbsp;&nbsp; |\n",
    "|------------------------------------|--------------------------------------|\n",
    "| $\\rightarrow q_0$ | $\\enspace q_1$ | $\\enspace \\emptyset$ | $\\enspace \\emptyset$ |\n",
    "| $\\enspace q_1$ | $\\enspace \\emptyset$ | $\\enspace q_2$ | $\\enspace \\emptyset$ |\n",
    "| $\\enspace q_2$ | $\\enspace q_4$ | $\\enspace q_4$ | $\\enspace q_3$ |\n",
    "| $\\enspace q_3$ | $\\enspace \\emptyset$ | $\\enspace \\emptyset$ | $\\enspace q_2$ |\n",
    "| $\\ast q_4$ | $\\enspace \\emptyset$ | $\\enspace q_4$ | $\\enspace \\emptyset$ |\n",
    "\n",
    "<center style=\"margin-top:16px;\">Tabla de transiciones del AFD</center>"
   ]
  },
  {
   "cell_type": "markdown",
   "metadata": {},
   "source": [
    "<img src=\"files/diagrama_6.png\" />"
   ]
  },
  {
   "cell_type": "markdown",
   "metadata": {},
   "source": [
    "|PALABRAS ACEPTADAS $\\hspace{1.0cm}$ |  PALABRAS RECHAZADAS $\\hspace{1.0cm}$|\n",
    "|------------------------------------|--------------------------------------|\n",
    "|$011   \\hspace{0.1cm}$              |$10211\\hspace{0.1cm}       $          |\n",
    "|$01220         $                    |$01211\\hspace{0.1cm}     $            |\n",
    "|$0122220111       $                 |$012210\\hspace{0.1cm} $               |\n",
    "|$01221   $                          |$0100\\hspace{0.1cm} $                 |\n",
    "|$010       $                        |$0122010\\hspace{0.1cm} $              |"
   ]
  },
  {
   "cell_type": "markdown",
   "metadata": {},
   "source": [
    "**7)** Determine el AFD que corresponde a la expresión regular: &nbsp;&nbsp; $(abc)^{*}da(bb)^{+}$\n",
    "- Escriba la tabla  de transición y Dibuje el Diagrama de estados.\n",
    "- Compruebe el funcionamiento utilizando palabras de ejemplo."
   ]
  },
  {
   "cell_type": "markdown",
   "metadata": {},
   "source": [
    "| | &nbsp;&nbsp; $a$ &nbsp;&nbsp; | &nbsp;&nbsp; $b$ &nbsp;&nbsp; | &nbsp;&nbsp; $c$ &nbsp;&nbsp; | &nbsp;&nbsp; $d$ &nbsp;&nbsp; |\n",
    "|------------------------------------|--------------------------------------|\n",
    "| $\\rightarrow q_0$ | $\\enspace q_1$ | $\\enspace \\emptyset$ | $\\enspace \\emptyset$ | $\\enspace q_3$ |\n",
    "| $\\enspace q_1$ | $\\enspace \\emptyset$ | $\\enspace q_2$ | $\\enspace \\emptyset$ | $\\enspace \\emptyset$ |\n",
    "| $\\enspace q_2$ | $\\enspace \\emptyset$ | $\\enspace \\emptyset$ | $\\enspace q_0$ | $\\enspace \\emptyset$ |\n",
    "| $\\enspace q_3$ | $\\enspace q_4$ | $\\enspace \\emptyset$ | $\\enspace \\emptyset$ | $\\enspace \\emptyset$ |\n",
    "| $\\enspace q_4$ | $\\enspace \\emptyset$ | $\\enspace q_5$ | $\\enspace \\emptyset$ | $\\enspace \\emptyset$ |\n",
    "| $\\enspace q_5$ | $\\enspace \\emptyset$ | $\\enspace q_6$ | $\\enspace \\emptyset$ | $\\enspace \\emptyset$ |\n",
    "| $\\enspace \\ast q_6$ | $\\enspace \\emptyset$ | $\\enspace q_7$ | $\\enspace \\emptyset$ | $\\enspace \\emptyset$ |\n",
    "| $\\enspace q_7$ | $\\enspace \\emptyset$ | $\\enspace q_6$ | $\\enspace \\emptyset$ | $\\enspace \\emptyset$ |\n",
    "<center style=\"margin-top:16px;\">Tabla de transiciones del AFD</center>"
   ]
  },
  {
   "cell_type": "markdown",
   "metadata": {},
   "source": [
    "<img src=\"files/diagrama_7.png\" />"
   ]
  },
  {
   "cell_type": "markdown",
   "metadata": {},
   "source": [
    "|PALABRAS ACEPTADAS $\\hspace{1.0cm}$ |  PALABRAS RECHAZADAS $\\hspace{1.0cm}$ |\n",
    "|------------------------------------|---------------------------------------|\n",
    "|$dabb   \\hspace{0.1cm}$             |$dab\\hspace{0.1cm}    $                |\n",
    "|$abcdabb              $             |$abcabc\\hspace{0.1cm}  $               |\n",
    "|$abcabcdabb           $             |$abcabcdabbb\\hspace{0.1cm}$            |\n",
    "|$dabbbb               $             |$dabbabc\\hspace{0.1cm}  $              |\n",
    "|$abcabcdabbbb         $             |$abcdabcdab\\hspace{0.1cm}  $           |"
   ]
  },
  {
   "cell_type": "markdown",
   "metadata": {},
   "source": [
    "<div style=\"height:100px;\"></div>"
   ]
  },
  {
   "cell_type": "markdown",
   "metadata": {},
   "source": [
    "# Propiedades de clausura (complemento)"
   ]
  },
  {
   "cell_type": "markdown",
   "metadata": {},
   "source": [
    "**8)** Complemente la expresión regular &nbsp; $(c + b)e^{+}(a + b)a^{*}$ &nbsp; utilizando la propiedad de clausura para el complemento vista en clase:"
   ]
  },
  {
   "cell_type": "markdown",
   "metadata": {},
   "source": [
    "- Elabore el diagrama de estados de la expresión regular dada:"
   ]
  },
  {
   "cell_type": "markdown",
   "metadata": {},
   "source": [
    "<img src=\"files/diagrama_8.png\" />"
   ]
  },
  {
   "cell_type": "markdown",
   "metadata": {},
   "source": [
    "- Elabore el diagrama de estados del COMPLEMENTO de la expresión regular dada:"
   ]
  },
  {
   "cell_type": "markdown",
   "metadata": {},
   "source": [
    "<img src=\"files/diagrama_8.1.png\" />"
   ]
  },
  {
   "cell_type": "markdown",
   "metadata": {},
   "source": [
    "- ¿Cuál es la EXPRESIÓN REGULAR <b style=\"color:red;\">del COMPLEMENTO</b>?:"
   ]
  },
  {
   "cell_type": "markdown",
   "metadata": {},
   "source": [
    "${ER}_0 = \\epsilon$"
   ]
  },
  {
   "cell_type": "markdown",
   "metadata": {},
   "source": [
    "${ER}_1 =  (c+b)$"
   ]
  },
  {
   "cell_type": "markdown",
   "metadata": {},
   "source": [
    "${ER}_2 =  (c+b)e^*$"
   ]
  },
  {
   "cell_type": "markdown",
   "metadata": {},
   "source": [
    "$ER = \\epsilon + (c + b)e^*$"
   ]
  },
  {
   "cell_type": "markdown",
   "metadata": {},
   "source": [
    "<div style=\"height:100px;\"></div>"
   ]
  },
  {
   "cell_type": "markdown",
   "metadata": {},
   "source": [
    "# Álgebra de las expresiones regulares (simplificación de ER)"
   ]
  },
  {
   "cell_type": "markdown",
   "metadata": {},
   "source": [
    "Teniendo en cuenta las siguiente expresiones regulares y utilizando algunas de las leyes vistas en clase, desarrolle una expresión regular equivalente para cada ítem:"
   ]
  },
  {
   "cell_type": "markdown",
   "metadata": {},
   "source": [
    "**9)** &nbsp;&nbsp; $\\mathbf{(0+1)^{*}1(0+1)+(0+1)^{*}1(0+1)(0+1) = (0 + 1)^*1(0+1)(\\epsilon + (0 + 1))} $"
   ]
  },
  {
   "cell_type": "markdown",
   "metadata": {},
   "source": [
    "**10)** &nbsp;&nbsp; $\\mathbf{(1 + 00^{*}1) + (1 + 00^{*}1)(0 + 10^{*}1)^{*}(0 + 10^{*}1) = (1 + 00^*1)(0 + 10^*1)^*}$"
   ]
  },
  {
   "cell_type": "markdown",
   "metadata": {},
   "source": [
    "**11)** &nbsp;&nbsp; $\\mathbf{\\varepsilon + 1^{*}(011)^{*}(1^{*}(011)^{*})^{*}} = \\mathbf{(1^{*}(011)^{*})^{*} = (1 + (011))^{*}}$"
   ]
  },
  {
   "cell_type": "markdown",
   "metadata": {},
   "source": [
    "**12)** &nbsp;&nbsp; $\\mathbf{(0 + 1)(\\varepsilon + 00)^{+} + (0 + 1) = (0+1)(00)^*}$"
   ]
  },
  {
   "cell_type": "markdown",
   "metadata": {},
   "source": [
    "<div style=\"height:100px;\"></div>"
   ]
  },
  {
   "cell_type": "markdown",
   "metadata": {},
   "source": [
    "# Minimización de autómatas"
   ]
  },
  {
   "cell_type": "markdown",
   "metadata": {},
   "source": [
    "Para las siguientes tablas de transición:\n",
    "- Dibuje la tabla de estados distinguibles (OJO: método de <span style=\"font-weight:bold;color:red;\">MyHill-Nerode</span>).\n",
    "- Construya el <b>diagrama de estados</b> del AFD minimizado (con el número mínimo de estados)."
   ]
  },
  {
   "cell_type": "markdown",
   "metadata": {},
   "source": [
    "**13)**  Minimizar el siguiente AFD\n",
    "\n",
    "<table>\n",
    "<tr>\n",
    "<td>$\\enspace \\enspace \\enspace \\enspace \\enspace \\enspace \\enspace \\enspace \\enspace$</td>\n",
    "<td width=\"60\">$a$</td>\n",
    "<td width=\"60\">$b$</td>\n",
    "</tr>\n",
    "<tr>\n",
    "<td>$\\ast \\rightarrow q_0$</td>\n",
    "<td>$q_1$</td>\n",
    "<td>$q_3$</td>\n",
    "</tr>\n",
    "<tr>\n",
    "<td>$\\ast q_1$</td>\n",
    "<td>$q_1$</td>\n",
    "<td>$q_2$</td>\n",
    "</tr>\n",
    "<tr>\n",
    "<td>$\\ast q_2$</td>\n",
    "<td>$q_5$</td>\n",
    "<td>$q_3$</td>\n",
    "</tr>\n",
    "<tr>\n",
    "<td>$q_3$</td>\n",
    "<td>$q_3$</td>\n",
    "<td>$q_3$</td>\n",
    "</tr>\n",
    "<tr>\n",
    "<td>$\\ast q_4$</td>\n",
    "<td>$q_4$</td>\n",
    "<td>$q_3$</td>\n",
    "</tr>\n",
    "<tr>\n",
    "<td>$\\ast q_5$</td>\n",
    "<td>$q_4$</td>\n",
    "<td>$q_2$</td>\n",
    "</tr>\n",
    "</table>\n",
    "\n",
    "<center style=\"margin-top:16px;\">Tabla de transición</center>"
   ]
  },
  {
   "cell_type": "markdown",
   "metadata": {},
   "source": [
    "- Dibuje la tabla de estados distinguibles (OJO: método de <span style=\"font-weight:bold;color:red;\">MyHill-Nerode</span>).\n",
    "\n",
    "<table>\n",
    "<tr>\n",
    "<td>$q_1$</td>\n",
    "<td>x</td>\n",
    "<td style=\"background-color:#ccc;\"></td>\n",
    "<td style=\"background-color:#ccc;\"></td>\n",
    "<td style=\"background-color:#ccc;\"></td>\n",
    "<td style=\"background-color:#ccc;\"></td>\n",
    "</tr>\n",
    "<tr>\n",
    "<td>$q_2$</td>\n",
    "<td>x</td>\n",
    "<td>x</td>\n",
    "<td style=\"background-color:#ccc;\"></td>\n",
    "<td style=\"background-color:#ccc;\"></td>\n",
    "<td style=\"background-color:#ccc;\"></td>\n",
    "</tr>\n",
    "<tr>\n",
    "<td>$q_3$</td>\n",
    "<td>x</td>\n",
    "<td>x</td>\n",
    "<td>x</td>\n",
    "<td style=\"background-color:#ccc;\"></td>\n",
    "<td style=\"background-color:#ccc;\"></td>\n",
    "</tr>\n",
    "<tr>\n",
    "<td>$q_4$</td>\n",
    "<td>x</td>\n",
    "<td>x</td>\n",
    "<td>x</td>\n",
    "<td>x</td>\n",
    "<td style=\"background-color:#ccc;\"></td>\n",
    "</tr>\n",
    "<tr>\n",
    "<td>$q_5$</td>\n",
    "<td>x</td>\n",
    "<td>x</td>\n",
    "<td>x</td>\n",
    "<td>x</td>\n",
    "<td>x</td>\n",
    "</tr>\n",
    "<tr>\n",
    "<td></td>\n",
    "<td>$q_0$</td>\n",
    "<td>$q_1$</td>\n",
    "<td>$q_2$</td>\n",
    "<td>$q_3$</td>\n",
    "<td>$q_4$</td>\n",
    "</tr>\n",
    "</table>"
   ]
  },
  {
   "cell_type": "markdown",
   "metadata": {},
   "source": [
    "- Escriba los estados MÍNIMOS que se obtuvieron luego de elaborar la tabla:\n",
    "\n",
    "$\\{q_0\\},\\{q_1\\},\\{q_2\\},\\{q_3\\},\\{q_4\\},\\{q_5\\} $"
   ]
  },
  {
   "cell_type": "markdown",
   "metadata": {},
   "source": [
    "- Construya el <b>diagrama de estados</b> del AFD minimizado (con el número mínimo de estados).\n",
    "\n",
    "<img src=\"files/diagrama_13.png\" />"
   ]
  },
  {
   "cell_type": "markdown",
   "metadata": {},
   "source": [
    "<div style=\"height:100px;\"></div>"
   ]
  },
  {
   "cell_type": "markdown",
   "metadata": {},
   "source": [
    "**14)**  Minimizar el siguiente AFD\n",
    "\n",
    "<table>\n",
    "<tr>\n",
    "<td>$\\enspace \\enspace \\enspace \\enspace \\enspace \\enspace \\enspace \\enspace \\enspace$</td>\n",
    "<td width=\"60\">$a$</td>\n",
    "<td width=\"60\">$b$</td>\n",
    "</tr>\n",
    "<tr>\n",
    "<td>$\\ast \\rightarrow q_0$</td>\n",
    "<td>$q_1$</td>\n",
    "<td>$q_3$</td>\n",
    "</tr>\n",
    "<tr>\n",
    "<td>$q_1$</td>\n",
    "<td>$q_2$</td>\n",
    "<td>$q_3$</td>\n",
    "</tr>\n",
    "<tr>\n",
    "<td>$\\ast q_2$</td>\n",
    "<td>$q_5$</td>\n",
    "<td>$q_2$</td>\n",
    "</tr>\n",
    "<tr>\n",
    "<td>$q_3$</td>\n",
    "<td>$q_4$</td>\n",
    "<td>$q_1$</td>\n",
    "</tr>\n",
    "<tr>\n",
    "<td>$\\ast q_4$</td>\n",
    "<td>$q_5$</td>\n",
    "<td>$q_4$</td>\n",
    "</tr>\n",
    "<tr>\n",
    "<td>$q_5$</td>\n",
    "<td>$q_5$</td>\n",
    "<td>$q_5$</td>\n",
    "</tr>\n",
    "</table>\n",
    "\n",
    "<center style=\"margin-top:16px;\">Tabla de transición</center>"
   ]
  },
  {
   "cell_type": "markdown",
   "metadata": {},
   "source": [
    "- Dibuje la tabla de estados distinguibles (OJO: método de <span style=\"font-weight:bold;color:red;\">MyHill-Nerode</span>).\n",
    "\n",
    "<table>\n",
    "<tr>\n",
    "<td>$q_1$</td>\n",
    "<td>x</td>\n",
    "<td style=\"background-color:#ccc;\"></td>\n",
    "<td style=\"background-color:#ccc;\"></td>\n",
    "<td style=\"background-color:#ccc;\"></td>\n",
    "<td style=\"background-color:#ccc;\"></td>\n",
    "</tr>\n",
    "<tr>\n",
    "<td>$q_2$</td>\n",
    "<td>x</td>\n",
    "<td>x</td>\n",
    "<td style=\"background-color:#ccc;\"></td>\n",
    "<td style=\"background-color:#ccc;\"></td>\n",
    "<td style=\"background-color:#ccc;\"></td>\n",
    "</tr>\n",
    "<tr>\n",
    "<td>$q_3$</td>\n",
    "<td>x</td>\n",
    "<td> </td>\n",
    "<td>x</td>\n",
    "<td style=\"background-color:#ccc;\"></td>\n",
    "<td style=\"background-color:#ccc;\"></td>\n",
    "</tr>\n",
    "<tr>\n",
    "<td>$q_4$</td>\n",
    "<td>x</td>\n",
    "<td>x</td>\n",
    "<td> </td>\n",
    "<td>x</td>\n",
    "<td style=\"background-color:#ccc;\"></td>\n",
    "</tr>\n",
    "<tr>\n",
    "<td>$q_5$</td>\n",
    "<td>x</td>\n",
    "<td>x</td>\n",
    "<td>x</td>\n",
    "<td>x</td>\n",
    "<td>x</td>\n",
    "</tr>\n",
    "<tr>\n",
    "<td></td>\n",
    "<td>$q_0$</td>\n",
    "<td>$q_1$</td>\n",
    "<td>$q_2$</td>\n",
    "<td>$q_3$</td>\n",
    "<td>$q_4$</td>\n",
    "</tr>\n",
    "</table>"
   ]
  },
  {
   "cell_type": "markdown",
   "metadata": {},
   "source": [
    "- Escriba los estados MÍNIMOS que se obtuvieron luego de elaborar la tabla:\n",
    "\n",
    "$\\{q_0\\} , \\{q_1, q_3 \\}, \\{q_2, q_4 \\}, \\{q_5\\}$"
   ]
  },
  {
   "cell_type": "markdown",
   "metadata": {},
   "source": [
    "- Construya el <b>diagrama de estados</b> del AFD minimizado (con el número mínimo de estados).\n",
    "\n",
    "<img src=\"files/diagrama_14.png\" />"
   ]
  },
  {
   "cell_type": "markdown",
   "metadata": {},
   "source": [
    "<div style=\"height:100px;\"></div>"
   ]
  },
  {
   "cell_type": "markdown",
   "metadata": {},
   "source": [
    "**15)**  Minimizar el siguiente AFD\n",
    "\n",
    "<table>\n",
    "<tr>\n",
    "<td>$\\enspace \\enspace \\enspace \\enspace \\enspace \\enspace \\enspace \\enspace \\enspace$</td>\n",
    "<td width=\"60\">$a$</td>\n",
    "<td width=\"60\">$b$</td>\n",
    "</tr>\n",
    "<tr>\n",
    "<td>$\\rightarrow q_0$</td>\n",
    "<td>$q_2$</td>\n",
    "<td>$q_0$</td>\n",
    "</tr>\n",
    "<tr>\n",
    "<td>$q_1$</td>\n",
    "<td>$q_0$</td>\n",
    "<td>$q_2$</td>\n",
    "</tr>\n",
    "<tr>\n",
    "<td>$\\ast q_2$</td>\n",
    "<td>$q_4$</td>\n",
    "<td>$q_3$</td>\n",
    "</tr>\n",
    "<tr>\n",
    "<td>$q_3$</td>\n",
    "<td>$q_0$</td>\n",
    "<td>$q_4$</td>\n",
    "</tr>\n",
    "<tr>\n",
    "<td>$\\ast q_4$</td>\n",
    "<td>$q_4$</td>\n",
    "<td>$q_1$</td>\n",
    "</tr>\n",
    "</table>\n",
    "\n",
    "<center style=\"margin-top:16px;\">Tabla de transición</center>"
   ]
  },
  {
   "cell_type": "markdown",
   "metadata": {},
   "source": [
    "- Dibuje la tabla de estados distinguibles (OJO: método de <span style=\"font-weight:bold;color:red;\">MyHill-Nerode</span>).\n",
    "\n",
    "<table>\n",
    "<tr>\n",
    "<td>$q_1$</td>\n",
    "<td>x</td>\n",
    "<td style=\"background-color:#ccc;\"></td>\n",
    "<td style=\"background-color:#ccc;\"></td>\n",
    "<td style=\"background-color:#ccc;\"></td>\n",
    "</tr>\n",
    "<tr>\n",
    "<td>$q_2$</td>\n",
    "<td>x</td>\n",
    "<td>x</td>\n",
    "<td style=\"background-color:#ccc;\"></td>\n",
    "<td style=\"background-color:#ccc;\"></td>\n",
    "</tr>\n",
    "<tr>\n",
    "<td>$q_3$</td>\n",
    "<td>x</td>\n",
    "<td> </td>\n",
    "<td>x</td>\n",
    "<td style=\"background-color:#ccc;\"></td>\n",
    "</tr>\n",
    "<tr>\n",
    "<td>$q_4$</td>\n",
    "<td>x</td>\n",
    "<td>x</td>\n",
    "<td> </td>\n",
    "<td>x</td>\n",
    "</tr>\n",
    "<tr>\n",
    "<td></td>\n",
    "<td>$q_0$</td>\n",
    "<td>$q_1$</td>\n",
    "<td>$q_2$</td>\n",
    "<td>$q_3$</td>\n",
    "</tr>\n",
    "</table>"
   ]
  },
  {
   "cell_type": "markdown",
   "metadata": {},
   "source": [
    "- Escriba los estados MÍNIMOS que se obtuvieron luego de elaborar la tabla:\n",
    "\n",
    "$\\{q_0\\},\\{q_1q_3\\} , \\{q_2q_4 \\}$"
   ]
  },
  {
   "cell_type": "markdown",
   "metadata": {},
   "source": [
    "- Construya el <b>diagrama de estados</b> del AFD minimizado (con el número mínimo de estados).\n",
    "\n",
    "<img src=\"files/diagrama_15.png\" />"
   ]
  },
  {
   "cell_type": "markdown",
   "metadata": {
    "collapsed": true
   },
   "source": [
    "<div style=\"height:100px;\"></div>"
   ]
  },
  {
   "cell_type": "markdown",
   "metadata": {},
   "source": [
    "<p style=\"font-size:20px;font-weight:bold;\"><span style=\"background-color:#F00;color:#FFF;padding:10px;\">Obligatorio</span></p>\n",
    "<p style=\"font-size:20px;font-weight:bold;\">Por favor reemplazar el contenido de la variable con su código de estudiante y ejecutar la celda:</p>"
   ]
  },
  {
   "cell_type": "code",
   "execution_count": 1,
   "metadata": {
    "collapsed": true
   },
   "outputs": [],
   "source": [
    "codigo = 2181969"
   ]
  },
  {
   "cell_type": "markdown",
   "metadata": {},
   "source": [
    "<p style=\"font-size:20px;font-weight:bold;\">Ejecute esta celda para empaquetar su trabajo. Este se guardará en la carpeta que contiene al taller.</p>"
   ]
  },
  {
   "cell_type": "code",
   "execution_count": null,
   "metadata": {},
   "outputs": [],
   "source": [
    "!./empaquetar.sh $codigo"
   ]
  }
 ],
 "metadata": {
  "kernelspec": {
   "display_name": "Python 3",
   "language": "python",
   "name": "python3"
  },
  "language_info": {
   "codemirror_mode": {
    "name": "ipython",
    "version": 3
   },
   "file_extension": ".py",
   "mimetype": "text/x-python",
   "name": "python",
   "nbconvert_exporter": "python",
   "pygments_lexer": "ipython3",
   "version": "3.8.5"
  }
 },
 "nbformat": 4,
 "nbformat_minor": 1
}

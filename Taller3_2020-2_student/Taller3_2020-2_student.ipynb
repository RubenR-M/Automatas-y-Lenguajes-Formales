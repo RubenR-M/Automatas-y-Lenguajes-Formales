{
 "cells": [
  {
   "cell_type": "markdown",
   "metadata": {},
   "source": [
    "# Taller 3 - Autómatas de Pila (PDA) y Máquinas de Turing (MT)\n",
    "\n",
    "**Autómatas y Lenguajes Formales**\n",
    "\n",
    "**Profesor: Gustavo Garzón**\n",
    "\n",
    "**Escuela de Ingeniería de Sistemas e Informática**\n",
    "\n",
    "_Febrero de 2021_"
   ]
  },
  {
   "cell_type": "markdown",
   "metadata": {},
   "source": [
    "<ul>\n",
    "<li>Envíe el desarrollo del taller en medio digital al correo <span style=\"text-decoration:underline;\">gustavo.garzon@saber.uis.edu.co</span> antes del viernes <b>05 de marzo / 2021</b> - 11:59 p.m.</li>\n",
    "<li>No olvide realizar las simulaciones con JFLAP en los puntos que lo requieran.</li>\n",
    "<li>No olvide colocar en el asunto del mensaje de correo: \"Taller 03 Autómatas de pila y MT\"</li>\n",
    "<li>**Recomendamos activar el kernel de Python3:** menú \"Kernel\" >> \"Change kernel\" >> \"Python 3\"</li>\n",
    "</ul>"
   ]
  },
  {
   "cell_type": "markdown",
   "metadata": {},
   "source": [
    "<div style=\"height:100px;\"></div>"
   ]
  },
  {
   "cell_type": "markdown",
   "metadata": {},
   "source": [
    "<h2><span style=\"color:#FFF; background-color:#F00; font-weight:bold; padding:4px;\">¡IMPORTANTE!</span> Ejecute esta celda para iniciar la actividad</h2>"
   ]
  },
  {
   "cell_type": "code",
   "execution_count": 15,
   "metadata": {
    "collapsed": false
   },
   "outputs": [],
   "source": [
    "!chmod 777 empaquetar.sh run utils/*"
   ]
  },
  {
   "cell_type": "markdown",
   "metadata": {},
   "source": [
    "<h2><span style=\"color:#FFF; background-color:#F00; font-weight:bold; padding:4px;\">¡IMPORTANTE!</span></h2><br><h2 style=\"margin-top:-10px;\">Usted debe ejecutar <span style=\"color:#F00;\">TODAS</span> las celdas de tipo <span style=\"color:#F00;\">CODE</span>. De lo contrario, sus respuestas no serán procesadas correctamente.</h2>"
   ]
  },
  {
   "cell_type": "markdown",
   "metadata": {},
   "source": [
    "<div style=\"height:100px;\"></div>"
   ]
  },
  {
   "cell_type": "markdown",
   "metadata": {},
   "source": [
    "## Autómatas de Pila (PDA)\n",
    "1) Implemente un PDA que acepte el siguiente lenguaje: $\\enspace$ $L = \\{ u^{x} \\ v^{y} \\ w^{z} \\ u^{k} \\ v^{2x}: \\enspace x,y,z>0 \\enspace \\enspace \\land \\enspace \\enspace k = y+z \\enspace \\}$."
   ]
  },
  {
   "cell_type": "markdown",
   "metadata": {},
   "source": [
    "<img src=\"files/diagrama_1.jpg\" />"
   ]
  },
  {
   "cell_type": "code",
   "execution_count": 16,
   "metadata": {
    "collapsed": false
   },
   "outputs": [],
   "source": [
    "def ejercicio1():\n",
    "    from automata.pda.dpda import DPDA\n",
    "    d = DPDA(\n",
    "        states = {'q0','q1','q2','q3','q4','q5','q6','q7','q8'},\n",
    "        input_symbols = {'u','v','w'},\n",
    "        stack_symbols = {'U','X','Z'},\n",
    "        transitions = {\n",
    "            'q0':{\n",
    "                'u':{'Z':('q1',('U','Z'))}\n",
    "            },\n",
    "            'q1':{\n",
    "                'u':{'U':('q1',('U','U'))},\n",
    "                'v':{'U':('q2',('X','U'))}\n",
    "            },\n",
    "            'q2':{\n",
    "                'v':{'X':('q2',('X','X'))},\n",
    "                'w':{'X':('q3',('X','X'))}\n",
    "            },\n",
    "            'q3':{\n",
    "                'w':{'X':('q3',('X','X'))},\n",
    "                'u':{'X':('q4','')}\n",
    "            },\n",
    "            'q4':{\n",
    "                'u':{'X':('q5','')}\n",
    "            },\n",
    "            'q5':{\n",
    "                'u':{'X':('q5','')},\n",
    "                'v':{'U':('q6',('U',))}\n",
    "            },\n",
    "            'q6':{\n",
    "                'v':{'U':('q7','')},\n",
    "            },\n",
    "            'q7':{\n",
    "                'v':{'U':('q6',('U',))},\n",
    "                '':{'Z':('q8',('Z',))}\n",
    "            }\n",
    "        }, \n",
    "        initial_state = 'q0',\n",
    "        initial_stack_symbol = 'Z',\n",
    "        final_states = {'q8'}        \n",
    "    )\n",
    "    return d\n",
    "\n",
    "import urllib, urllib.parse, inspect \n",
    "src1 = urllib.parse.quote_plus(inspect.getsource(ejercicio1))"
   ]
  },
  {
   "cell_type": "markdown",
   "metadata": {},
   "source": [
    "\n",
    "|Palabras Aceptadas $\\hspace{2.0cm}$ | Palabras rechazadas $\\hspace{2.0cm}$ |\n",
    "|------------------------------------|--------------------------------------|\n",
    "|$uvwuuvv       \\hspace{0.1cm}$        |$uvwuuv\\hspace{0.1cm}       $              |\n",
    "|$uvvwuuuvv$                   |$uvwuvv\\hspace{0.1cm}            $     |\n",
    "|$uvwwuuuvv$                         |$uuvwuuuvvvv\\hspace{0.1cm} $                |\n",
    "|$uuvwwuuuvvvv  $                 |$uuvvwwuvvvv\\hspace{0.1cm}$                |\n",
    "|$uuvvwuuuvvvv  $                   |$uvwwvv\\hspace{0.1cm}$                |\n"
   ]
  },
  {
   "cell_type": "markdown",
   "metadata": {},
   "source": [
    "#### Evalue su respuesta antes de subirla:"
   ]
  },
  {
   "cell_type": "code",
   "execution_count": 17,
   "metadata": {
    "collapsed": false
   },
   "outputs": [
    {
     "name": "stdout",
     "output_type": "stream",
     "text": [
      "testing wrong word:  the DPDA stopped in a non-accepting configuration (q6, ZU)\r\n",
      "testing wrong word:  The automaton entered a configuration for which no transition is defined (q4, v, X)\r\n",
      "testing wrong word:  The automaton entered a configuration for which no transition is defined (q5, u, U)\r\n",
      "testing wrong word:  The automaton entered a configuration for which no transition is defined (q4, v, X)\r\n",
      "testing wrong word:  The automaton entered a configuration for which no transition is defined (q3, v, X)\r\n",
      "evaluation result CORRECT\r\n"
     ]
    }
   ],
   "source": [
    "!./run CHECK_SOLUTION Taller3_1 $src1"
   ]
  },
  {
   "cell_type": "markdown",
   "metadata": {},
   "source": [
    "<div style=\"height:100px;\"></div>"
   ]
  },
  {
   "cell_type": "markdown",
   "metadata": {},
   "source": [
    "## Autómatas de Pila (PDA)"
   ]
  },
  {
   "cell_type": "markdown",
   "metadata": {},
   "source": [
    "2) Diseñe una autómata de pila que acepte el lenguaje: $L = \\{ m \\ n^{p} \\ o^{3q} \\ m^{q} \\ o^{p} \\enspace | \\enspace p,q \\gt 0 \\enspace \\}$."
   ]
  },
  {
   "cell_type": "markdown",
   "metadata": {},
   "source": [
    "<img src=\"files/diagrama_2.jpg\" />"
   ]
  },
  {
   "cell_type": "code",
   "execution_count": 18,
   "metadata": {
    "collapsed": false
   },
   "outputs": [],
   "source": [
    "def ejercicio2():\n",
    "    from automata.pda.dpda import DPDA\n",
    "    d = DPDA(\n",
    "        states = {'q0','q1','q2','q3','q4','q5','q6','q7','q8'},\n",
    "        input_symbols = {'m','n','o'},\n",
    "        stack_symbols = {'N','O','Z'},\n",
    "        transitions = {\n",
    "            'q0':{\n",
    "                'm':{'Z':('q1',('Z',))}\n",
    "            },\n",
    "            'q1':{\n",
    "                'n':{'Z':('q2',('N','Z'))}\n",
    "            },\n",
    "            'q2':{\n",
    "                'n':{'N':('q2',('N','N'))},\n",
    "                'o':{'N':('q3',('O','N'))}\n",
    "            },\n",
    "            'q3':{\n",
    "                'o':{'O':('q4',('O',))}\n",
    "            },\n",
    "            'q4':{\n",
    "                'o':{'O':('q5',('O',))}\n",
    "            },\n",
    "            'q5':{\n",
    "                'o':{'O':('q3',('O','O'))},\n",
    "                'm':{'O':('q6','')}\n",
    "            },\n",
    "            'q6':{\n",
    "                'o':{'N':('q7','')},\n",
    "                'm':{'O':('q6','')}\n",
    "            },\n",
    "            'q7':{\n",
    "                'o':{'N':('q7','')},\n",
    "                '':{'Z':('q8',('Z',))}\n",
    "            }\n",
    "        },\n",
    "        initial_state = 'q0',\n",
    "        initial_stack_symbol = 'Z',\n",
    "        final_states = {'q8'}\n",
    "        \n",
    "    )\n",
    "    return d\n",
    "\n",
    "import urllib, urllib.parse, inspect \n",
    "src2 = urllib.parse.quote_plus(inspect.getsource(ejercicio2))"
   ]
  },
  {
   "cell_type": "markdown",
   "metadata": {},
   "source": [
    "\n",
    "|Palabras Aceptadas $\\hspace{2.0cm}$ | Palabras rechazadas $\\hspace{2.0cm}$ |\n",
    "|------------------------------------|--------------------------------------|\n",
    "|$mnooomo       \\hspace{0.1cm}$        |$mnooomoo\\hspace{0.1cm}       $              |\n",
    "|$mnoooooommo$                   |$mnnooomo\\hspace{0.1cm}            $     |\n",
    "|$mnnooomoo$                         |$mnnooomooo\\hspace{0.1cm} $                |\n",
    "|$mnnoooooommoo  $                 |$mnnnooomo\\hspace{0.1cm}$                |\n",
    "|$mnnnoooooommooo  $                   |$mnnoomoooo\\hspace{0.1cm}$                |\n"
   ]
  },
  {
   "cell_type": "markdown",
   "metadata": {},
   "source": [
    "#### Evalue su respuesta antes de subirla:"
   ]
  },
  {
   "cell_type": "code",
   "execution_count": 19,
   "metadata": {
    "collapsed": false
   },
   "outputs": [
    {
     "name": "stdout",
     "output_type": "stream",
     "text": [
      "testing wrong word:  The automaton entered a configuration for which no transition is defined (q8, o, Z)\r\n",
      "testing wrong word:  the DPDA stopped in a non-accepting configuration (q7, ZN)\r\n",
      "testing wrong word:  The automaton entered a configuration for which no transition is defined (q8, o, Z)\r\n",
      "testing wrong word:  the DPDA stopped in a non-accepting configuration (q7, ZNN)\r\n",
      "testing wrong word:  The automaton entered a configuration for which no transition is defined (q4, m, O)\r\n",
      "evaluation result CORRECT\r\n"
     ]
    }
   ],
   "source": [
    "!./run CHECK_SOLUTION Taller3_2 $src2"
   ]
  },
  {
   "cell_type": "markdown",
   "metadata": {},
   "source": [
    "<div style=\"height:100px;\"></div>"
   ]
  },
  {
   "cell_type": "markdown",
   "metadata": {},
   "source": [
    "## Autómatas de Pila NO DETERMINISTAS"
   ]
  },
  {
   "cell_type": "markdown",
   "metadata": {},
   "source": [
    "3) Diseñe una autómata de pila NO DETERMINISTA que acepte el lenguaje: $L = \\{ a^{n} \\ z \\ d \\ z^{R} \\ a^{3n} \\enspace | \\enspace z \\in \\{b,c\\}^{*} \\enspace \\land \\enspace n \\gt 0 \\enspace \\}$."
   ]
  },
  {
   "cell_type": "markdown",
   "metadata": {},
   "source": [
    "- Elabore el diagrama de transiciones"
   ]
  },
  {
   "cell_type": "markdown",
   "metadata": {},
   "source": [
    "<img src=\"files/diagrama_3.jpg\" />"
   ]
  },
  {
   "cell_type": "markdown",
   "metadata": {},
   "source": [
    "- <b>IMPORTANTE:</b> <span style=\"color:red;\">Adjunte <b>TAMBIÉN</b> dentro del taller el archivo \".jff\" generado por JFLAP<span>\n",
    "<br><br>\n",
    "\n",
    "<b style=\"color:red; font-weight:bold;\">- RECUERDE: Si no adjunta la imagen del diagrama de transiciones y el archivo creado en JFLAP, el punto será anulado.</b>"
   ]
  },
  {
   "cell_type": "markdown",
   "metadata": {},
   "source": [
    "<div style=\"height:100px;\"></div>"
   ]
  },
  {
   "cell_type": "markdown",
   "metadata": {},
   "source": [
    "## Máquinas de Turing (MT)\n",
    "\n",
    "4) Diseñe una <b>MT simple</b> que calcule el residuo de la división de n por 5, para cualquier número natural $n \\geq 0$ escrito en el sistema de numeración unario (n se escribe como una secuencia de unos)."
   ]
  },
  {
   "cell_type": "markdown",
   "metadata": {},
   "source": [
    "- Elabore el diagrama de transiciones"
   ]
  },
  {
   "cell_type": "markdown",
   "metadata": {},
   "source": [
    "<img src=\"files/diagrama_4.jpg\" />"
   ]
  },
  {
   "cell_type": "code",
   "execution_count": 20,
   "metadata": {
    "collapsed": true
   },
   "outputs": [],
   "source": [
    "def ejercicio3():\n",
    "    from automata.tm.dtm import DTM\n",
    "    d = DTM(\n",
    "        states={'q0', 'q1', 'q2','q3', 'q4', 'q5', 'q6','q7'},\n",
    "        input_symbols={'1'},\n",
    "        tape_symbols={'x', '1', 'B'}, \n",
    "        transitions={\n",
    "            'q0': {\n",
    "                'B': ('q7', 'B', 'R'),\n",
    "                '1': ('q1', '1', 'R')\n",
    "            },\n",
    "            'q1': {\n",
    "                'B': ('q7', 'B', 'R'),\n",
    "                '1': ('q2', '1', 'R')\n",
    "            },\n",
    "            'q2': {\n",
    "                'B': ('q7', 'B', 'R'),\n",
    "                '1': ('q3', '1', 'R')\n",
    "            },\n",
    "            'q3': {\n",
    "                'B': ('q7', 'B', 'R'),\n",
    "                '1': ('q4', '1', 'R')\n",
    "            },\n",
    "            'q4': {\n",
    "                'B': ('q7', 'B', 'R'),\n",
    "                '1': ('q5', 'x', 'L')\n",
    "            },\n",
    "            'q5': {\n",
    "                '1': ('q5', 'B', 'L'),\n",
    "                'B': ('q6', 'B', 'R')\n",
    "            },\n",
    "            'q6': {\n",
    "                'B': ('q6', 'B', 'R'),\n",
    "                'x': ('q0', 'B', 'R')\n",
    "            }    \n",
    "        },\n",
    "        initial_state='q0',\n",
    "        blank_symbol='B',\n",
    "        final_states={'q7'}\n",
    "    )\n",
    "    return d\n",
    "import urllib, urllib.parse, inspect \n",
    "src3 = urllib.parse.quote_plus(inspect.getsource(ejercicio3))"
   ]
  },
  {
   "cell_type": "markdown",
   "metadata": {},
   "source": [
    "#### Evalue su respuesta antes de subirla:"
   ]
  },
  {
   "cell_type": "code",
   "execution_count": 21,
   "metadata": {
    "collapsed": false
   },
   "outputs": [
    {
     "name": "stdout",
     "output_type": "stream",
     "text": [
      "TMTape('BBBBBBB')\r\n",
      "evaluation result CORRECT\r\n"
     ]
    }
   ],
   "source": [
    "!./run CHECK_SOLUTION Taller3_3 $src3"
   ]
  },
  {
   "cell_type": "markdown",
   "metadata": {},
   "source": [
    "<div style=\"height:100px;\"></div>"
   ]
  },
  {
   "cell_type": "markdown",
   "metadata": {},
   "source": [
    "## Máquinas de Turing (MT)\n",
    "\n",
    "5) Diseñe una MT simple para reconocer el lenguaje: $\\mathcal{L} = \\{ a^{i}b^{j}c^{i*j} \\mid i,j > 0 \\}$"
   ]
  },
  {
   "cell_type": "markdown",
   "metadata": {},
   "source": [
    "<img src=\"files/diagrama_5.jpg\" />"
   ]
  },
  {
   "cell_type": "code",
   "execution_count": 22,
   "metadata": {
    "collapsed": true
   },
   "outputs": [],
   "source": [
    "def ejercicio4():\n",
    "    from automata.tm.dtm import DTM\n",
    "    d = DTM(\n",
    "        states={'q0', 'q1', 'q2', 'q3', 'q4', 'q5','q6', 'q7', 'q8','q9'},\n",
    "         input_symbols={'a', 'b', 'c'},\n",
    "         tape_symbols={'x', 'y', 'z', 'B', 'a', 'b', 'c'},\n",
    "         transitions={\n",
    "            'q0': {\n",
    "                'a': ('q1', 'x', 'R'),\n",
    "            },\n",
    "            'q1': {\n",
    "                'a': ('q1', 'a', 'R'),\n",
    "                'b': ('q2', 'y', 'R')\n",
    "            },\n",
    "            'q2': {\n",
    "                'b': ('q2', 'b', 'R'),\n",
    "                'z': ('q2', 'z', 'R'),\n",
    "                'c': ('q3', 'z', 'L')\n",
    "            },\n",
    "            'q3': {\n",
    "                'z': ('q3', 'z', 'L'),\n",
    "                'b': ('q3', 'b', 'L'),\n",
    "                'y': ('q4', 'y', 'R')\n",
    "            },\n",
    "            'q4': {\n",
    "                'b': ('q2', 'y', 'R'),\n",
    "                'z': ('q5', 'z', 'L')\n",
    "            },\n",
    "            'q5': {\n",
    "                'y': ('q5', 'b', 'L'),\n",
    "                'x': ('q6', 'x', 'R'),\n",
    "                'a': ('q5', 'a', 'L')\n",
    "            },\n",
    "            'q6': {\n",
    "                'a': ('q1', 'x', 'R'),\n",
    "                'b': ('q7', 'b', 'R')\n",
    "            },\n",
    "            'q7': {\n",
    "                'b': ('q7', 'b', 'R'),\n",
    "                'z': ('q8', 'z', 'R')\n",
    "            }, \n",
    "            'q8': {\n",
    "                'z': ('q8', 'z', 'R'),\n",
    "                'B': ('q9', 'B', 'R')\n",
    "            }\n",
    "         },\n",
    "         initial_state='q0',\n",
    "         blank_symbol='B',\n",
    "         final_states={'q9'}        \n",
    "    )\n",
    "    return d\n",
    "import urllib, urllib.parse, inspect\n",
    "src4 = urllib.parse.quote_plus(inspect.getsource(ejercicio4))"
   ]
  },
  {
   "cell_type": "markdown",
   "metadata": {},
   "source": [
    "\n",
    "|Palabras Aceptadas $\\hspace{2.0cm}$ | Palabras rechazadas $\\hspace{2.0cm}$ |\n",
    "|------------------------------------|--------------------------------------|\n",
    "|$abc         \\hspace{0.1cm}$        |$abcc\\hspace{0.1cm}       $           |\n",
    "|$abbcc         $                    |$abbccc \\hspace{0.1cm}          $     |\n",
    "|$aaabbcccccc   $                    |$aaabb\\hspace{0.1cm} $                |\n",
    "|$aaaabbcccccccc   $                 |$bbbbccc\\hspace{0.1cm}$               |\n"
   ]
  },
  {
   "cell_type": "markdown",
   "metadata": {},
   "source": [
    "#### Evalue su respuesta antes de subirla:"
   ]
  },
  {
   "cell_type": "code",
   "execution_count": 23,
   "metadata": {
    "collapsed": false
   },
   "outputs": [
    {
     "name": "stdout",
     "output_type": "stream",
     "text": [
      "testing wrong word:  The machine entered a non-final configuration for which no transition is defined (q8, c)\r\n",
      "testing wrong word:  The machine entered a non-final configuration for which no transition is defined (q8, c)\r\n",
      "testing wrong word:  The machine entered a non-final configuration for which no transition is defined (q2, B)\r\n",
      "testing wrong word:  The machine entered a non-final configuration for which no transition is defined (q0, b)\r\n",
      "evaluation result CORRECT\r\n"
     ]
    }
   ],
   "source": [
    "!./run CHECK_SOLUTION Taller3_4 $src4"
   ]
  },
  {
   "cell_type": "markdown",
   "metadata": {},
   "source": [
    "<div style=\"height:100px;\"></div>"
   ]
  },
  {
   "cell_type": "markdown",
   "metadata": {},
   "source": [
    "## Máquinas de Turing multicinta"
   ]
  },
  {
   "cell_type": "markdown",
   "metadata": {},
   "source": [
    "6) Diseñe una MT multicinta que acepte el lenguaje: $\\mathcal{L} = \\{ a^{i}b^{j}c^{i+j} \\mid i,j > 0 \\}$"
   ]
  },
  {
   "cell_type": "markdown",
   "metadata": {},
   "source": [
    "- Para la solución de este problema utilice la herramienta de simulación **JFLAP**\n",
    "\n",
    "- Compruebe la siguiente tabla de palabras aceptadas y rechazadas por la **MT-multicinta** diseñada"
   ]
  },
  {
   "cell_type": "markdown",
   "metadata": {},
   "source": [
    "\n",
    "|Palabras Aceptadas $\\hspace{2.0cm}$ | Palabras rechazadas $\\hspace{2.0cm}$ |\n",
    "|------------------------------------|--------------------------------------|\n",
    "|$abcc        \\hspace{0.1cm}$        |$bbbbcccc\\hspace{0.1cm}       $       |\n",
    "|$aabccc         $                   |$aaaaaccccc\\hspace{0.1cm}      $      |\n",
    "|$aaaaaaaabccccccccc   $             |$aaabccc \\hspace{0.1cm} $             |\n",
    "|$abbbbccccc  $                      |$aaab \\hspace{0.1cm}$                 |\n"
   ]
  },
  {
   "cell_type": "markdown",
   "metadata": {},
   "source": [
    "- <b>IMPORTANTE:</b> <span style=\"color:red;\">Adjunte <b>TAMBIÉN</b> dentro del taller el archivo \".jff\" generado por JFLAP<span>\n",
    "<br><br>\n",
    "\n",
    "- <b>IMPORTANTE:</b> Adjunte al Notebook las imagenes correspondientes a la simulación de la **MT-multicinta**, así como <b style=\"color:red;\">también</b> la validación de las palabras propuestas.\n",
    "\n",
    "<b style=\"color:red; font-weight:bold;\">- RECUERDE: Si no adjunta la imagen del diagrama de transiciones y el archivo creado en JFLAP, el punto será anulado.</b>"
   ]
  },
  {
   "cell_type": "markdown",
   "metadata": {},
   "source": [
    "<img src=\"files/diagrama_6.jpg\" />"
   ]
  },
  {
   "cell_type": "markdown",
   "metadata": {},
   "source": [
    "<img src=\"files/diagrama_6_1.png\" />"
   ]
  },
  {
   "cell_type": "markdown",
   "metadata": {
    "collapsed": true
   },
   "source": [
    "<div style=\"height:100px;\"></div>"
   ]
  },
  {
   "cell_type": "markdown",
   "metadata": {},
   "source": [
    "<p style=\"font-size:20px;font-weight:bold;\"><span style=\"color:#FFF; background-color:#080; font-weight:bold; padding:4px;\">PASO FINAL</span></p>\n",
    "<p style=\"font-size:20px;font-weight:bold;\">Por favor reemplazar el contenido de la variable con su código de estudiante y ejecutar la celda:</p>"
   ]
  },
  {
   "cell_type": "code",
   "execution_count": 24,
   "metadata": {
    "collapsed": true
   },
   "outputs": [],
   "source": [
    "codigo=2181969"
   ]
  },
  {
   "cell_type": "markdown",
   "metadata": {},
   "source": [
    "<p style=\"font-size:20px;font-weight:bold;\">Ejecute esta celda para empaquetar su trabajo. Este se guardará en la carpeta raíz (home).</p>"
   ]
  },
  {
   "cell_type": "code",
   "execution_count": null,
   "metadata": {
    "collapsed": false
   },
   "outputs": [],
   "source": [
    "!./empaquetar.sh $codigo"
   ]
  }
 ],
 "metadata": {
  "kernelspec": {
   "display_name": "Python 3",
   "language": "python",
   "name": "python3"
  },
  "language_info": {
   "codemirror_mode": {
    "name": "ipython",
    "version": 3
   },
   "file_extension": ".py",
   "mimetype": "text/x-python",
   "name": "python",
   "nbconvert_exporter": "python",
   "pygments_lexer": "ipython3",
   "version": "3.6.2"
  }
 },
 "nbformat": 4,
 "nbformat_minor": 2
}

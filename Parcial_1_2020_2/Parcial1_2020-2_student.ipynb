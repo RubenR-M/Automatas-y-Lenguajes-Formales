{
 "cells": [
  {
   "cell_type": "markdown",
   "metadata": {},
   "source": [
    "# Parcial 1: Autómatas finitos \n",
    "\n",
    "**Autómatas y Lenguajes Formales**\n",
    "\n",
    "**Profesor: Gustavo Garzón**\n",
    "\n",
    "**Escuela de Ingeniería de Sistemas e Informática** \n",
    "\n",
    "_Diciembre de 2020_"
   ]
  },
  {
   "cell_type": "markdown",
   "metadata": {},
   "source": [
    "- Este examen práctico está compuesto por 3 puntos.\n",
    "- En cada punto presentado, implemente el código del autómata finito a partir del diagrama de transiciones correspondiente.\n",
    "- Recuerde NO borrar la cabecera de cada celda **Code**.\n",
    "- Se recomienda utilizar la herramienta JFLAP ó \"Finite State Machine Designer\" ( http://madebyevan.com/fsm/ ) , ( https://www.cs.unc.edu/~otternes/comp455/fsm_designer/ ) para diseñar los diagramas de estados."
   ]
  },
  {
   "cell_type": "markdown",
   "metadata": {},
   "source": [
    "<div style=\"height:100px;\"></div>"
   ]
  },
  {
   "cell_type": "markdown",
   "metadata": {},
   "source": [
    "<h2><span style=\"color:#FFF; background-color:#F00; font-weight:bold; padding:4px;\">¡IMPORTANTE!</span> Ejecute esta celda para iniciar la actividad</h2>"
   ]
  },
  {
   "cell_type": "code",
   "execution_count": 14,
   "metadata": {
    "collapsed": true
   },
   "outputs": [],
   "source": [
    "!chmod 777 empaquetar.sh run utils/*"
   ]
  },
  {
   "cell_type": "markdown",
   "metadata": {},
   "source": [
    "<h2><span style=\"color:#FFF; background-color:#F00; font-weight:bold; padding:4px;\">¡IMPORTANTE!</span></h2><br><h2 style=\"margin-top:-10px;\">Usted debe ejecutar <span style=\"color:#F00;\">TODAS</span> las celdas de tipo <span style=\"color:#F00;\">CODE</span>. De lo contrario, sus respuestas no serán procesadas correctamente.</h2>"
   ]
  },
  {
   "cell_type": "markdown",
   "metadata": {},
   "source": [
    "<div style=\"height:100px;\"></div>"
   ]
  },
  {
   "cell_type": "markdown",
   "metadata": {},
   "source": [
    "# Autómata finito determinista (AFD)"
   ]
  },
  {
   "cell_type": "markdown",
   "metadata": {},
   "source": [
    "**1)** Dado el alfabeto $\\Sigma = {\\{u,v,w\\}}$ construya un **AFD** que acepte todas las cadenas tales que:\n",
    "$$L = \\{ \\enspace xwvyvu : \\enspace x \\in \\{u,v\\}^{*} \\enspace \\land \\enspace y \\in \\{u,w \\\n",
    "\\}^{+} \\enspace \\}$$"
   ]
  },
  {
   "cell_type": "markdown",
   "metadata": {},
   "source": [
    "**NOTA** Dibuje el diagrama de transiciones e implemente el autómata con automata-lib."
   ]
  },
  {
   "cell_type": "markdown",
   "metadata": {},
   "source": [
    "**Diagrama de transiciones:**"
   ]
  },
  {
   "cell_type": "markdown",
   "metadata": {},
   "source": [
    "<img src=\"files/parcial_punto_1.png\" width=\"600\" />"
   ]
  },
  {
   "cell_type": "markdown",
   "metadata": {},
   "source": [
    "**Implementación del autómata con automata-lib**:"
   ]
  },
  {
   "cell_type": "code",
   "execution_count": 15,
   "metadata": {
    "collapsed": false
   },
   "outputs": [],
   "source": [
    "def punto1():\n",
    "    from automatalib.fa.dfa import DFA\n",
    "    d = DFA(\n",
    "        states = {'q0','q1','q2','q3','q4','q5'},\n",
    "        input_symbols = {'u','v','w'},\n",
    "        transitions = {\n",
    "            'q0':{'u':'q0','v':'q0','w':'q1'},\n",
    "            'q1':{'v':'q2'},\n",
    "            'q2':{'u':'q3','w':'q3'},\n",
    "            'q3':{'u':'q3','w':'q3','v':'q4'},\n",
    "            'q4':{'u':'q5'},\n",
    "            'q5':{}\n",
    "        },\n",
    "        initial_state = 'q0',\n",
    "        final_states = {'q5'}\n",
    "    )\n",
    "    return d\n",
    "\n",
    "import urllib, urllib.parse, inspect \n",
    "src1 = urllib.parse.quote_plus(inspect.getsource(punto1))"
   ]
  },
  {
   "cell_type": "markdown",
   "metadata": {},
   "source": [
    "\n",
    "|PALABRAS ACEPTADAS $\\hspace{1.0cm}$ |  PALABRAS RECHAZADAS $\\hspace{1.0cm}$|\n",
    "|------------------------------------|--------------------------------------|\n",
    "|$wvuvu   \\hspace{0.1cm}$           |$wvvuwvu\\hspace{0.1cm}       $           |\n",
    "|$uvwvuwvu         $                    |$uwvuvw\\hspace{0.1cm}     $           |\n",
    "|$uuwvuuvu       $                      |$vuwvwwuv\\hspace{0.1cm} $                   |\n",
    "|$vvwvuwvu   $                        |$wvwvwvuvw\\hspace{0.1cm} $              |\n",
    "|$uvuvwvuwvu       $                 |$uvuvvwvwv\\hspace{0.1cm} $                 |\n",
    "\n"
   ]
  },
  {
   "cell_type": "markdown",
   "metadata": {},
   "source": [
    "#### Evalue su respuesta antes de subirla:\n"
   ]
  },
  {
   "cell_type": "code",
   "execution_count": 16,
   "metadata": {
    "collapsed": false
   },
   "outputs": [
    {
     "name": "stdout",
     "output_type": "stream",
     "text": [
      "testing wrong word:  v is not a valid input symbol\r\n",
      "testing wrong word:  w is not a valid input symbol\r\n",
      "testing wrong word:  the DFA stopped on a non-final state (q4)\r\n",
      "testing wrong word:  w is not a valid input symbol\r\n",
      "testing wrong word:  the DFA stopped on a non-final state (q4)\r\n",
      "evaluation result CORRECT\r\n"
     ]
    }
   ],
   "source": [
    "!./run CHECK_SOLUTION Ev1_1 $src1"
   ]
  },
  {
   "cell_type": "markdown",
   "metadata": {},
   "source": [
    "<div style=\"height:100px;\"></div>"
   ]
  },
  {
   "cell_type": "markdown",
   "metadata": {},
   "source": [
    "# Autómata finito no determinista (AFN)"
   ]
  },
  {
   "cell_type": "markdown",
   "metadata": {},
   "source": [
    "<br><br>\n",
    "**2)** Diseñe un autómata finito NO determinista para el alfabeto $\\Sigma = {\\{o,p,q,r\\}}$ y lenguaje:\n",
    "\n",
    "$$L = \\{ \\enspace qxpyozr: \\enspace x \\in \\{q,p\\}^{*} \\enspace \\land \\enspace y \\in\\{oq\\}^{*} \\enspace \\land \\enspace z \\in \\{p,r\\}^{*} \\enspace \\}$$"
   ]
  },
  {
   "cell_type": "markdown",
   "metadata": {},
   "source": [
    "**NOTA** Dibuje el diagrama de transiciones e implemente el autómata con automata-lib."
   ]
  },
  {
   "cell_type": "markdown",
   "metadata": {},
   "source": [
    "**Diagrama de transiciones:**"
   ]
  },
  {
   "cell_type": "markdown",
   "metadata": {},
   "source": [
    "<img src=\"files/parcial_punto_2.png\" width=\"600\" />"
   ]
  },
  {
   "cell_type": "markdown",
   "metadata": {},
   "source": [
    "**Implementación del autómata con automata-lib**:"
   ]
  },
  {
   "cell_type": "code",
   "execution_count": 17,
   "metadata": {
    "collapsed": true
   },
   "outputs": [],
   "source": [
    "def punto2():\n",
    "    from automatalib.fa.nfa import NFA\n",
    "\n",
    "    d = NFA(\n",
    "        states = {'q0','q1','q2','q3','q4','q5'},\n",
    "        input_symbols = {'o','p','q','r'},\n",
    "        transitions = {\n",
    "            'q0':{'q':{'q1'}},\n",
    "            'q1':{'q':{'q1'},'p':{'q1','q2'}},\n",
    "            'q2':{'o':{'q3','q4'}},\n",
    "            'q3':{'q':{'q2'}},\n",
    "            'q4':{'p':{'q4'},'r':{'q4','q5'}},\n",
    "            'q5':{}\n",
    "        },\n",
    "        initial_state = 'q0',\n",
    "        final_states = {'q5'}\n",
    "    )\n",
    "    return d\n",
    "\n",
    "import urllib, urllib.parse, inspect\n",
    "src2 = urllib.parse.quote_plus(inspect.getsource(punto2))"
   ]
  },
  {
   "cell_type": "markdown",
   "metadata": {},
   "source": [
    "\n",
    "|PALABRAS ACEPTADAS $\\hspace{2.0cm}$ |  PALABRAS RECHAZADAS $\\hspace{2.0cm}$|\n",
    "|------------------------------------|--------------------------------------|\n",
    "|$qpor \\hspace{0.1cm}$       |$qpror\\hspace{0.1cm}       $       |\n",
    "|$qqppor        $                      |$qpoqr\\hspace{0.1cm}                $   |\n",
    "|$qpoqoqopr       $                     |$qporpppqr\\hspace{0.1cm} $             |\n",
    "|$qqppoqorrrr   $                            |$qpoorr\\hspace{0.1cm} $                 |\n",
    "|$qporrrrr       $                       |$qpqqor\\hspace{0.1cm} $          |\n"
   ]
  },
  {
   "cell_type": "markdown",
   "metadata": {},
   "source": [
    "#### Evalue su respuesta antes de subirla:"
   ]
  },
  {
   "cell_type": "code",
   "execution_count": 18,
   "metadata": {
    "collapsed": false,
    "scrolled": false
   },
   "outputs": [
    {
     "name": "stdout",
     "output_type": "stream",
     "text": [
      "testing wrong word:  qpror the NFA stopped on all non-final states ()\r\n",
      "testing wrong word:  qpoqr the NFA stopped on all non-final states ()\r\n",
      "testing wrong word:  qporpppqr the NFA stopped on all non-final states ()\r\n",
      "testing wrong word:  qpoorr the NFA stopped on all non-final states ()\r\n",
      "testing wrong word:  qpqqor the NFA stopped on all non-final states ()\r\n",
      "evaluation result CORRECT\r\n"
     ]
    }
   ],
   "source": [
    "!./run CHECK_SOLUTION Ev1_2 $src2"
   ]
  },
  {
   "cell_type": "markdown",
   "metadata": {},
   "source": [
    "<div style=\"height:100px;\"></div>"
   ]
  },
  {
   "cell_type": "markdown",
   "metadata": {},
   "source": [
    "# Autómata finito con transiciones-$%\\epsilon$$\\varepsilon$"
   ]
  },
  {
   "cell_type": "markdown",
   "metadata": {},
   "source": [
    "**3)** Considere el AFN-$\\varepsilon$ de la tabla 1:\n",
    "- Construya el diagrama de transiciones del AFN-$\\varepsilon$\n",
    "- Convierta el autómata en un AFD y elabore la tabla de transiciones.\n",
    "- Elabore el diagrama de transiciones del AFD.\n",
    "- Implemente el AFD correspondiente con la librería automata-lib."
   ]
  },
  {
   "cell_type": "markdown",
   "metadata": {},
   "source": [
    "<table style=\"border-collapse:collapse; border:1px solid black; width:400px;\">\n",
    "\n",
    "<tr>\n",
    "<td style=\"text-align:center;width:80px;\"></td>\n",
    "<td style=\"text-align:center;width:120px;\">$\\varepsilon$</td>\n",
    "<td style=\"text-align:center;width:120px;\">$i$</td>\n",
    "<td style=\"text-align:center;width:120px;\">$j$</td>\n",
    "<td style=\"text-align:center;width:120px;\">$k$</td>\n",
    "</tr>\n",
    "\n",
    "<tr>\n",
    "<td style=\"text-align:center;\">$\\rightarrow q_0$</td>\n",
    "<td style=\"text-align:center;\">$\\{q_1\\}$</td>\n",
    "<td style=\"text-align:center;\">$\\oslash$</td>\n",
    "<td style=\"text-align:center;\">$\\oslash$</td>\n",
    "<td style=\"text-align:center;\">$\\oslash$</td>\n",
    "</tr>\n",
    "\n",
    "<tr>\n",
    "<td style=\"text-align:center;\">$q_1$</td>\n",
    "<td style=\"text-align:center;\">$\\oslash$</td>\n",
    "<td style=\"text-align:center;\">$\\oslash$</td>\n",
    "<td style=\"text-align:center;\">$\\oslash$</td>\n",
    "<td style=\"text-align:center;\">$\\{q_2,q_4\\}$</td>\n",
    "</tr>\n",
    "\n",
    "<tr>\n",
    "<td style=\"text-align:center;\">$q_2$</td>\n",
    "<td style=\"text-align:center;\">$\\{q_3\\}$</td>\n",
    "<td style=\"text-align:center;\">$\\oslash$</td>\n",
    "<td style=\"text-align:center;\">$\\oslash$</td>\n",
    "<td style=\"text-align:center;\">$\\{q_2\\}$</td>\n",
    "</tr>\n",
    "\n",
    "<tr>\n",
    "<td style=\"text-align:center;\">$*q_3$</td>\n",
    "<td style=\"text-align:center;\">$\\oslash$</td>\n",
    "<td style=\"text-align:center;\">$\\oslash$</td>\n",
    "<td style=\"text-align:center;\">$\\{q_3\\}$</td>\n",
    "<td style=\"text-align:center;\">$\\{q_3\\}$</td>\n",
    "</tr>\n",
    "\n",
    "<tr>\n",
    "<td style=\"text-align:center;\">$*q_4$</td>\n",
    "<td style=\"text-align:center;\">$\\oslash$</td>\n",
    "<td style=\"text-align:center;\">$\\{q_5\\}$</td>\n",
    "<td style=\"text-align:center;\">$\\oslash$</td>\n",
    "<td style=\"text-align:center;\">$\\oslash$</td>\n",
    "</tr>\n",
    "\n",
    "<tr>\n",
    "<td style=\"text-align:center;\">$q_5$</td>\n",
    "<td style=\"text-align:center;\">$\\oslash$</td>\n",
    "<td style=\"text-align:center;\">$\\oslash$</td>\n",
    "<td style=\"text-align:center;\">$\\{q_4\\}$</td>\n",
    "<td style=\"text-align:center;\">$\\oslash$</td>\n",
    "</tr>\n",
    "\n",
    "</table>\n",
    "<br>\n",
    "<center><div>Tabla 1. Tabla de transiciones AFN-$\\varepsilon$</div></center>"
   ]
  },
  {
   "cell_type": "markdown",
   "metadata": {},
   "source": [
    "**a) Diagrama de transiciones del AFN-$\\varepsilon$ correspondiente**:"
   ]
  },
  {
   "cell_type": "markdown",
   "metadata": {},
   "source": [
    "<img src=\"files/parcial_punto_3a.png\" width=\"600\" />"
   ]
  },
  {
   "cell_type": "markdown",
   "metadata": {},
   "source": [
    "**b) Tabla del AFD correspondiente**"
   ]
  },
  {
   "cell_type": "markdown",
   "metadata": {},
   "source": [
    "<table style=\"border-collapse:collapse; border:1px solid black; width:400px;\">\n",
    "\n",
    "<tr>\n",
    "<td style=\"text-align:center;width:80px;\"></td>\n",
    "<td style=\"text-align:center;width:120px;\">$i$</td>\n",
    "<td style=\"text-align:center;width:120px;\">$j$</td>\n",
    "<td style=\"text-align:center;width:120px;\">$k$</td>\n",
    "</tr>\n",
    "\n",
    "<tr>\n",
    "<td style=\"text-align:center;\">$\\rightarrow q_0q_1$</td>\n",
    "<td style=\"text-align:center;\">$\\oslash$</td>\n",
    "<td style=\"text-align:center;\">$\\oslash$</td>\n",
    "<td style=\"text-align:center;\">$\\ q_2q_3q_4$</td>\n",
    "</tr>\n",
    "\n",
    "<tr>\n",
    "<td style=\"text-align:center;\">$* q_2q_3q_4$</td>\n",
    "<td style=\"text-align:center;\">$\\ q_5$</td>\n",
    "<td style=\"text-align:center;\">$\\ q_3$</td>\n",
    "<td style=\"text-align:center;\">$\\ q_2q_3$</td>\n",
    "</tr>\n",
    "\n",
    "<tr>\n",
    "<td style=\"text-align:center;\">$* q_2q_3$</td>\n",
    "<td style=\"text-align:center;\">$\\oslash$</td>\n",
    "<td style=\"text-align:center;\">$\\ q_3$</td>\n",
    "<td style=\"text-align:center;\">$\\ q_2q_3$</td>\n",
    "</tr>\n",
    "\n",
    "<tr>\n",
    "<td style=\"text-align:center;\">$* q_3$</td>\n",
    "<td style=\"text-align:center;\">$\\oslash$</td>\n",
    "<td style=\"text-align:center;\">$\\ q_3$</td>\n",
    "<td style=\"text-align:center;\">$\\ q_3$</td>\n",
    "</tr>\n",
    "\n",
    "<tr>\n",
    "<td style=\"text-align:center;\">$* q_4$</td>\n",
    "<td style=\"text-align:center;\">$\\ q_5$</td>\n",
    "<td style=\"text-align:center;\">$\\oslash$</td>\n",
    "<td style=\"text-align:center;\">$\\oslash$</td>\n",
    "</tr>\n",
    "\n",
    "<tr>\n",
    "<td style=\"text-align:center;\">$ q_5$</td>\n",
    "<td style=\"text-align:center;\">$\\oslash$</td>\n",
    "<td style=\"text-align:center;\">$\\ q_4$</td>\n",
    "<td style=\"text-align:center;\">$\\oslash$</td>\n",
    "</tr>\n",
    "\n",
    "</table>\n",
    "<br>\n",
    "<center><div>Tabla 2. Tabla del AFD correspondiente</div></center>"
   ]
  },
  {
   "cell_type": "markdown",
   "metadata": {},
   "source": [
    "**c) Diagrama de transiciones del AFD correspondiente:**"
   ]
  },
  {
   "cell_type": "markdown",
   "metadata": {},
   "source": [
    "<img src=\"files/punto_parcial_3c.png\" width=\"600\" />"
   ]
  },
  {
   "cell_type": "markdown",
   "metadata": {},
   "source": [
    "<br><br>\n",
    "**d) Implementación del AFD con automata-lib**:"
   ]
  },
  {
   "cell_type": "code",
   "execution_count": 19,
   "metadata": {
    "collapsed": false
   },
   "outputs": [],
   "source": [
    "def punto3():\n",
    "    from automatalib.fa.dfa import DFA\n",
    "\n",
    "    d = DFA(\n",
    "        states = {'q0q1','q2q3q4','q5','q4','q3','q2q3'},\n",
    "        input_symbols = {'i','j','k'},\n",
    "        transitions = {\n",
    "            'q0q1':{'k':'q2q3q4'},\n",
    "            'q2q3q4':{'i':'q5','j':'q3','k':'q2q3'},\n",
    "            'q5':{'j':'q4'},\n",
    "            'q4':{'i':'q5'},\n",
    "            'q3':{'j':'q3','k':'q3'},\n",
    "            'q2q3':{'k':'q2q3','j':'q3'}\n",
    "        },\n",
    "        initial_state = 'q0q1',\n",
    "        final_states = {'q3','q4','q2q3','q2q3q4'}\n",
    "    )\n",
    "    return d\n",
    "\n",
    "import urllib, urllib.parse, inspect \n",
    "src3 = urllib.parse.quote_plus(inspect.getsource(punto3))"
   ]
  },
  {
   "cell_type": "markdown",
   "metadata": {},
   "source": [
    "\n",
    "|PALABRAS ACEPTADAS $\\hspace{2.0cm}$ |  PALABRAS RECHAZADAS $\\hspace{2.0cm}$|\n",
    "|------------------------------------|--------------------------------------|\n",
    "|$k     \\hspace{0.1cm}$             |$kii\\hspace{0.1cm}       $    |\n",
    "|$kj         $                       |$kijj\\hspace{0.1cm}            $ |\n",
    "|$kk             $                |$kijk\\hspace{0.1cm} $                  |\n",
    "|$kkj   $                      |$kki\\hspace{0.1cm} $             |\n",
    "|$kij          $                 |$kji\\hspace{0.1cm} $               |\n",
    "\n"
   ]
  },
  {
   "cell_type": "markdown",
   "metadata": {},
   "source": [
    "#### Evalue su respuesta antes de subirla:"
   ]
  },
  {
   "cell_type": "code",
   "execution_count": 20,
   "metadata": {
    "collapsed": false
   },
   "outputs": [
    {
     "name": "stdout",
     "output_type": "stream",
     "text": [
      "testing wrong word:  i is not a valid input symbol\r\n",
      "testing wrong word:  j is not a valid input symbol\r\n",
      "testing wrong word:  k is not a valid input symbol\r\n",
      "testing wrong word:  i is not a valid input symbol\r\n",
      "testing wrong word:  i is not a valid input symbol\r\n",
      "evaluation result CORRECT\r\n"
     ]
    }
   ],
   "source": [
    "!./run CHECK_SOLUTION Ev1_3 $src3"
   ]
  },
  {
   "cell_type": "markdown",
   "metadata": {},
   "source": [
    "<div style=\"height:100px;\"></div>"
   ]
  },
  {
   "cell_type": "markdown",
   "metadata": {},
   "source": [
    "<h2><span style=\"color:#FFF; background-color:#F00; font-weight:bold; padding:4px;\">¡IMPORTANTE!</span> Ejecute la siguiente celda para guardar sus cambios en este notebook:</h2>"
   ]
  },
  {
   "cell_type": "code",
   "execution_count": 21,
   "metadata": {
    "collapsed": false
   },
   "outputs": [
    {
     "data": {
      "application/javascript": [
       "require([\"base/js/namespace\"],function(Jupyter) {\n",
       "    Jupyter.notebook.save_checkpoint();\n",
       "});"
      ],
      "text/plain": [
       "<IPython.core.display.Javascript object>"
      ]
     },
     "metadata": {},
     "output_type": "display_data"
    }
   ],
   "source": [
    "%%javascript\n",
    "require([\"base/js/namespace\"],function(Jupyter) {\n",
    "    Jupyter.notebook.save_checkpoint();\n",
    "});"
   ]
  },
  {
   "cell_type": "markdown",
   "metadata": {
    "collapsed": true
   },
   "source": [
    "<div style=\"height:100px;\"></div>"
   ]
  },
  {
   "cell_type": "markdown",
   "metadata": {
    "collapsed": true
   },
   "source": [
    "<p style=\"font-size:20px;font-weight:bold;\"><span style=\"color:#FFF; background-color:#080; font-weight:bold; padding:4px;\">PASO FINAL</span></p>"
   ]
  },
  {
   "cell_type": "markdown",
   "metadata": {
    "collapsed": true
   },
   "source": [
    "<p style=\"font-size:20px;font-weight:bold;\">Por favor reemplazar el contenido de la variable con su código de estudiante y ejecutar la celda:</p>"
   ]
  },
  {
   "cell_type": "code",
   "execution_count": 22,
   "metadata": {
    "collapsed": true
   },
   "outputs": [],
   "source": [
    "codigo=2181969"
   ]
  },
  {
   "cell_type": "markdown",
   "metadata": {
    "collapsed": true
   },
   "source": [
    "<p style=\"font-size:20px;font-weight:bold;\">Ejecute esta celda para empaquetar su trabajo. Este se guardará un nivel afuera de la carpeta actual.</p>"
   ]
  },
  {
   "cell_type": "code",
   "execution_count": null,
   "metadata": {
    "collapsed": false
   },
   "outputs": [],
   "source": [
    "!./empaquetar.sh $codigo"
   ]
  }
 ],
 "metadata": {
  "kernelspec": {
   "display_name": "Python 3",
   "language": "python",
   "name": "python3"
  },
  "language_info": {
   "codemirror_mode": {
    "name": "ipython",
    "version": 3
   },
   "file_extension": ".py",
   "mimetype": "text/x-python",
   "name": "python",
   "nbconvert_exporter": "python",
   "pygments_lexer": "ipython3",
   "version": "3.6.2"
  }
 },
 "nbformat": 4,
 "nbformat_minor": 1
}
